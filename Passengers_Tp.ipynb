{
  "nbformat": 4,
  "nbformat_minor": 0,
  "metadata": {
    "colab": {
      "provenance": [],
      "collapsed_sections": [],
      "include_colab_link": true
    },
    "kernelspec": {
      "name": "python3",
      "display_name": "Python 3"
    },
    "language_info": {
      "name": "python"
    }
  },
  "cells": [
    {
      "cell_type": "markdown",
      "metadata": {
        "id": "view-in-github",
        "colab_type": "text"
      },
      "source": [
        "<a href=\"https://colab.research.google.com/github/Faouzi-Slimi/python_Avancee/blob/main/Passengers_Tp.ipynb\" target=\"_parent\"><img src=\"https://colab.research.google.com/assets/colab-badge.svg\" alt=\"Open In Colab\"/></a>"
      ]
    },
    {
      "cell_type": "markdown",
      "source": [
        "## Prepare Data"
      ],
      "metadata": {
        "id": "j5BZK6UTDO2c"
      }
    },
    {
      "cell_type": "code",
      "execution_count": 93,
      "metadata": {
        "id": "2v_eDQ3R9B7B"
      },
      "outputs": [],
      "source": [
        "# Import Packages\n",
        "from sklearn.preprocessing import MinMaxScaler\n",
        "import tensorflow as tf\n",
        "import pandas as pd \n",
        "import numpy as np\n",
        "from PIL import Image\n",
        "import os\n",
        "import cv2\n",
        "import matplotlib.pyplot as plt\n",
        "from sklearn.model_selection import train_test_split\n",
        "from tensorflow.keras.utils import to_categorical\n",
        "from keras import layers,Sequential\n",
        "from tensorflow.keras.callbacks import EarlyStopping\n",
        "from sklearn.preprocessing import LabelEncoder\n",
        "from tensorflow.keras.preprocessing.text import Tokenizer\n",
        "from sklearn import preprocessing\n",
        "\n",
        "import time\n",
        "from sklearn.preprocessing import StandardScaler, LabelEncoder\n",
        "from sklearn.ensemble import RandomForestClassifier\n",
        "from sklearn.metrics import accuracy_score\n",
        "import matplotlib.pyplot as plt\n",
        "from numpy import array\n",
        "import pandas as pd\n",
        "import numpy as np\n",
        "import seaborn as sns\n",
        "import glob\n",
        "import seaborn as sns\n",
        "from sklearn.model_selection import train_test_split\n",
        "from sklearn.preprocessing import LabelEncoder\n",
        "from keras.preprocessing.text import Tokenizer\n",
        "from keras.preprocessing import sequence\n",
        "from tensorflow.keras import layers\n",
        "from keras.layers import Embedding\n",
        "from tensorflow.keras.layers import LSTM,Bidirectional,GRU\n",
        "\n",
        "from tensorflow.keras.layers import Dense\n",
        "from tensorflow.keras import optimizers"
      ]
    },
    {
      "cell_type": "code",
      "source": [
        "# Connect to drive\n",
        "from google.colab import drive\n",
        "drive.mount('/content/drive')"
      ],
      "metadata": {
        "colab": {
          "base_uri": "https://localhost:8080/"
        },
        "id": "FGhPR13sDpcq",
        "outputId": "95df0293-5793-4488-c898-777635cd3d84"
      },
      "execution_count": 4,
      "outputs": [
        {
          "output_type": "stream",
          "name": "stdout",
          "text": [
            "Mounted at /content/drive\n"
          ]
        }
      ]
    },
    {
      "cell_type": "code",
      "source": [
        "# Import Data\n",
        "\n",
        "data = pd.read_csv('/content/drive/MyDrive/air122.csv')"
      ],
      "metadata": {
        "id": "3X1vMaH69LIV"
      },
      "execution_count": 5,
      "outputs": []
    },
    {
      "cell_type": "code",
      "source": [
        "# Check Data\n",
        "data\n"
      ],
      "metadata": {
        "colab": {
          "base_uri": "https://localhost:8080/",
          "height": 424
        },
        "id": "WUDY1mpd9p8l",
        "outputId": "75663548-8194-4280-bbc3-278d5ecbba67"
      },
      "execution_count": 6,
      "outputs": [
        {
          "output_type": "execute_result",
          "data": {
            "text/plain": [
              "       Month  Passengers\n",
              "0    1949-01         112\n",
              "1    1949-02         118\n",
              "2    1949-03         132\n",
              "3    1949-04         129\n",
              "4    1949-05         121\n",
              "..       ...         ...\n",
              "139  1960-08         606\n",
              "140  1960-09         508\n",
              "141  1960-10         461\n",
              "142  1960-11         390\n",
              "143  1960-12         432\n",
              "\n",
              "[144 rows x 2 columns]"
            ],
            "text/html": [
              "\n",
              "  <div id=\"df-e3c221ed-092a-43ef-ae13-8761f709c65a\">\n",
              "    <div class=\"colab-df-container\">\n",
              "      <div>\n",
              "<style scoped>\n",
              "    .dataframe tbody tr th:only-of-type {\n",
              "        vertical-align: middle;\n",
              "    }\n",
              "\n",
              "    .dataframe tbody tr th {\n",
              "        vertical-align: top;\n",
              "    }\n",
              "\n",
              "    .dataframe thead th {\n",
              "        text-align: right;\n",
              "    }\n",
              "</style>\n",
              "<table border=\"1\" class=\"dataframe\">\n",
              "  <thead>\n",
              "    <tr style=\"text-align: right;\">\n",
              "      <th></th>\n",
              "      <th>Month</th>\n",
              "      <th>Passengers</th>\n",
              "    </tr>\n",
              "  </thead>\n",
              "  <tbody>\n",
              "    <tr>\n",
              "      <th>0</th>\n",
              "      <td>1949-01</td>\n",
              "      <td>112</td>\n",
              "    </tr>\n",
              "    <tr>\n",
              "      <th>1</th>\n",
              "      <td>1949-02</td>\n",
              "      <td>118</td>\n",
              "    </tr>\n",
              "    <tr>\n",
              "      <th>2</th>\n",
              "      <td>1949-03</td>\n",
              "      <td>132</td>\n",
              "    </tr>\n",
              "    <tr>\n",
              "      <th>3</th>\n",
              "      <td>1949-04</td>\n",
              "      <td>129</td>\n",
              "    </tr>\n",
              "    <tr>\n",
              "      <th>4</th>\n",
              "      <td>1949-05</td>\n",
              "      <td>121</td>\n",
              "    </tr>\n",
              "    <tr>\n",
              "      <th>...</th>\n",
              "      <td>...</td>\n",
              "      <td>...</td>\n",
              "    </tr>\n",
              "    <tr>\n",
              "      <th>139</th>\n",
              "      <td>1960-08</td>\n",
              "      <td>606</td>\n",
              "    </tr>\n",
              "    <tr>\n",
              "      <th>140</th>\n",
              "      <td>1960-09</td>\n",
              "      <td>508</td>\n",
              "    </tr>\n",
              "    <tr>\n",
              "      <th>141</th>\n",
              "      <td>1960-10</td>\n",
              "      <td>461</td>\n",
              "    </tr>\n",
              "    <tr>\n",
              "      <th>142</th>\n",
              "      <td>1960-11</td>\n",
              "      <td>390</td>\n",
              "    </tr>\n",
              "    <tr>\n",
              "      <th>143</th>\n",
              "      <td>1960-12</td>\n",
              "      <td>432</td>\n",
              "    </tr>\n",
              "  </tbody>\n",
              "</table>\n",
              "<p>144 rows × 2 columns</p>\n",
              "</div>\n",
              "      <button class=\"colab-df-convert\" onclick=\"convertToInteractive('df-e3c221ed-092a-43ef-ae13-8761f709c65a')\"\n",
              "              title=\"Convert this dataframe to an interactive table.\"\n",
              "              style=\"display:none;\">\n",
              "        \n",
              "  <svg xmlns=\"http://www.w3.org/2000/svg\" height=\"24px\"viewBox=\"0 0 24 24\"\n",
              "       width=\"24px\">\n",
              "    <path d=\"M0 0h24v24H0V0z\" fill=\"none\"/>\n",
              "    <path d=\"M18.56 5.44l.94 2.06.94-2.06 2.06-.94-2.06-.94-.94-2.06-.94 2.06-2.06.94zm-11 1L8.5 8.5l.94-2.06 2.06-.94-2.06-.94L8.5 2.5l-.94 2.06-2.06.94zm10 10l.94 2.06.94-2.06 2.06-.94-2.06-.94-.94-2.06-.94 2.06-2.06.94z\"/><path d=\"M17.41 7.96l-1.37-1.37c-.4-.4-.92-.59-1.43-.59-.52 0-1.04.2-1.43.59L10.3 9.45l-7.72 7.72c-.78.78-.78 2.05 0 2.83L4 21.41c.39.39.9.59 1.41.59.51 0 1.02-.2 1.41-.59l7.78-7.78 2.81-2.81c.8-.78.8-2.07 0-2.86zM5.41 20L4 18.59l7.72-7.72 1.47 1.35L5.41 20z\"/>\n",
              "  </svg>\n",
              "      </button>\n",
              "      \n",
              "  <style>\n",
              "    .colab-df-container {\n",
              "      display:flex;\n",
              "      flex-wrap:wrap;\n",
              "      gap: 12px;\n",
              "    }\n",
              "\n",
              "    .colab-df-convert {\n",
              "      background-color: #E8F0FE;\n",
              "      border: none;\n",
              "      border-radius: 50%;\n",
              "      cursor: pointer;\n",
              "      display: none;\n",
              "      fill: #1967D2;\n",
              "      height: 32px;\n",
              "      padding: 0 0 0 0;\n",
              "      width: 32px;\n",
              "    }\n",
              "\n",
              "    .colab-df-convert:hover {\n",
              "      background-color: #E2EBFA;\n",
              "      box-shadow: 0px 1px 2px rgba(60, 64, 67, 0.3), 0px 1px 3px 1px rgba(60, 64, 67, 0.15);\n",
              "      fill: #174EA6;\n",
              "    }\n",
              "\n",
              "    [theme=dark] .colab-df-convert {\n",
              "      background-color: #3B4455;\n",
              "      fill: #D2E3FC;\n",
              "    }\n",
              "\n",
              "    [theme=dark] .colab-df-convert:hover {\n",
              "      background-color: #434B5C;\n",
              "      box-shadow: 0px 1px 3px 1px rgba(0, 0, 0, 0.15);\n",
              "      filter: drop-shadow(0px 1px 2px rgba(0, 0, 0, 0.3));\n",
              "      fill: #FFFFFF;\n",
              "    }\n",
              "  </style>\n",
              "\n",
              "      <script>\n",
              "        const buttonEl =\n",
              "          document.querySelector('#df-e3c221ed-092a-43ef-ae13-8761f709c65a button.colab-df-convert');\n",
              "        buttonEl.style.display =\n",
              "          google.colab.kernel.accessAllowed ? 'block' : 'none';\n",
              "\n",
              "        async function convertToInteractive(key) {\n",
              "          const element = document.querySelector('#df-e3c221ed-092a-43ef-ae13-8761f709c65a');\n",
              "          const dataTable =\n",
              "            await google.colab.kernel.invokeFunction('convertToInteractive',\n",
              "                                                     [key], {});\n",
              "          if (!dataTable) return;\n",
              "\n",
              "          const docLinkHtml = 'Like what you see? Visit the ' +\n",
              "            '<a target=\"_blank\" href=https://colab.research.google.com/notebooks/data_table.ipynb>data table notebook</a>'\n",
              "            + ' to learn more about interactive tables.';\n",
              "          element.innerHTML = '';\n",
              "          dataTable['output_type'] = 'display_data';\n",
              "          await google.colab.output.renderOutput(dataTable, element);\n",
              "          const docLink = document.createElement('div');\n",
              "          docLink.innerHTML = docLinkHtml;\n",
              "          element.appendChild(docLink);\n",
              "        }\n",
              "      </script>\n",
              "    </div>\n",
              "  </div>\n",
              "  "
            ]
          },
          "metadata": {},
          "execution_count": 6
        }
      ]
    },
    {
      "cell_type": "code",
      "source": [
        "# Check \"Month\" column type\n",
        "data['Month'].dtype"
      ],
      "metadata": {
        "colab": {
          "base_uri": "https://localhost:8080/"
        },
        "id": "vu8zlna6-L1B",
        "outputId": "68a8cf0a-b2bc-45d4-85e6-73c523fb15f4"
      },
      "execution_count": 7,
      "outputs": [
        {
          "output_type": "execute_result",
          "data": {
            "text/plain": [
              "dtype('O')"
            ]
          },
          "metadata": {},
          "execution_count": 7
        }
      ]
    },
    {
      "cell_type": "code",
      "source": [
        "## Reset Index\n",
        "\n",
        "data= data.reset_index()"
      ],
      "metadata": {
        "id": "jQd_PZCeCcux"
      },
      "execution_count": 8,
      "outputs": []
    },
    {
      "cell_type": "code",
      "source": [
        "# Check Data\n",
        "data.head(16)"
      ],
      "metadata": {
        "colab": {
          "base_uri": "https://localhost:8080/",
          "height": 551
        },
        "id": "9BbP9gDzDGbM",
        "outputId": "29f098a5-5bdd-4902-c557-71c566fc0ce9"
      },
      "execution_count": 9,
      "outputs": [
        {
          "output_type": "execute_result",
          "data": {
            "text/plain": [
              "    index    Month  Passengers\n",
              "0       0  1949-01         112\n",
              "1       1  1949-02         118\n",
              "2       2  1949-03         132\n",
              "3       3  1949-04         129\n",
              "4       4  1949-05         121\n",
              "5       5  1949-06         135\n",
              "6       6  1949-07         148\n",
              "7       7  1949-08         148\n",
              "8       8  1949-09         136\n",
              "9       9  1949-10         119\n",
              "10     10  1949-11         104\n",
              "11     11  1949-12         118\n",
              "12     12  1950-01         115\n",
              "13     13  1950-02         126\n",
              "14     14  1950-03         141\n",
              "15     15  1950-04         135"
            ],
            "text/html": [
              "\n",
              "  <div id=\"df-f5e1b53b-fb97-48bb-bfcf-549b2581d138\">\n",
              "    <div class=\"colab-df-container\">\n",
              "      <div>\n",
              "<style scoped>\n",
              "    .dataframe tbody tr th:only-of-type {\n",
              "        vertical-align: middle;\n",
              "    }\n",
              "\n",
              "    .dataframe tbody tr th {\n",
              "        vertical-align: top;\n",
              "    }\n",
              "\n",
              "    .dataframe thead th {\n",
              "        text-align: right;\n",
              "    }\n",
              "</style>\n",
              "<table border=\"1\" class=\"dataframe\">\n",
              "  <thead>\n",
              "    <tr style=\"text-align: right;\">\n",
              "      <th></th>\n",
              "      <th>index</th>\n",
              "      <th>Month</th>\n",
              "      <th>Passengers</th>\n",
              "    </tr>\n",
              "  </thead>\n",
              "  <tbody>\n",
              "    <tr>\n",
              "      <th>0</th>\n",
              "      <td>0</td>\n",
              "      <td>1949-01</td>\n",
              "      <td>112</td>\n",
              "    </tr>\n",
              "    <tr>\n",
              "      <th>1</th>\n",
              "      <td>1</td>\n",
              "      <td>1949-02</td>\n",
              "      <td>118</td>\n",
              "    </tr>\n",
              "    <tr>\n",
              "      <th>2</th>\n",
              "      <td>2</td>\n",
              "      <td>1949-03</td>\n",
              "      <td>132</td>\n",
              "    </tr>\n",
              "    <tr>\n",
              "      <th>3</th>\n",
              "      <td>3</td>\n",
              "      <td>1949-04</td>\n",
              "      <td>129</td>\n",
              "    </tr>\n",
              "    <tr>\n",
              "      <th>4</th>\n",
              "      <td>4</td>\n",
              "      <td>1949-05</td>\n",
              "      <td>121</td>\n",
              "    </tr>\n",
              "    <tr>\n",
              "      <th>5</th>\n",
              "      <td>5</td>\n",
              "      <td>1949-06</td>\n",
              "      <td>135</td>\n",
              "    </tr>\n",
              "    <tr>\n",
              "      <th>6</th>\n",
              "      <td>6</td>\n",
              "      <td>1949-07</td>\n",
              "      <td>148</td>\n",
              "    </tr>\n",
              "    <tr>\n",
              "      <th>7</th>\n",
              "      <td>7</td>\n",
              "      <td>1949-08</td>\n",
              "      <td>148</td>\n",
              "    </tr>\n",
              "    <tr>\n",
              "      <th>8</th>\n",
              "      <td>8</td>\n",
              "      <td>1949-09</td>\n",
              "      <td>136</td>\n",
              "    </tr>\n",
              "    <tr>\n",
              "      <th>9</th>\n",
              "      <td>9</td>\n",
              "      <td>1949-10</td>\n",
              "      <td>119</td>\n",
              "    </tr>\n",
              "    <tr>\n",
              "      <th>10</th>\n",
              "      <td>10</td>\n",
              "      <td>1949-11</td>\n",
              "      <td>104</td>\n",
              "    </tr>\n",
              "    <tr>\n",
              "      <th>11</th>\n",
              "      <td>11</td>\n",
              "      <td>1949-12</td>\n",
              "      <td>118</td>\n",
              "    </tr>\n",
              "    <tr>\n",
              "      <th>12</th>\n",
              "      <td>12</td>\n",
              "      <td>1950-01</td>\n",
              "      <td>115</td>\n",
              "    </tr>\n",
              "    <tr>\n",
              "      <th>13</th>\n",
              "      <td>13</td>\n",
              "      <td>1950-02</td>\n",
              "      <td>126</td>\n",
              "    </tr>\n",
              "    <tr>\n",
              "      <th>14</th>\n",
              "      <td>14</td>\n",
              "      <td>1950-03</td>\n",
              "      <td>141</td>\n",
              "    </tr>\n",
              "    <tr>\n",
              "      <th>15</th>\n",
              "      <td>15</td>\n",
              "      <td>1950-04</td>\n",
              "      <td>135</td>\n",
              "    </tr>\n",
              "  </tbody>\n",
              "</table>\n",
              "</div>\n",
              "      <button class=\"colab-df-convert\" onclick=\"convertToInteractive('df-f5e1b53b-fb97-48bb-bfcf-549b2581d138')\"\n",
              "              title=\"Convert this dataframe to an interactive table.\"\n",
              "              style=\"display:none;\">\n",
              "        \n",
              "  <svg xmlns=\"http://www.w3.org/2000/svg\" height=\"24px\"viewBox=\"0 0 24 24\"\n",
              "       width=\"24px\">\n",
              "    <path d=\"M0 0h24v24H0V0z\" fill=\"none\"/>\n",
              "    <path d=\"M18.56 5.44l.94 2.06.94-2.06 2.06-.94-2.06-.94-.94-2.06-.94 2.06-2.06.94zm-11 1L8.5 8.5l.94-2.06 2.06-.94-2.06-.94L8.5 2.5l-.94 2.06-2.06.94zm10 10l.94 2.06.94-2.06 2.06-.94-2.06-.94-.94-2.06-.94 2.06-2.06.94z\"/><path d=\"M17.41 7.96l-1.37-1.37c-.4-.4-.92-.59-1.43-.59-.52 0-1.04.2-1.43.59L10.3 9.45l-7.72 7.72c-.78.78-.78 2.05 0 2.83L4 21.41c.39.39.9.59 1.41.59.51 0 1.02-.2 1.41-.59l7.78-7.78 2.81-2.81c.8-.78.8-2.07 0-2.86zM5.41 20L4 18.59l7.72-7.72 1.47 1.35L5.41 20z\"/>\n",
              "  </svg>\n",
              "      </button>\n",
              "      \n",
              "  <style>\n",
              "    .colab-df-container {\n",
              "      display:flex;\n",
              "      flex-wrap:wrap;\n",
              "      gap: 12px;\n",
              "    }\n",
              "\n",
              "    .colab-df-convert {\n",
              "      background-color: #E8F0FE;\n",
              "      border: none;\n",
              "      border-radius: 50%;\n",
              "      cursor: pointer;\n",
              "      display: none;\n",
              "      fill: #1967D2;\n",
              "      height: 32px;\n",
              "      padding: 0 0 0 0;\n",
              "      width: 32px;\n",
              "    }\n",
              "\n",
              "    .colab-df-convert:hover {\n",
              "      background-color: #E2EBFA;\n",
              "      box-shadow: 0px 1px 2px rgba(60, 64, 67, 0.3), 0px 1px 3px 1px rgba(60, 64, 67, 0.15);\n",
              "      fill: #174EA6;\n",
              "    }\n",
              "\n",
              "    [theme=dark] .colab-df-convert {\n",
              "      background-color: #3B4455;\n",
              "      fill: #D2E3FC;\n",
              "    }\n",
              "\n",
              "    [theme=dark] .colab-df-convert:hover {\n",
              "      background-color: #434B5C;\n",
              "      box-shadow: 0px 1px 3px 1px rgba(0, 0, 0, 0.15);\n",
              "      filter: drop-shadow(0px 1px 2px rgba(0, 0, 0, 0.3));\n",
              "      fill: #FFFFFF;\n",
              "    }\n",
              "  </style>\n",
              "\n",
              "      <script>\n",
              "        const buttonEl =\n",
              "          document.querySelector('#df-f5e1b53b-fb97-48bb-bfcf-549b2581d138 button.colab-df-convert');\n",
              "        buttonEl.style.display =\n",
              "          google.colab.kernel.accessAllowed ? 'block' : 'none';\n",
              "\n",
              "        async function convertToInteractive(key) {\n",
              "          const element = document.querySelector('#df-f5e1b53b-fb97-48bb-bfcf-549b2581d138');\n",
              "          const dataTable =\n",
              "            await google.colab.kernel.invokeFunction('convertToInteractive',\n",
              "                                                     [key], {});\n",
              "          if (!dataTable) return;\n",
              "\n",
              "          const docLinkHtml = 'Like what you see? Visit the ' +\n",
              "            '<a target=\"_blank\" href=https://colab.research.google.com/notebooks/data_table.ipynb>data table notebook</a>'\n",
              "            + ' to learn more about interactive tables.';\n",
              "          element.innerHTML = '';\n",
              "          dataTable['output_type'] = 'display_data';\n",
              "          await google.colab.output.renderOutput(dataTable, element);\n",
              "          const docLink = document.createElement('div');\n",
              "          docLink.innerHTML = docLinkHtml;\n",
              "          element.appendChild(docLink);\n",
              "        }\n",
              "      </script>\n",
              "    </div>\n",
              "  </div>\n",
              "  "
            ]
          },
          "metadata": {},
          "execution_count": 9
        }
      ]
    },
    {
      "cell_type": "code",
      "source": [
        "\n",
        "seq = data[\"Passengers\"]\n",
        "x = seq[0:-1]\n",
        "y = seq[1:]\n",
        "\n",
        "x = np.array(x)\n",
        "y = np.array(y)\n",
        "\n",
        "x3 = [ float(i) for i in x]\n",
        "\n",
        "x4 = np.array(x3)\n",
        "x5 = x4.reshape(x4.shape[0],1)\n",
        "\n",
        "\n",
        "\n",
        "\n",
        "\n",
        "ft = MinMaxScaler()\n",
        "ft.fit(x5)\n",
        "\n",
        "\n",
        "\n",
        "x1 = ft.transform(x5)\n",
        "\n",
        "x2 = np.array(x1)\n",
        "x2 = x2.reshape(x2.shape[0],1,1)\n"
      ],
      "metadata": {
        "id": "nAWJ9ofUpR6g"
      },
      "execution_count": 144,
      "outputs": []
    },
    {
      "cell_type": "code",
      "source": [
        "## Split Data\n",
        "\n",
        "xtrain, xtest, ytrain, ytest= train_test_split(x2,y,test_size=0.1, random_state=0)"
      ],
      "metadata": {
        "id": "sKIxfUwEGFL4"
      },
      "execution_count": 140,
      "outputs": []
    },
    {
      "cell_type": "code",
      "source": [],
      "metadata": {
        "id": "WA1Bd5ZVpEba"
      },
      "execution_count": null,
      "outputs": []
    },
    {
      "cell_type": "code",
      "source": [
        "# Check Shape\n",
        "\n",
        "\n",
        "xtrain.shape, ytrain.shape,xtest.shape,ytest.shape"
      ],
      "metadata": {
        "colab": {
          "base_uri": "https://localhost:8080/"
        },
        "id": "5Un-qctrG9Pd",
        "outputId": "dbd6f223-cf58-4350-eea0-62757324a0da"
      },
      "execution_count": 141,
      "outputs": [
        {
          "output_type": "execute_result",
          "data": {
            "text/plain": [
              "((128, 1, 1), (128,), (15, 1, 1), (15,))"
            ]
          },
          "metadata": {},
          "execution_count": 141
        }
      ]
    },
    {
      "cell_type": "markdown",
      "source": [
        "## Lsmt_Model"
      ],
      "metadata": {
        "id": "IXXKEnlKF_je"
      }
    },
    {
      "cell_type": "code",
      "source": [
        "from keras.backend import dropout\n",
        "from keras.layers.convolutional import activations\n",
        "\n",
        "\n",
        "# Create model\n",
        "\n",
        "Lstm_Model = Sequential()\n",
        "Lstm_Model.add(LSTM(units=10,input_shape=(1,1)))\n",
        "\n",
        "Lstm_Model.add(Dense(1,activation=\"sigmoid\"))"
      ],
      "metadata": {
        "id": "GFSDHbzvGo30"
      },
      "execution_count": 142,
      "outputs": []
    },
    {
      "cell_type": "code",
      "source": [
        "# Compile Model\n",
        "Lstm_Model.compile(loss=tf.keras.losses.MeanSquaredError(), optimizer=tf.keras.optimizers.Adam(learning_rate=0.01),metrics=['mae','mse'])\n",
        "# Fit Model\n",
        "Lstm_History = Lstm_Model.fit(xtrain,  ytrain,validation_data=(xtest,ytest), epochs=95,batch_size=8)"
      ],
      "metadata": {
        "colab": {
          "base_uri": "https://localhost:8080/"
        },
        "id": "6kPllYvPG2fN",
        "outputId": "4280c81b-c2a2-4c6a-9468-7fad110c8e8c"
      },
      "execution_count": 143,
      "outputs": [
        {
          "output_type": "stream",
          "name": "stdout",
          "text": [
            "Epoch 1/95\n",
            "16/16 [==============================] - 2s 37ms/step - loss: 91814.3438 - mae: 279.1888 - mse: 91814.3438 - val_loss: 104102.5859 - val_mae: 295.6423 - val_mse: 104102.5859\n",
            "Epoch 2/95\n",
            "16/16 [==============================] - 0s 4ms/step - loss: 91731.0078 - mae: 279.0475 - mse: 91731.0078 - val_loss: 104002.0391 - val_mae: 295.4795 - val_mse: 104002.0312\n",
            "Epoch 3/95\n",
            "16/16 [==============================] - 0s 4ms/step - loss: 91643.4219 - mae: 278.8919 - mse: 91643.4219 - val_loss: 103927.4062 - val_mae: 295.3506 - val_mse: 103927.3984\n",
            "Epoch 4/95\n",
            "16/16 [==============================] - 0s 4ms/step - loss: 91594.2109 - mae: 278.7999 - mse: 91594.2109 - val_loss: 103900.7109 - val_mae: 295.2998 - val_mse: 103900.7031\n",
            "Epoch 5/95\n",
            "16/16 [==============================] - 0s 4ms/step - loss: 91578.2422 - mae: 278.7670 - mse: 91578.2422 - val_loss: 103892.7969 - val_mae: 295.2835 - val_mse: 103892.7969\n",
            "Epoch 6/95\n",
            "16/16 [==============================] - 0s 4ms/step - loss: 91573.0234 - mae: 278.7562 - mse: 91573.0234 - val_loss: 103889.9766 - val_mae: 295.2774 - val_mse: 103889.9766\n",
            "Epoch 7/95\n",
            "16/16 [==============================] - 0s 4ms/step - loss: 91570.9219 - mae: 278.7516 - mse: 91570.9219 - val_loss: 103888.6484 - val_mae: 295.2744 - val_mse: 103888.6484\n",
            "Epoch 8/95\n",
            "16/16 [==============================] - 0s 4ms/step - loss: 91569.8594 - mae: 278.7493 - mse: 91569.8594 - val_loss: 103887.8750 - val_mae: 295.2726 - val_mse: 103887.8750\n",
            "Epoch 9/95\n",
            "16/16 [==============================] - 0s 5ms/step - loss: 91569.1875 - mae: 278.7477 - mse: 91569.1875 - val_loss: 103887.3828 - val_mae: 295.2715 - val_mse: 103887.3828\n",
            "Epoch 10/95\n",
            "16/16 [==============================] - 0s 4ms/step - loss: 91568.7344 - mae: 278.7467 - mse: 91568.7344 - val_loss: 103887.0156 - val_mae: 295.2707 - val_mse: 103887.0156\n",
            "Epoch 11/95\n",
            "16/16 [==============================] - 0s 4ms/step - loss: 91568.4219 - mae: 278.7459 - mse: 91568.4219 - val_loss: 103886.7656 - val_mae: 295.2701 - val_mse: 103886.7656\n",
            "Epoch 12/95\n",
            "16/16 [==============================] - 0s 6ms/step - loss: 91568.1562 - mae: 278.7454 - mse: 91568.1562 - val_loss: 103886.5469 - val_mae: 295.2696 - val_mse: 103886.5469\n",
            "Epoch 13/95\n",
            "16/16 [==============================] - 0s 4ms/step - loss: 91567.9766 - mae: 278.7449 - mse: 91567.9766 - val_loss: 103886.3984 - val_mae: 295.2692 - val_mse: 103886.3984\n",
            "Epoch 14/95\n",
            "16/16 [==============================] - 0s 4ms/step - loss: 91567.8203 - mae: 278.7446 - mse: 91567.8203 - val_loss: 103886.2812 - val_mae: 295.2689 - val_mse: 103886.2812\n",
            "Epoch 15/95\n",
            "16/16 [==============================] - 0s 4ms/step - loss: 91567.7031 - mae: 278.7443 - mse: 91567.7031 - val_loss: 103886.1797 - val_mae: 295.2686 - val_mse: 103886.1797\n",
            "Epoch 16/95\n",
            "16/16 [==============================] - 0s 4ms/step - loss: 91567.6094 - mae: 278.7441 - mse: 91567.6094 - val_loss: 103886.1016 - val_mae: 295.2685 - val_mse: 103886.1016\n",
            "Epoch 17/95\n",
            "16/16 [==============================] - 0s 4ms/step - loss: 91567.5312 - mae: 278.7439 - mse: 91567.5312 - val_loss: 103886.0156 - val_mae: 295.2682 - val_mse: 103886.0156\n",
            "Epoch 18/95\n",
            "16/16 [==============================] - 0s 4ms/step - loss: 91567.4531 - mae: 278.7437 - mse: 91567.4531 - val_loss: 103885.9688 - val_mae: 295.2681 - val_mse: 103885.9688\n",
            "Epoch 19/95\n",
            "16/16 [==============================] - 0s 4ms/step - loss: 91567.3984 - mae: 278.7436 - mse: 91567.3984 - val_loss: 103885.9141 - val_mae: 295.2680 - val_mse: 103885.9141\n",
            "Epoch 20/95\n",
            "16/16 [==============================] - 0s 4ms/step - loss: 91567.3359 - mae: 278.7435 - mse: 91567.3359 - val_loss: 103885.8672 - val_mae: 295.2679 - val_mse: 103885.8672\n",
            "Epoch 21/95\n",
            "16/16 [==============================] - 0s 4ms/step - loss: 91567.3047 - mae: 278.7434 - mse: 91567.3047 - val_loss: 103885.8359 - val_mae: 295.2678 - val_mse: 103885.8359\n",
            "Epoch 22/95\n",
            "16/16 [==============================] - 0s 4ms/step - loss: 91567.2500 - mae: 278.7433 - mse: 91567.2500 - val_loss: 103885.7969 - val_mae: 295.2677 - val_mse: 103885.7969\n",
            "Epoch 23/95\n",
            "16/16 [==============================] - 0s 4ms/step - loss: 91567.2344 - mae: 278.7432 - mse: 91567.2344 - val_loss: 103885.7812 - val_mae: 295.2676 - val_mse: 103885.7734\n",
            "Epoch 24/95\n",
            "16/16 [==============================] - 0s 4ms/step - loss: 91567.2031 - mae: 278.7431 - mse: 91567.2031 - val_loss: 103885.7344 - val_mae: 295.2676 - val_mse: 103885.7344\n",
            "Epoch 25/95\n",
            "16/16 [==============================] - 0s 4ms/step - loss: 91567.1719 - mae: 278.7430 - mse: 91567.1719 - val_loss: 103885.7266 - val_mae: 295.2675 - val_mse: 103885.7188\n",
            "Epoch 26/95\n",
            "16/16 [==============================] - 0s 6ms/step - loss: 91567.1562 - mae: 278.7430 - mse: 91567.1562 - val_loss: 103885.7031 - val_mae: 295.2675 - val_mse: 103885.7031\n",
            "Epoch 27/95\n",
            "16/16 [==============================] - 0s 4ms/step - loss: 91567.1250 - mae: 278.7429 - mse: 91567.1250 - val_loss: 103885.6719 - val_mae: 295.2674 - val_mse: 103885.6797\n",
            "Epoch 28/95\n",
            "16/16 [==============================] - 0s 4ms/step - loss: 91567.1016 - mae: 278.7429 - mse: 91567.1016 - val_loss: 103885.6484 - val_mae: 295.2674 - val_mse: 103885.6562\n",
            "Epoch 29/95\n",
            "16/16 [==============================] - 0s 4ms/step - loss: 91567.0859 - mae: 278.7429 - mse: 91567.0859 - val_loss: 103885.6406 - val_mae: 295.2673 - val_mse: 103885.6406\n",
            "Epoch 30/95\n",
            "16/16 [==============================] - 0s 4ms/step - loss: 91567.0703 - mae: 278.7428 - mse: 91567.0703 - val_loss: 103885.6328 - val_mae: 295.2672 - val_mse: 103885.6328\n",
            "Epoch 31/95\n",
            "16/16 [==============================] - 0s 4ms/step - loss: 91567.0625 - mae: 278.7428 - mse: 91567.0625 - val_loss: 103885.6172 - val_mae: 295.2672 - val_mse: 103885.6172\n",
            "Epoch 32/95\n",
            "16/16 [==============================] - 0s 4ms/step - loss: 91567.0469 - mae: 278.7428 - mse: 91567.0469 - val_loss: 103885.6016 - val_mae: 295.2672 - val_mse: 103885.6016\n",
            "Epoch 33/95\n",
            "16/16 [==============================] - 0s 4ms/step - loss: 91567.0391 - mae: 278.7427 - mse: 91567.0391 - val_loss: 103885.5938 - val_mae: 295.2672 - val_mse: 103885.5938\n",
            "Epoch 34/95\n",
            "16/16 [==============================] - 0s 4ms/step - loss: 91567.0234 - mae: 278.7427 - mse: 91567.0234 - val_loss: 103885.5859 - val_mae: 295.2672 - val_mse: 103885.5859\n",
            "Epoch 35/95\n",
            "16/16 [==============================] - 0s 4ms/step - loss: 91567.0234 - mae: 278.7426 - mse: 91567.0234 - val_loss: 103885.5781 - val_mae: 295.2671 - val_mse: 103885.5781\n",
            "Epoch 36/95\n",
            "16/16 [==============================] - 0s 4ms/step - loss: 91567.0000 - mae: 278.7426 - mse: 91567.0000 - val_loss: 103885.5703 - val_mae: 295.2671 - val_mse: 103885.5703\n",
            "Epoch 37/95\n",
            "16/16 [==============================] - 0s 4ms/step - loss: 91566.9922 - mae: 278.7426 - mse: 91566.9922 - val_loss: 103885.5703 - val_mae: 295.2671 - val_mse: 103885.5703\n",
            "Epoch 38/95\n",
            "16/16 [==============================] - 0s 4ms/step - loss: 91566.9766 - mae: 278.7426 - mse: 91566.9766 - val_loss: 103885.5547 - val_mae: 295.2671 - val_mse: 103885.5469\n",
            "Epoch 39/95\n",
            "16/16 [==============================] - 0s 4ms/step - loss: 91566.9844 - mae: 278.7426 - mse: 91566.9844 - val_loss: 103885.5469 - val_mae: 295.2671 - val_mse: 103885.5469\n",
            "Epoch 40/95\n",
            "16/16 [==============================] - 0s 5ms/step - loss: 91566.9766 - mae: 278.7426 - mse: 91566.9766 - val_loss: 103885.5391 - val_mae: 295.2670 - val_mse: 103885.5391\n",
            "Epoch 41/95\n",
            "16/16 [==============================] - 0s 4ms/step - loss: 91566.9609 - mae: 278.7426 - mse: 91566.9609 - val_loss: 103885.5391 - val_mae: 295.2670 - val_mse: 103885.5391\n",
            "Epoch 42/95\n",
            "16/16 [==============================] - 0s 4ms/step - loss: 91566.9531 - mae: 278.7425 - mse: 91566.9531 - val_loss: 103885.5234 - val_mae: 295.2670 - val_mse: 103885.5234\n",
            "Epoch 43/95\n",
            "16/16 [==============================] - 0s 4ms/step - loss: 91566.9531 - mae: 278.7426 - mse: 91566.9531 - val_loss: 103885.5234 - val_mae: 295.2670 - val_mse: 103885.5234\n",
            "Epoch 44/95\n",
            "16/16 [==============================] - 0s 4ms/step - loss: 91566.9531 - mae: 278.7425 - mse: 91566.9531 - val_loss: 103885.5156 - val_mae: 295.2670 - val_mse: 103885.5156\n",
            "Epoch 45/95\n",
            "16/16 [==============================] - 0s 4ms/step - loss: 91566.9453 - mae: 278.7425 - mse: 91566.9453 - val_loss: 103885.5078 - val_mae: 295.2670 - val_mse: 103885.5078\n",
            "Epoch 46/95\n",
            "16/16 [==============================] - 0s 4ms/step - loss: 91566.9453 - mae: 278.7425 - mse: 91566.9453 - val_loss: 103885.5078 - val_mae: 295.2669 - val_mse: 103885.5078\n",
            "Epoch 47/95\n",
            "16/16 [==============================] - 0s 4ms/step - loss: 91566.9375 - mae: 278.7425 - mse: 91566.9375 - val_loss: 103885.5078 - val_mae: 295.2669 - val_mse: 103885.5078\n",
            "Epoch 48/95\n",
            "16/16 [==============================] - 0s 5ms/step - loss: 91566.9375 - mae: 278.7425 - mse: 91566.9375 - val_loss: 103885.5000 - val_mae: 295.2669 - val_mse: 103885.5000\n",
            "Epoch 49/95\n",
            "16/16 [==============================] - 0s 4ms/step - loss: 91566.9297 - mae: 278.7424 - mse: 91566.9297 - val_loss: 103885.5000 - val_mae: 295.2669 - val_mse: 103885.5000\n",
            "Epoch 50/95\n",
            "16/16 [==============================] - 0s 4ms/step - loss: 91566.9297 - mae: 278.7424 - mse: 91566.9297 - val_loss: 103885.5000 - val_mae: 295.2669 - val_mse: 103885.5000\n",
            "Epoch 51/95\n",
            "16/16 [==============================] - 0s 4ms/step - loss: 91566.9297 - mae: 278.7424 - mse: 91566.9297 - val_loss: 103885.5000 - val_mae: 295.2669 - val_mse: 103885.5000\n",
            "Epoch 52/95\n",
            "16/16 [==============================] - 0s 5ms/step - loss: 91566.9219 - mae: 278.7424 - mse: 91566.9219 - val_loss: 103885.4922 - val_mae: 295.2669 - val_mse: 103885.4922\n",
            "Epoch 53/95\n",
            "16/16 [==============================] - 0s 6ms/step - loss: 91566.9297 - mae: 278.7424 - mse: 91566.9297 - val_loss: 103885.4922 - val_mae: 295.2669 - val_mse: 103885.4922\n",
            "Epoch 54/95\n",
            "16/16 [==============================] - 0s 4ms/step - loss: 91566.9219 - mae: 278.7424 - mse: 91566.9219 - val_loss: 103885.4844 - val_mae: 295.2669 - val_mse: 103885.4844\n",
            "Epoch 55/95\n",
            "16/16 [==============================] - 0s 4ms/step - loss: 91566.9141 - mae: 278.7424 - mse: 91566.9141 - val_loss: 103885.4844 - val_mae: 295.2669 - val_mse: 103885.4844\n",
            "Epoch 56/95\n",
            "16/16 [==============================] - 0s 4ms/step - loss: 91566.9141 - mae: 278.7424 - mse: 91566.9141 - val_loss: 103885.4766 - val_mae: 295.2669 - val_mse: 103885.4766\n",
            "Epoch 57/95\n",
            "16/16 [==============================] - 0s 4ms/step - loss: 91566.9141 - mae: 278.7424 - mse: 91566.9141 - val_loss: 103885.4766 - val_mae: 295.2669 - val_mse: 103885.4766\n",
            "Epoch 58/95\n",
            "16/16 [==============================] - 0s 4ms/step - loss: 91566.9141 - mae: 278.7424 - mse: 91566.9141 - val_loss: 103885.4688 - val_mae: 295.2669 - val_mse: 103885.4688\n",
            "Epoch 59/95\n",
            "16/16 [==============================] - 0s 4ms/step - loss: 91566.8984 - mae: 278.7424 - mse: 91566.8984 - val_loss: 103885.4688 - val_mae: 295.2669 - val_mse: 103885.4688\n",
            "Epoch 60/95\n",
            "16/16 [==============================] - 0s 4ms/step - loss: 91566.8906 - mae: 278.7424 - mse: 91566.8906 - val_loss: 103885.4688 - val_mae: 295.2669 - val_mse: 103885.4688\n",
            "Epoch 61/95\n",
            "16/16 [==============================] - 0s 4ms/step - loss: 91566.8984 - mae: 278.7424 - mse: 91566.8984 - val_loss: 103885.4688 - val_mae: 295.2669 - val_mse: 103885.4688\n",
            "Epoch 62/95\n",
            "16/16 [==============================] - 0s 4ms/step - loss: 91566.8906 - mae: 278.7424 - mse: 91566.8906 - val_loss: 103885.4688 - val_mae: 295.2668 - val_mse: 103885.4688\n",
            "Epoch 63/95\n",
            "16/16 [==============================] - 0s 4ms/step - loss: 91566.8906 - mae: 278.7423 - mse: 91566.8906 - val_loss: 103885.4688 - val_mae: 295.2668 - val_mse: 103885.4688\n",
            "Epoch 64/95\n",
            "16/16 [==============================] - 0s 4ms/step - loss: 91566.8828 - mae: 278.7424 - mse: 91566.8828 - val_loss: 103885.4688 - val_mae: 295.2668 - val_mse: 103885.4609\n",
            "Epoch 65/95\n",
            "16/16 [==============================] - 0s 4ms/step - loss: 91566.8750 - mae: 278.7424 - mse: 91566.8750 - val_loss: 103885.4609 - val_mae: 295.2668 - val_mse: 103885.4531\n",
            "Epoch 66/95\n",
            "16/16 [==============================] - 0s 5ms/step - loss: 91566.8750 - mae: 278.7423 - mse: 91566.8750 - val_loss: 103885.4609 - val_mae: 295.2668 - val_mse: 103885.4531\n",
            "Epoch 67/95\n",
            "16/16 [==============================] - 0s 4ms/step - loss: 91566.8828 - mae: 278.7423 - mse: 91566.8828 - val_loss: 103885.4609 - val_mae: 295.2668 - val_mse: 103885.4531\n",
            "Epoch 68/95\n",
            "16/16 [==============================] - 0s 4ms/step - loss: 91566.8750 - mae: 278.7423 - mse: 91566.8750 - val_loss: 103885.4531 - val_mae: 295.2668 - val_mse: 103885.4531\n",
            "Epoch 69/95\n",
            "16/16 [==============================] - 0s 4ms/step - loss: 91566.8750 - mae: 278.7423 - mse: 91566.8750 - val_loss: 103885.4531 - val_mae: 295.2668 - val_mse: 103885.4531\n",
            "Epoch 70/95\n",
            "16/16 [==============================] - 0s 4ms/step - loss: 91566.8594 - mae: 278.7423 - mse: 91566.8594 - val_loss: 103885.4531 - val_mae: 295.2668 - val_mse: 103885.4531\n",
            "Epoch 71/95\n",
            "16/16 [==============================] - 0s 4ms/step - loss: 91566.8750 - mae: 278.7423 - mse: 91566.8750 - val_loss: 103885.4531 - val_mae: 295.2668 - val_mse: 103885.4531\n",
            "Epoch 72/95\n",
            "16/16 [==============================] - 0s 4ms/step - loss: 91566.8672 - mae: 278.7423 - mse: 91566.8672 - val_loss: 103885.4531 - val_mae: 295.2668 - val_mse: 103885.4531\n",
            "Epoch 73/95\n",
            "16/16 [==============================] - 0s 4ms/step - loss: 91566.8672 - mae: 278.7423 - mse: 91566.8672 - val_loss: 103885.4531 - val_mae: 295.2668 - val_mse: 103885.4531\n",
            "Epoch 74/95\n",
            "16/16 [==============================] - 0s 5ms/step - loss: 91566.8594 - mae: 278.7423 - mse: 91566.8594 - val_loss: 103885.4531 - val_mae: 295.2668 - val_mse: 103885.4531\n",
            "Epoch 75/95\n",
            "16/16 [==============================] - 0s 5ms/step - loss: 91566.8672 - mae: 278.7423 - mse: 91566.8672 - val_loss: 103885.4531 - val_mae: 295.2668 - val_mse: 103885.4531\n",
            "Epoch 76/95\n",
            "16/16 [==============================] - 0s 4ms/step - loss: 91566.8594 - mae: 278.7422 - mse: 91566.8594 - val_loss: 103885.4531 - val_mae: 295.2668 - val_mse: 103885.4531\n",
            "Epoch 77/95\n",
            "16/16 [==============================] - 0s 4ms/step - loss: 91566.8672 - mae: 278.7423 - mse: 91566.8672 - val_loss: 103885.4531 - val_mae: 295.2668 - val_mse: 103885.4531\n",
            "Epoch 78/95\n",
            "16/16 [==============================] - 0s 4ms/step - loss: 91566.8594 - mae: 278.7423 - mse: 91566.8594 - val_loss: 103885.4531 - val_mae: 295.2668 - val_mse: 103885.4531\n",
            "Epoch 79/95\n",
            "16/16 [==============================] - 0s 4ms/step - loss: 91566.8594 - mae: 278.7423 - mse: 91566.8594 - val_loss: 103885.4531 - val_mae: 295.2668 - val_mse: 103885.4453\n",
            "Epoch 80/95\n",
            "16/16 [==============================] - 0s 5ms/step - loss: 91566.8594 - mae: 278.7423 - mse: 91566.8594 - val_loss: 103885.4531 - val_mae: 295.2668 - val_mse: 103885.4453\n",
            "Epoch 81/95\n",
            "16/16 [==============================] - 0s 4ms/step - loss: 91566.8594 - mae: 278.7422 - mse: 91566.8594 - val_loss: 103885.4531 - val_mae: 295.2668 - val_mse: 103885.4453\n",
            "Epoch 82/95\n",
            "16/16 [==============================] - 0s 4ms/step - loss: 91566.8516 - mae: 278.7423 - mse: 91566.8516 - val_loss: 103885.4531 - val_mae: 295.2668 - val_mse: 103885.4453\n",
            "Epoch 83/95\n",
            "16/16 [==============================] - 0s 4ms/step - loss: 91566.8594 - mae: 278.7423 - mse: 91566.8594 - val_loss: 103885.4297 - val_mae: 295.2668 - val_mse: 103885.4297\n",
            "Epoch 84/95\n",
            "16/16 [==============================] - 0s 4ms/step - loss: 91566.8594 - mae: 278.7422 - mse: 91566.8594 - val_loss: 103885.4297 - val_mae: 295.2668 - val_mse: 103885.4297\n",
            "Epoch 85/95\n",
            "16/16 [==============================] - 0s 4ms/step - loss: 91566.8516 - mae: 278.7423 - mse: 91566.8516 - val_loss: 103885.4297 - val_mae: 295.2668 - val_mse: 103885.4297\n",
            "Epoch 86/95\n",
            "16/16 [==============================] - 0s 4ms/step - loss: 91566.8516 - mae: 278.7422 - mse: 91566.8516 - val_loss: 103885.4297 - val_mae: 295.2668 - val_mse: 103885.4297\n",
            "Epoch 87/95\n",
            "16/16 [==============================] - 0s 4ms/step - loss: 91566.8516 - mae: 278.7422 - mse: 91566.8516 - val_loss: 103885.4297 - val_mae: 295.2668 - val_mse: 103885.4297\n",
            "Epoch 88/95\n",
            "16/16 [==============================] - 0s 4ms/step - loss: 91566.8438 - mae: 278.7422 - mse: 91566.8438 - val_loss: 103885.4297 - val_mae: 295.2668 - val_mse: 103885.4297\n",
            "Epoch 89/95\n",
            "16/16 [==============================] - 0s 4ms/step - loss: 91566.8516 - mae: 278.7422 - mse: 91566.8516 - val_loss: 103885.4297 - val_mae: 295.2668 - val_mse: 103885.4297\n",
            "Epoch 90/95\n",
            "16/16 [==============================] - 0s 5ms/step - loss: 91566.8438 - mae: 278.7422 - mse: 91566.8438 - val_loss: 103885.4297 - val_mae: 295.2668 - val_mse: 103885.4297\n",
            "Epoch 91/95\n",
            "16/16 [==============================] - 0s 4ms/step - loss: 91566.8438 - mae: 278.7422 - mse: 91566.8438 - val_loss: 103885.4297 - val_mae: 295.2668 - val_mse: 103885.4297\n",
            "Epoch 92/95\n",
            "16/16 [==============================] - 0s 4ms/step - loss: 91566.8516 - mae: 278.7423 - mse: 91566.8516 - val_loss: 103885.4297 - val_mae: 295.2668 - val_mse: 103885.4297\n",
            "Epoch 93/95\n",
            "16/16 [==============================] - 0s 4ms/step - loss: 91566.8438 - mae: 278.7422 - mse: 91566.8438 - val_loss: 103885.4297 - val_mae: 295.2668 - val_mse: 103885.4297\n",
            "Epoch 94/95\n",
            "16/16 [==============================] - 0s 6ms/step - loss: 91566.8438 - mae: 278.7422 - mse: 91566.8438 - val_loss: 103885.4297 - val_mae: 295.2668 - val_mse: 103885.4297\n",
            "Epoch 95/95\n",
            "16/16 [==============================] - 0s 4ms/step - loss: 91566.8516 - mae: 278.7422 - mse: 91566.8516 - val_loss: 103885.4297 - val_mae: 295.2668 - val_mse: 103885.4297\n"
          ]
        }
      ]
    },
    {
      "cell_type": "code",
      "source": [
        "## Plots\n",
        "\n",
        "#pd.DataFrame(Lstm_History.history).plot(figsize=(10,10))\n",
        "\n",
        "# summarize history for MSE\n",
        "\n",
        "plt.plot(Lstm_History.history['mse'])\n",
        "plt.plot(Lstm_History.history['val_mse'])\n",
        "plt.title('model MSE')\n",
        "plt.ylabel('MSE')\n",
        "plt.xlabel('epoch')\n",
        "plt.legend(['train', 'test'], loc='upper left')\n",
        "plt.show()"
      ],
      "metadata": {
        "id": "9ELVFWzmHUhR",
        "colab": {
          "base_uri": "https://localhost:8080/",
          "height": 295
        },
        "outputId": "fac966af-4f6a-4504-ae56-c9e8e9224b6e"
      },
      "execution_count": null,
      "outputs": [
        {
          "output_type": "display_data",
          "data": {
            "text/plain": [
              "<Figure size 432x288 with 1 Axes>"
            ],
            "image/png": "[encoded data removed]"
          },
          "metadata": {
            "needs_background": "light"
          }
        }
      ]
    },
    {
      "cell_type": "code",
      "source": [
        "# summarize history for mae\n",
        "\n",
        "plt.plot(Lstm_History.history['mae'])\n",
        "plt.plot(Lstm_History.history['val_mae'])\n",
        "plt.title('model mae')\n",
        "plt.ylabel('mae')\n",
        "plt.xlabel('epoch')\n",
        "plt.legend(['train', 'test'], loc='upper left')\n",
        "plt.show()"
      ],
      "metadata": {
        "id": "16ngK7qtRj8J",
        "outputId": "8ad55bc6-8e49-4174-b4c5-49883cc3633d",
        "colab": {
          "base_uri": "https://localhost:8080/",
          "height": 295
        }
      },
      "execution_count": null,
      "outputs": [
        {
          "output_type": "display_data",
          "data": {
            "text/plain": [
              "<Figure size 432x288 with 1 Axes>"
            ],
            "image/png": "[encoded data removed]"
          },
          "metadata": {
            "needs_background": "light"
          }
        }
      ]
    },
    {
      "cell_type": "code",
      "source": [
        "# summarize history for Loss\n",
        "\n",
        "plt.plot(Lstm_History.history['loss'])\n",
        "plt.plot(Lstm_History.history['val_loss'])\n",
        "plt.title('model LOSS')\n",
        "plt.ylabel('LOSS')\n",
        "plt.xlabel('epoch')\n",
        "plt.legend(['train', 'test'], loc='upper left')\n",
        "plt.show()"
      ],
      "metadata": {
        "id": "o6eaqy7wSEiH",
        "outputId": "e18eb52c-f200-4ec6-fd99-1f5b8a7195e4",
        "colab": {
          "base_uri": "https://localhost:8080/",
          "height": 295
        }
      },
      "execution_count": null,
      "outputs": [
        {
          "output_type": "display_data",
          "data": {
            "text/plain": [
              "<Figure size 432x288 with 1 Axes>"
            ],
            "image/png": "[encoded data removed]"
          },
          "metadata": {
            "needs_background": "light"
          }
        }
      ]
    },
    {
      "cell_type": "code",
      "source": [
        "Lstm_Model.summary()"
      ],
      "metadata": {
        "colab": {
          "base_uri": "https://localhost:8080/"
        },
        "id": "bgT5_28rT5pr",
        "outputId": "411650b1-2896-4043-fb19-94d7313da2aa"
      },
      "execution_count": null,
      "outputs": [
        {
          "output_type": "stream",
          "name": "stdout",
          "text": [
            "Model: \"sequential_19\"\n",
            "_________________________________________________________________\n",
            " Layer (type)                Output Shape              Param #   \n",
            "=================================================================\n",
            " embedding_19 (Embedding)    (None, 1, 1000)           623000    \n",
            "                                                                 \n",
            " lstm_51 (LSTM)              (None, 1, 1000)           8004000   \n",
            "                                                                 \n",
            " lstm_52 (LSTM)              (None, 1000)              8004000   \n",
            "                                                                 \n",
            " dense_38 (Dense)            (None, 100)               100100    \n",
            "                                                                 \n",
            " dense_39 (Dense)            (None, 1)                 101       \n",
            "                                                                 \n",
            "=================================================================\n",
            "Total params: 16,731,201\n",
            "Trainable params: 16,731,201\n",
            "Non-trainable params: 0\n",
            "_________________________________________________________________\n"
          ]
        }
      ]
    },
    {
      "cell_type": "markdown",
      "source": [
        "## BLSTM MODEL"
      ],
      "metadata": {
        "id": "CuSzlgS2SU7b"
      }
    },
    {
      "cell_type": "code",
      "source": [
        "from keras.backend import dropout\n",
        "from keras.layers.convolutional import activations\n",
        "# Set the random Seed\n",
        "tf.random.set_seed(42)\n",
        "\n",
        "# Create model\n",
        "\n",
        "Blstm_Model = Sequential()\n",
        "Blstm_Model.add(Embedding(input_dim = 623 ,output_dim = 1500, input_length=1))\n",
        "Blstm_Model.add(Bidirectional(LSTM(1500,dropout=0.3,return_sequences=True)))\n",
        "Blstm_Model.add(Bidirectional(LSTM(1500,dropout=0.3)))\n",
        "Blstm_Model.add(Dense(100,activation=\"relu\"))\n",
        "\n",
        "Blstm_Model.add(Dense(1,activation=\"relu\"))"
      ],
      "metadata": {
        "id": "dvnCkieiZLFK"
      },
      "execution_count": null,
      "outputs": []
    },
    {
      "cell_type": "code",
      "source": [
        "# Compile Model\n",
        "Blstm_Model.compile(loss=tf.keras.losses.MeanAbsoluteError(), optimizer=tf.keras.optimizers.Adam(learning_rate=0.01),metrics=['mae','mse'])\n",
        "# Fit Model\n",
        "Blstm_History = Blstm_Model.fit(xtrain,  ytrain,validation_data=(xtest,ytest), epochs=111,batch_size=32)"
      ],
      "metadata": {
        "id": "vVoCZCyvSuxG",
        "outputId": "7b9d4434-ec00-4edc-8256-9cc190a8be52",
        "colab": {
          "base_uri": "https://localhost:8080/"
        }
      },
      "execution_count": null,
      "outputs": [
        {
          "output_type": "stream",
          "name": "stdout",
          "text": [
            "Epoch 1/111\n",
            "4/4 [==============================] - 15s 2s/step - loss: 287.1907 - mae: 287.1907 - mse: 96597.6094 - val_loss: 187.0126 - val_mae: 187.0126 - val_mse: 45741.7070\n",
            "Epoch 2/111\n",
            "4/4 [==============================] - 3s 767ms/step - loss: 150.8393 - mae: 150.8393 - mse: 33139.5859 - val_loss: 115.3116 - val_mae: 115.3116 - val_mse: 23150.4961\n",
            "Epoch 3/111\n",
            "4/4 [==============================] - 3s 861ms/step - loss: 162.3553 - mae: 162.3553 - mse: 36669.9961 - val_loss: 154.8331 - val_mae: 154.8331 - val_mse: 31972.8594\n",
            "Epoch 4/111\n",
            "4/4 [==============================] - 3s 755ms/step - loss: 113.0290 - mae: 113.0290 - mse: 20613.8535 - val_loss: 76.5288 - val_mae: 76.5288 - val_mse: 9782.9082\n",
            "Epoch 5/111\n",
            "4/4 [==============================] - 3s 756ms/step - loss: 89.2834 - mae: 89.2834 - mse: 12046.4248 - val_loss: 68.0220 - val_mae: 68.0220 - val_mse: 7957.1226\n",
            "Epoch 6/111\n",
            "4/4 [==============================] - 3s 752ms/step - loss: 84.8763 - mae: 84.8763 - mse: 11188.3457 - val_loss: 81.8824 - val_mae: 81.8824 - val_mse: 11075.5137\n",
            "Epoch 7/111\n",
            "4/4 [==============================] - 3s 751ms/step - loss: 83.6667 - mae: 83.6667 - mse: 12027.8047 - val_loss: 74.2587 - val_mae: 74.2587 - val_mse: 8291.2588\n",
            "Epoch 8/111\n",
            "4/4 [==============================] - 3s 753ms/step - loss: 79.4551 - mae: 79.4551 - mse: 10605.5635 - val_loss: 68.2003 - val_mae: 68.2003 - val_mse: 7558.3994\n",
            "Epoch 9/111\n",
            "4/4 [==============================] - 3s 757ms/step - loss: 77.9557 - mae: 77.9557 - mse: 10096.3145 - val_loss: 69.8617 - val_mae: 69.8617 - val_mse: 8032.4038\n",
            "Epoch 10/111\n",
            "4/4 [==============================] - 3s 757ms/step - loss: 78.5412 - mae: 78.5412 - mse: 10400.0547 - val_loss: 62.1237 - val_mae: 62.1237 - val_mse: 6961.1475\n",
            "Epoch 11/111\n",
            "4/4 [==============================] - 3s 756ms/step - loss: 72.6340 - mae: 72.6340 - mse: 8957.3330 - val_loss: 69.2849 - val_mae: 69.2849 - val_mse: 7777.7812\n",
            "Epoch 12/111\n",
            "4/4 [==============================] - 4s 1s/step - loss: 59.5895 - mae: 59.5895 - mse: 6591.0928 - val_loss: 72.6133 - val_mae: 72.6133 - val_mse: 6357.5625\n",
            "Epoch 13/111\n",
            "4/4 [==============================] - 3s 906ms/step - loss: 50.8051 - mae: 50.8051 - mse: 4772.4673 - val_loss: 55.2821 - val_mae: 55.2821 - val_mse: 5122.1763\n",
            "Epoch 14/111\n",
            "4/4 [==============================] - 6s 1s/step - loss: 45.4689 - mae: 45.4689 - mse: 3919.5024 - val_loss: 69.0125 - val_mae: 69.0125 - val_mse: 6102.6665\n",
            "Epoch 15/111\n",
            "4/4 [==============================] - 5s 1s/step - loss: 45.0000 - mae: 45.0000 - mse: 3649.6162 - val_loss: 58.4800 - val_mae: 58.4800 - val_mse: 5223.0908\n",
            "Epoch 16/111\n",
            "4/4 [==============================] - 4s 972ms/step - loss: 40.3191 - mae: 40.3191 - mse: 3208.5903 - val_loss: 59.2051 - val_mae: 59.2051 - val_mse: 4923.6528\n",
            "Epoch 17/111\n",
            "4/4 [==============================] - 6s 2s/step - loss: 35.6562 - mae: 35.6562 - mse: 2940.9424 - val_loss: 56.7226 - val_mae: 56.7226 - val_mse: 4893.8013\n",
            "Epoch 18/111\n",
            "4/4 [==============================] - 6s 2s/step - loss: 32.9655 - mae: 32.9655 - mse: 2418.2417 - val_loss: 50.4465 - val_mae: 50.4465 - val_mse: 4436.6787\n",
            "Epoch 19/111\n",
            "4/4 [==============================] - 3s 866ms/step - loss: 34.0845 - mae: 34.0845 - mse: 2527.5498 - val_loss: 68.1048 - val_mae: 68.1048 - val_mse: 6216.2412\n",
            "Epoch 20/111\n",
            "4/4 [==============================] - 4s 1s/step - loss: 37.2475 - mae: 37.2475 - mse: 2644.2217 - val_loss: 50.5297 - val_mae: 50.5297 - val_mse: 5375.7788\n",
            "Epoch 21/111\n",
            "4/4 [==============================] - 5s 1s/step - loss: 35.6915 - mae: 35.6915 - mse: 2501.6472 - val_loss: 66.9242 - val_mae: 66.9242 - val_mse: 5905.6846\n",
            "Epoch 22/111\n",
            "4/4 [==============================] - 5s 1s/step - loss: 31.8544 - mae: 31.8544 - mse: 2086.6533 - val_loss: 54.6742 - val_mae: 54.6742 - val_mse: 5221.7534\n",
            "Epoch 23/111\n",
            "4/4 [==============================] - 4s 1s/step - loss: 30.7250 - mae: 30.7250 - mse: 2274.2495 - val_loss: 64.7653 - val_mae: 64.7653 - val_mse: 5633.2446\n",
            "Epoch 24/111\n",
            "4/4 [==============================] - 5s 1s/step - loss: 30.6067 - mae: 30.6067 - mse: 2213.2249 - val_loss: 56.7676 - val_mae: 56.7676 - val_mse: 5166.4761\n",
            "Epoch 25/111\n",
            "4/4 [==============================] - 4s 1s/step - loss: 28.3602 - mae: 28.3602 - mse: 1776.1531 - val_loss: 56.7251 - val_mae: 56.7251 - val_mse: 4842.3896\n",
            "Epoch 26/111\n",
            "4/4 [==============================] - 3s 842ms/step - loss: 27.1605 - mae: 27.1605 - mse: 1731.7378 - val_loss: 57.1340 - val_mae: 57.1340 - val_mse: 5057.6206\n",
            "Epoch 27/111\n",
            "4/4 [==============================] - 3s 761ms/step - loss: 27.3358 - mae: 27.3358 - mse: 1882.0416 - val_loss: 58.2426 - val_mae: 58.2426 - val_mse: 5052.5493\n",
            "Epoch 28/111\n",
            "4/4 [==============================] - 4s 937ms/step - loss: 24.5955 - mae: 24.5955 - mse: 1777.1121 - val_loss: 60.2500 - val_mae: 60.2500 - val_mse: 5181.5435\n",
            "Epoch 29/111\n",
            "4/4 [==============================] - 5s 1s/step - loss: 27.2196 - mae: 27.2196 - mse: 1954.0480 - val_loss: 55.7357 - val_mae: 55.7357 - val_mse: 4842.3989\n",
            "Epoch 30/111\n",
            "4/4 [==============================] - 4s 1s/step - loss: 29.8187 - mae: 29.8187 - mse: 1831.7440 - val_loss: 53.6612 - val_mae: 53.6612 - val_mse: 4879.2300\n",
            "Epoch 31/111\n",
            "4/4 [==============================] - 5s 1s/step - loss: 27.2017 - mae: 27.2017 - mse: 1788.3408 - val_loss: 62.1643 - val_mae: 62.1643 - val_mse: 5433.5635\n",
            "Epoch 32/111\n",
            "4/4 [==============================] - 5s 1s/step - loss: 24.5436 - mae: 24.5436 - mse: 1735.0375 - val_loss: 52.2949 - val_mae: 52.2949 - val_mse: 4657.4253\n",
            "Epoch 33/111\n",
            "4/4 [==============================] - 4s 1s/step - loss: 23.4722 - mae: 23.4722 - mse: 1533.1198 - val_loss: 54.1940 - val_mae: 54.1940 - val_mse: 4752.2075\n",
            "Epoch 34/111\n",
            "4/4 [==============================] - 4s 930ms/step - loss: 23.8174 - mae: 23.8174 - mse: 1584.3165 - val_loss: 56.2928 - val_mae: 56.2928 - val_mse: 4857.2153\n",
            "Epoch 35/111\n",
            "4/4 [==============================] - 4s 1s/step - loss: 22.6212 - mae: 22.6212 - mse: 1504.2401 - val_loss: 50.3769 - val_mae: 50.3769 - val_mse: 4441.7578\n",
            "Epoch 36/111\n",
            "4/4 [==============================] - 5s 1s/step - loss: 25.2664 - mae: 25.2664 - mse: 1537.9681 - val_loss: 57.6012 - val_mae: 57.6012 - val_mse: 4954.4844\n",
            "Epoch 37/111\n",
            "4/4 [==============================] - 5s 1s/step - loss: 26.2492 - mae: 26.2492 - mse: 1628.6987 - val_loss: 53.3029 - val_mae: 53.3029 - val_mse: 4588.4917\n",
            "Epoch 38/111\n",
            "4/4 [==============================] - 4s 1s/step - loss: 23.6977 - mae: 23.6977 - mse: 1580.8604 - val_loss: 52.2041 - val_mae: 52.2041 - val_mse: 5005.1484\n",
            "Epoch 39/111\n",
            "4/4 [==============================] - 5s 1s/step - loss: 27.5457 - mae: 27.5457 - mse: 1717.7611 - val_loss: 58.7303 - val_mae: 58.7303 - val_mse: 5181.2119\n",
            "Epoch 40/111\n",
            "4/4 [==============================] - 4s 898ms/step - loss: 29.0917 - mae: 29.0917 - mse: 1792.5392 - val_loss: 51.9775 - val_mae: 51.9775 - val_mse: 4712.5166\n",
            "Epoch 41/111\n",
            "4/4 [==============================] - 4s 890ms/step - loss: 23.1707 - mae: 23.1707 - mse: 1360.4015 - val_loss: 52.0607 - val_mae: 52.0607 - val_mse: 4403.8228\n",
            "Epoch 42/111\n",
            "4/4 [==============================] - 3s 835ms/step - loss: 22.0724 - mae: 22.0724 - mse: 1335.2693 - val_loss: 61.6031 - val_mae: 61.6031 - val_mse: 5448.9482\n",
            "Epoch 43/111\n",
            "4/4 [==============================] - 3s 756ms/step - loss: 24.9195 - mae: 24.9195 - mse: 1551.7144 - val_loss: 51.3782 - val_mae: 51.3782 - val_mse: 4986.8037\n",
            "Epoch 44/111\n",
            "4/4 [==============================] - 3s 753ms/step - loss: 30.9624 - mae: 30.9624 - mse: 1933.3444 - val_loss: 66.5819 - val_mae: 66.5819 - val_mse: 6317.6445\n",
            "Epoch 45/111\n",
            "4/4 [==============================] - 3s 758ms/step - loss: 36.0753 - mae: 36.0753 - mse: 2095.5361 - val_loss: 53.7456 - val_mae: 53.7456 - val_mse: 5150.2656\n",
            "Epoch 46/111\n",
            "4/4 [==============================] - 3s 761ms/step - loss: 36.4450 - mae: 36.4450 - mse: 2495.1653 - val_loss: 53.4279 - val_mae: 53.4279 - val_mse: 4719.3003\n",
            "Epoch 47/111\n",
            "4/4 [==============================] - 3s 760ms/step - loss: 25.5083 - mae: 25.5083 - mse: 1450.5519 - val_loss: 50.0149 - val_mae: 50.0149 - val_mse: 4354.4111\n",
            "Epoch 48/111\n",
            "4/4 [==============================] - 4s 1s/step - loss: 23.6049 - mae: 23.6049 - mse: 1375.4486 - val_loss: 54.5352 - val_mae: 54.5352 - val_mse: 4780.7075\n",
            "Epoch 49/111\n",
            "4/4 [==============================] - 3s 755ms/step - loss: 25.7363 - mae: 25.7363 - mse: 1521.7349 - val_loss: 50.5816 - val_mae: 50.5816 - val_mse: 4774.6313\n",
            "Epoch 50/111\n",
            "4/4 [==============================] - 4s 851ms/step - loss: 29.6958 - mae: 29.6958 - mse: 1763.9451 - val_loss: 54.2095 - val_mae: 54.2095 - val_mse: 4747.6616\n",
            "Epoch 51/111\n",
            "4/4 [==============================] - 5s 1s/step - loss: 24.6751 - mae: 24.6751 - mse: 1397.9440 - val_loss: 48.5831 - val_mae: 48.5831 - val_mse: 4568.4385\n",
            "Epoch 52/111\n",
            "4/4 [==============================] - 3s 764ms/step - loss: 26.6605 - mae: 26.6605 - mse: 1514.5438 - val_loss: 52.8844 - val_mae: 52.8844 - val_mse: 4592.3237\n",
            "Epoch 53/111\n",
            "4/4 [==============================] - 3s 767ms/step - loss: 22.2542 - mae: 22.2542 - mse: 1295.4409 - val_loss: 49.0511 - val_mae: 49.0511 - val_mse: 4502.9375\n",
            "Epoch 54/111\n",
            "4/4 [==============================] - 3s 763ms/step - loss: 22.6651 - mae: 22.6651 - mse: 1308.9606 - val_loss: 55.1090 - val_mae: 55.1090 - val_mse: 4788.0322\n",
            "Epoch 55/111\n",
            "4/4 [==============================] - 3s 755ms/step - loss: 20.9483 - mae: 20.9483 - mse: 1210.3895 - val_loss: 50.9211 - val_mae: 50.9211 - val_mse: 4675.6553\n",
            "Epoch 56/111\n",
            "4/4 [==============================] - 3s 770ms/step - loss: 21.4204 - mae: 21.4204 - mse: 1232.4615 - val_loss: 58.2742 - val_mae: 58.2742 - val_mse: 5101.6787\n",
            "Epoch 57/111\n",
            "4/4 [==============================] - 4s 970ms/step - loss: 20.5574 - mae: 20.5574 - mse: 1212.7886 - val_loss: 54.3847 - val_mae: 54.3847 - val_mse: 4737.3164\n",
            "Epoch 58/111\n",
            "4/4 [==============================] - 3s 763ms/step - loss: 20.4636 - mae: 20.4636 - mse: 1114.8395 - val_loss: 54.8047 - val_mae: 54.8047 - val_mse: 4829.2275\n",
            "Epoch 59/111\n",
            "4/4 [==============================] - 3s 763ms/step - loss: 19.2724 - mae: 19.2724 - mse: 1329.3456 - val_loss: 57.7300 - val_mae: 57.7300 - val_mse: 5087.9302\n",
            "Epoch 60/111\n",
            "4/4 [==============================] - 3s 765ms/step - loss: 17.6099 - mae: 17.6099 - mse: 1189.6606 - val_loss: 55.8000 - val_mae: 55.8000 - val_mse: 4733.0034\n",
            "Epoch 61/111\n",
            "4/4 [==============================] - 3s 754ms/step - loss: 17.5713 - mae: 17.5713 - mse: 1092.4614 - val_loss: 55.7853 - val_mae: 55.7853 - val_mse: 4828.1533\n",
            "Epoch 62/111\n",
            "4/4 [==============================] - 3s 764ms/step - loss: 17.4355 - mae: 17.4355 - mse: 1113.1080 - val_loss: 54.9444 - val_mae: 54.9444 - val_mse: 4668.4854\n",
            "Epoch 63/111\n",
            "4/4 [==============================] - 3s 762ms/step - loss: 16.5176 - mae: 16.5176 - mse: 1032.7722 - val_loss: 57.9831 - val_mae: 57.9831 - val_mse: 4955.5391\n",
            "Epoch 64/111\n",
            "4/4 [==============================] - 3s 800ms/step - loss: 17.4990 - mae: 17.4990 - mse: 1120.5374 - val_loss: 57.4124 - val_mae: 57.4124 - val_mse: 4852.1377\n",
            "Epoch 65/111\n",
            "4/4 [==============================] - 3s 754ms/step - loss: 17.6535 - mae: 17.6535 - mse: 1027.1205 - val_loss: 54.0761 - val_mae: 54.0761 - val_mse: 4557.9292\n",
            "Epoch 66/111\n",
            "4/4 [==============================] - 3s 762ms/step - loss: 17.5330 - mae: 17.5330 - mse: 1001.2043 - val_loss: 50.9704 - val_mae: 50.9704 - val_mse: 4526.4019\n",
            "Epoch 67/111\n",
            "4/4 [==============================] - 3s 745ms/step - loss: 19.5598 - mae: 19.5598 - mse: 1063.2361 - val_loss: 55.8475 - val_mae: 55.8475 - val_mse: 4788.8135\n",
            "Epoch 68/111\n",
            "4/4 [==============================] - 3s 741ms/step - loss: 18.4420 - mae: 18.4420 - mse: 987.0569 - val_loss: 51.8070 - val_mae: 51.8070 - val_mse: 4465.3799\n",
            "Epoch 69/111\n",
            "4/4 [==============================] - 3s 753ms/step - loss: 16.9881 - mae: 16.9881 - mse: 956.0763 - val_loss: 51.2212 - val_mae: 51.2212 - val_mse: 4427.3965\n",
            "Epoch 70/111\n",
            "4/4 [==============================] - 3s 763ms/step - loss: 17.0832 - mae: 17.0832 - mse: 892.4434 - val_loss: 52.8838 - val_mae: 52.8838 - val_mse: 4563.3516\n",
            "Epoch 71/111\n",
            "4/4 [==============================] - 3s 765ms/step - loss: 14.9421 - mae: 14.9421 - mse: 845.3591 - val_loss: 49.7841 - val_mae: 49.7841 - val_mse: 4275.4058\n",
            "Epoch 72/111\n",
            "4/4 [==============================] - 3s 759ms/step - loss: 17.3884 - mae: 17.3884 - mse: 765.1667 - val_loss: 48.0011 - val_mae: 48.0011 - val_mse: 4175.5625\n",
            "Epoch 73/111\n",
            "4/4 [==============================] - 3s 768ms/step - loss: 19.5433 - mae: 19.5433 - mse: 1081.2926 - val_loss: 51.7949 - val_mae: 51.7949 - val_mse: 4362.9727\n",
            "Epoch 74/111\n",
            "4/4 [==============================] - 3s 759ms/step - loss: 15.4622 - mae: 15.4622 - mse: 710.7395 - val_loss: 52.3881 - val_mae: 52.3881 - val_mse: 4620.7881\n",
            "Epoch 75/111\n",
            "4/4 [==============================] - 3s 757ms/step - loss: 18.6990 - mae: 18.6990 - mse: 740.8322 - val_loss: 47.8513 - val_mae: 47.8513 - val_mse: 4119.7500\n",
            "Epoch 76/111\n",
            "4/4 [==============================] - 3s 755ms/step - loss: 15.4608 - mae: 15.4608 - mse: 738.1316 - val_loss: 50.6831 - val_mae: 50.6831 - val_mse: 4300.6763\n",
            "Epoch 77/111\n",
            "4/4 [==============================] - 3s 759ms/step - loss: 14.4476 - mae: 14.4476 - mse: 665.0085 - val_loss: 51.4669 - val_mae: 51.4669 - val_mse: 4531.8623\n",
            "Epoch 78/111\n",
            "4/4 [==============================] - 3s 757ms/step - loss: 14.8945 - mae: 14.8945 - mse: 595.1091 - val_loss: 48.2593 - val_mae: 48.2593 - val_mse: 4171.2998\n",
            "Epoch 79/111\n",
            "4/4 [==============================] - 3s 755ms/step - loss: 14.9110 - mae: 14.9110 - mse: 673.6601 - val_loss: 46.4158 - val_mae: 46.4158 - val_mse: 3995.5708\n",
            "Epoch 80/111\n",
            "4/4 [==============================] - 3s 761ms/step - loss: 14.8922 - mae: 14.8922 - mse: 568.4813 - val_loss: 50.0711 - val_mae: 50.0711 - val_mse: 4370.0083\n",
            "Epoch 81/111\n",
            "4/4 [==============================] - 3s 757ms/step - loss: 12.6573 - mae: 12.6573 - mse: 450.4243 - val_loss: 50.2489 - val_mae: 50.2489 - val_mse: 4402.2314\n",
            "Epoch 82/111\n",
            "4/4 [==============================] - 4s 808ms/step - loss: 12.1036 - mae: 12.1036 - mse: 421.9152 - val_loss: 47.8886 - val_mae: 47.8886 - val_mse: 4226.0200\n",
            "Epoch 83/111\n",
            "4/4 [==============================] - 3s 763ms/step - loss: 13.9993 - mae: 13.9993 - mse: 2034.2744 - val_loss: 47.3531 - val_mae: 47.3531 - val_mse: 4197.5010\n",
            "Epoch 84/111\n",
            "4/4 [==============================] - 3s 750ms/step - loss: 12.1743 - mae: 12.1743 - mse: 468.8322 - val_loss: 48.9555 - val_mae: 48.9555 - val_mse: 4335.9150\n",
            "Epoch 85/111\n",
            "4/4 [==============================] - 4s 761ms/step - loss: 10.4951 - mae: 10.4951 - mse: 416.8236 - val_loss: 50.0794 - val_mae: 50.0794 - val_mse: 4395.5830\n",
            "Epoch 86/111\n",
            "4/4 [==============================] - 3s 766ms/step - loss: 10.9950 - mae: 10.9950 - mse: 377.6925 - val_loss: 48.4591 - val_mae: 48.4591 - val_mse: 4299.8008\n",
            "Epoch 87/111\n",
            "4/4 [==============================] - 3s 769ms/step - loss: 10.3933 - mae: 10.3933 - mse: 406.0759 - val_loss: 49.8295 - val_mae: 49.8295 - val_mse: 4366.9360\n",
            "Epoch 88/111\n",
            "4/4 [==============================] - 3s 773ms/step - loss: 11.6581 - mae: 11.6581 - mse: 356.9316 - val_loss: 48.8104 - val_mae: 48.8104 - val_mse: 4322.6885\n",
            "Epoch 89/111\n",
            "4/4 [==============================] - 4s 1s/step - loss: 9.2188 - mae: 9.2188 - mse: 322.9211 - val_loss: 44.0184 - val_mae: 44.0184 - val_mse: 4233.7964\n",
            "Epoch 90/111\n",
            "4/4 [==============================] - 3s 770ms/step - loss: 12.8447 - mae: 12.8447 - mse: 397.7422 - val_loss: 51.8031 - val_mae: 51.8031 - val_mse: 4686.1177\n",
            "Epoch 91/111\n",
            "4/4 [==============================] - 3s 753ms/step - loss: 12.3059 - mae: 12.3059 - mse: 368.0606 - val_loss: 51.2257 - val_mae: 51.2257 - val_mse: 4501.7397\n",
            "Epoch 92/111\n",
            "4/4 [==============================] - 3s 770ms/step - loss: 10.3964 - mae: 10.3964 - mse: 280.5317 - val_loss: 47.2345 - val_mae: 47.2345 - val_mse: 4301.6431\n",
            "Epoch 93/111\n",
            "4/4 [==============================] - 3s 768ms/step - loss: 9.9688 - mae: 9.9688 - mse: 284.6266 - val_loss: 50.6283 - val_mae: 50.6283 - val_mse: 4515.4360\n",
            "Epoch 94/111\n",
            "4/4 [==============================] - 3s 765ms/step - loss: 8.1530 - mae: 8.1530 - mse: 265.2916 - val_loss: 49.4926 - val_mae: 49.4926 - val_mse: 4455.3936\n",
            "Epoch 95/111\n",
            "4/4 [==============================] - 3s 762ms/step - loss: 8.4101 - mae: 8.4101 - mse: 284.0338 - val_loss: 51.0353 - val_mae: 51.0353 - val_mse: 4560.3975\n",
            "Epoch 96/111\n",
            "4/4 [==============================] - 3s 756ms/step - loss: 8.1854 - mae: 8.1854 - mse: 280.1065 - val_loss: 48.3743 - val_mae: 48.3743 - val_mse: 4428.3716\n",
            "Epoch 97/111\n",
            "4/4 [==============================] - 3s 769ms/step - loss: 9.1169 - mae: 9.1169 - mse: 313.4434 - val_loss: 51.7786 - val_mae: 51.7786 - val_mse: 4700.2812\n",
            "Epoch 98/111\n",
            "4/4 [==============================] - 3s 756ms/step - loss: 8.8259 - mae: 8.8259 - mse: 283.3237 - val_loss: 51.6494 - val_mae: 51.6494 - val_mse: 4752.5264\n",
            "Epoch 99/111\n",
            "4/4 [==============================] - 3s 769ms/step - loss: 10.0469 - mae: 10.0469 - mse: 316.2750 - val_loss: 50.5605 - val_mae: 50.5605 - val_mse: 4580.2173\n",
            "Epoch 100/111\n",
            "4/4 [==============================] - 3s 753ms/step - loss: 11.2276 - mae: 11.2276 - mse: 335.7313 - val_loss: 49.1341 - val_mae: 49.1341 - val_mse: 4516.2935\n",
            "Epoch 101/111\n",
            "4/4 [==============================] - 3s 761ms/step - loss: 7.8693 - mae: 7.8693 - mse: 268.2825 - val_loss: 53.7555 - val_mae: 53.7555 - val_mse: 4861.2769\n",
            "Epoch 102/111\n",
            "4/4 [==============================] - 3s 763ms/step - loss: 8.4390 - mae: 8.4390 - mse: 268.9832 - val_loss: 54.2886 - val_mae: 54.2886 - val_mse: 4832.4736\n",
            "Epoch 103/111\n",
            "4/4 [==============================] - 3s 760ms/step - loss: 8.9578 - mae: 8.9578 - mse: 261.3186 - val_loss: 52.3792 - val_mae: 52.3792 - val_mse: 4684.7510\n",
            "Epoch 104/111\n",
            "4/4 [==============================] - 3s 760ms/step - loss: 7.7641 - mae: 7.7641 - mse: 247.5910 - val_loss: 53.2344 - val_mae: 53.2344 - val_mse: 4691.9497\n",
            "Epoch 105/111\n",
            "4/4 [==============================] - 3s 760ms/step - loss: 7.9073 - mae: 7.9073 - mse: 243.7677 - val_loss: 51.6347 - val_mae: 51.6347 - val_mse: 4739.8862\n",
            "Epoch 106/111\n",
            "4/4 [==============================] - 3s 761ms/step - loss: 9.3785 - mae: 9.3785 - mse: 288.8896 - val_loss: 52.1382 - val_mae: 52.1382 - val_mse: 4583.5771\n",
            "Epoch 107/111\n",
            "4/4 [==============================] - 3s 769ms/step - loss: 9.9803 - mae: 9.9803 - mse: 332.6685 - val_loss: 48.5843 - val_mae: 48.5843 - val_mse: 4410.0024\n",
            "Epoch 108/111\n",
            "4/4 [==============================] - 3s 767ms/step - loss: 9.9386 - mae: 9.9386 - mse: 276.9235 - val_loss: 54.7564 - val_mae: 54.7564 - val_mse: 4683.2085\n",
            "Epoch 109/111\n",
            "4/4 [==============================] - 3s 772ms/step - loss: 10.5962 - mae: 10.5962 - mse: 366.1960 - val_loss: 46.7785 - val_mae: 46.7785 - val_mse: 4318.1509\n",
            "Epoch 110/111\n",
            "4/4 [==============================] - 3s 764ms/step - loss: 8.4961 - mae: 8.4961 - mse: 305.7716 - val_loss: 52.1922 - val_mae: 52.1922 - val_mse: 4509.2769\n",
            "Epoch 111/111\n",
            "4/4 [==============================] - 3s 765ms/step - loss: 7.3625 - mae: 7.3625 - mse: 247.7734 - val_loss: 49.6446 - val_mae: 49.6446 - val_mse: 4500.8882\n"
          ]
        }
      ]
    },
    {
      "cell_type": "code",
      "source": [
        "# Model Summary()\n",
        "Blstm_Model.summary()"
      ],
      "metadata": {
        "id": "0Klmoy3yimAg",
        "outputId": "09597082-a11b-46ef-9427-30856a3dfb34",
        "colab": {
          "base_uri": "https://localhost:8080/"
        }
      },
      "execution_count": null,
      "outputs": [
        {
          "output_type": "stream",
          "name": "stdout",
          "text": [
            "Model: \"sequential_5\"\n",
            "_________________________________________________________________\n",
            " Layer (type)                Output Shape              Param #   \n",
            "=================================================================\n",
            " embedding_5 (Embedding)     (None, 1, 1500)           934500    \n",
            "                                                                 \n",
            " bidirectional_10 (Bidirecti  (None, 1, 3000)          36012000  \n",
            " onal)                                                           \n",
            "                                                                 \n",
            " bidirectional_11 (Bidirecti  (None, 3000)             54012000  \n",
            " onal)                                                           \n",
            "                                                                 \n",
            " dense_10 (Dense)            (None, 100)               300100    \n",
            "                                                                 \n",
            " dense_11 (Dense)            (None, 1)                 101       \n",
            "                                                                 \n",
            "=================================================================\n",
            "Total params: 91,258,701\n",
            "Trainable params: 91,258,701\n",
            "Non-trainable params: 0\n",
            "_________________________________________________________________\n"
          ]
        }
      ]
    },
    {
      "cell_type": "code",
      "source": [
        "\n",
        "# summarize history for MSE\n",
        "\n",
        "plt.plot(Blstm_History.history['mse'])\n",
        "plt.plot(Blstm_History.history['val_mse'])\n",
        "plt.title('model MSE')\n",
        "plt.ylabel('MSE')\n",
        "plt.xlabel('epoch')\n",
        "plt.legend(['train', 'test'], loc='upper left')\n",
        "plt.show()"
      ],
      "metadata": {
        "id": "-ApJMzEajegx",
        "outputId": "b490b509-ee83-4a5f-e422-e783cc58acc5",
        "colab": {
          "base_uri": "https://localhost:8080/",
          "height": 295
        }
      },
      "execution_count": null,
      "outputs": [
        {
          "output_type": "display_data",
          "data": {
            "text/plain": [
              "<Figure size 432x288 with 1 Axes>"
            ],
            "image/png": "[encoded data removed]"
          },
          "metadata": {
            "needs_background": "light"
          }
        }
      ]
    },
    {
      "cell_type": "code",
      "source": [
        "# summarize history for mae\n",
        "\n",
        "plt.plot(Blstm_History.history['mae'])\n",
        "plt.plot(Blstm_History.history['val_mae'])\n",
        "plt.title('model mae')\n",
        "plt.ylabel('mae')\n",
        "plt.xlabel('epoch')\n",
        "plt.legend(['train', 'test'], loc='upper left')\n",
        "plt.show()"
      ],
      "metadata": {
        "id": "sGCrUIU5jt6i",
        "outputId": "c34b9ab0-a03c-451c-9a50-3e569d97ae74",
        "colab": {
          "base_uri": "https://localhost:8080/",
          "height": 295
        }
      },
      "execution_count": null,
      "outputs": [
        {
          "output_type": "display_data",
          "data": {
            "text/plain": [
              "<Figure size 432x288 with 1 Axes>"
            ],
            "image/png": "[encoded data removed]"
          },
          "metadata": {
            "needs_background": "light"
          }
        }
      ]
    },
    {
      "cell_type": "code",
      "source": [
        "# summarize history for Loss\n",
        "\n",
        "plt.plot(Blstm_History.history['loss'])\n",
        "plt.plot(Blstm_History.history['val_loss'])\n",
        "plt.title('model LOSS')\n",
        "plt.ylabel('LOSS')\n",
        "plt.xlabel('epoch')\n",
        "plt.legend(['train', 'test'], loc='upper left')\n",
        "plt.show()"
      ],
      "metadata": {
        "id": "k6TwdGV4j8bd",
        "outputId": "9e848b5d-dabe-4881-ad9f-d0f4f3c0488b",
        "colab": {
          "base_uri": "https://localhost:8080/",
          "height": 295
        }
      },
      "execution_count": null,
      "outputs": [
        {
          "output_type": "display_data",
          "data": {
            "text/plain": [
              "<Figure size 432x288 with 1 Axes>"
            ],
            "image/png": "[encoded data removed]"
          },
          "metadata": {
            "needs_background": "light"
          }
        }
      ]
    },
    {
      "cell_type": "markdown",
      "source": [
        "## GRU MODEL"
      ],
      "metadata": {
        "id": "pDSbVsU_l00y"
      }
    },
    {
      "cell_type": "code",
      "source": [
        "from keras.backend import dropout\n",
        "from keras.layers.convolutional import activations\n",
        "# Set the random Seed\n",
        "tf.random.set_seed(42)\n",
        "\n",
        "# Create model\n",
        "\n",
        "Gru_Model = Sequential()\n",
        "Gru_Model.add(Embedding(input_dim = 623 ,output_dim = 1000, input_length=1))\n",
        "Gru_Model.add(GRU(1000,dropout=0.6,return_sequences=True))\n",
        "Gru_Model.add(GRU(1000,dropout=0.3))\n",
        "Gru_Model.add(Dense(100,activation=\"relu\"))\n",
        "Gru_Model.add(Dense(1,activation=\"relu\"))\n",
        "\n"
      ],
      "metadata": {
        "id": "y4yo8s1sl0EZ"
      },
      "execution_count": null,
      "outputs": []
    },
    {
      "cell_type": "code",
      "source": [
        "# Compile Model\n",
        "Gru_Model.compile(loss=tf.keras.losses.MeanAbsoluteError(), optimizer=tf.keras.optimizers.Adam(learning_rate=0.01),metrics=['mae','mse'])\n",
        "# Fit Model\n",
        "Gru_History = Gru_Model.fit(xtrain,  ytrain,validation_data=(xtest,ytest), epochs=100,batch_size=32)"
      ],
      "metadata": {
        "id": "C2pkdDfGnzlI",
        "outputId": "aa718bb8-46cd-47e8-82d4-a63f0d19a59b",
        "colab": {
          "base_uri": "https://localhost:8080/"
        }
      },
      "execution_count": null,
      "outputs": [
        {
          "output_type": "stream",
          "name": "stdout",
          "text": [
            "Epoch 1/100\n",
            "4/4 [==============================] - 6s 412ms/step - loss: 286.2227 - mae: 286.2227 - mse: 95908.4297 - val_loss: 232.3380 - val_mae: 232.3380 - val_mse: 61385.8477\n",
            "Epoch 2/100\n",
            "4/4 [==============================] - 1s 134ms/step - loss: 156.2777 - mae: 156.2777 - mse: 35601.1797 - val_loss: 96.2505 - val_mae: 96.2505 - val_mse: 12269.9053\n",
            "Epoch 3/100\n",
            "4/4 [==============================] - 1s 134ms/step - loss: 105.9967 - mae: 105.9967 - mse: 16459.8848 - val_loss: 87.2188 - val_mae: 87.2188 - val_mse: 11700.7881\n",
            "Epoch 4/100\n",
            "4/4 [==============================] - 1s 136ms/step - loss: 120.1327 - mae: 120.1327 - mse: 21000.2793 - val_loss: 74.1379 - val_mae: 74.1379 - val_mse: 8222.7363\n",
            "Epoch 5/100\n",
            "4/4 [==============================] - 1s 134ms/step - loss: 104.2413 - mae: 104.2413 - mse: 15989.3301 - val_loss: 84.1394 - val_mae: 84.1394 - val_mse: 10175.5459\n",
            "Epoch 6/100\n",
            "4/4 [==============================] - 1s 138ms/step - loss: 96.9555 - mae: 96.9555 - mse: 13950.4453 - val_loss: 50.2869 - val_mae: 50.2869 - val_mse: 5815.7759\n",
            "Epoch 7/100\n",
            "4/4 [==============================] - 1s 135ms/step - loss: 87.4884 - mae: 87.4884 - mse: 11181.3281 - val_loss: 75.0231 - val_mae: 75.0231 - val_mse: 8303.2676\n",
            "Epoch 8/100\n",
            "4/4 [==============================] - 1s 129ms/step - loss: 61.0172 - mae: 61.0172 - mse: 5937.0483 - val_loss: 64.1180 - val_mae: 64.1180 - val_mse: 7773.7803\n",
            "Epoch 9/100\n",
            "4/4 [==============================] - 1s 132ms/step - loss: 58.3373 - mae: 58.3373 - mse: 5698.2002 - val_loss: 78.7348 - val_mae: 78.7348 - val_mse: 9060.7275\n",
            "Epoch 10/100\n",
            "4/4 [==============================] - 1s 130ms/step - loss: 55.6233 - mae: 55.6233 - mse: 5059.2339 - val_loss: 58.7513 - val_mae: 58.7513 - val_mse: 6468.6177\n",
            "Epoch 11/100\n",
            "4/4 [==============================] - 1s 132ms/step - loss: 50.4902 - mae: 50.4902 - mse: 4831.3940 - val_loss: 72.9438 - val_mae: 72.9438 - val_mse: 7819.3413\n",
            "Epoch 12/100\n",
            "4/4 [==============================] - 1s 132ms/step - loss: 46.1233 - mae: 46.1233 - mse: 3617.4219 - val_loss: 68.2312 - val_mae: 68.2312 - val_mse: 7027.8247\n",
            "Epoch 13/100\n",
            "4/4 [==============================] - 1s 141ms/step - loss: 34.4431 - mae: 34.4431 - mse: 2241.9971 - val_loss: 57.2250 - val_mae: 57.2250 - val_mse: 5791.5337\n",
            "Epoch 14/100\n",
            "4/4 [==============================] - 1s 133ms/step - loss: 28.3281 - mae: 28.3281 - mse: 1800.5350 - val_loss: 56.9129 - val_mae: 56.9129 - val_mse: 6312.1851\n",
            "Epoch 15/100\n",
            "4/4 [==============================] - 1s 137ms/step - loss: 29.5198 - mae: 29.5198 - mse: 1671.7063 - val_loss: 48.1377 - val_mae: 48.1377 - val_mse: 5388.2422\n",
            "Epoch 16/100\n",
            "4/4 [==============================] - 1s 131ms/step - loss: 25.4066 - mae: 25.4066 - mse: 1322.6819 - val_loss: 53.3682 - val_mae: 53.3682 - val_mse: 5425.4468\n",
            "Epoch 17/100\n",
            "4/4 [==============================] - 1s 135ms/step - loss: 24.8736 - mae: 24.8736 - mse: 1397.7340 - val_loss: 51.5939 - val_mae: 51.5939 - val_mse: 5126.7378\n",
            "Epoch 18/100\n",
            "4/4 [==============================] - 1s 133ms/step - loss: 19.6919 - mae: 19.6919 - mse: 821.4221 - val_loss: 50.0138 - val_mae: 50.0138 - val_mse: 4994.1987\n",
            "Epoch 19/100\n",
            "4/4 [==============================] - 1s 135ms/step - loss: 33.1236 - mae: 33.1236 - mse: 4774.6567 - val_loss: 57.7281 - val_mae: 57.7281 - val_mse: 5536.1484\n",
            "Epoch 20/100\n",
            "4/4 [==============================] - 1s 130ms/step - loss: 29.5380 - mae: 29.5380 - mse: 3160.3279 - val_loss: 46.3637 - val_mae: 46.3637 - val_mse: 4516.4688\n",
            "Epoch 21/100\n",
            "4/4 [==============================] - 1s 135ms/step - loss: 23.9266 - mae: 23.9266 - mse: 2053.9763 - val_loss: 51.8578 - val_mae: 51.8578 - val_mse: 5067.3433\n",
            "Epoch 22/100\n",
            "4/4 [==============================] - 1s 135ms/step - loss: 24.8070 - mae: 24.8070 - mse: 2960.8713 - val_loss: 46.4233 - val_mae: 46.4233 - val_mse: 4867.2373\n",
            "Epoch 23/100\n",
            "4/4 [==============================] - 1s 137ms/step - loss: 23.8462 - mae: 23.8462 - mse: 2515.0933 - val_loss: 53.1831 - val_mae: 53.1831 - val_mse: 5354.5859\n",
            "Epoch 24/100\n",
            "4/4 [==============================] - 1s 133ms/step - loss: 23.1281 - mae: 23.1281 - mse: 2808.7527 - val_loss: 46.8450 - val_mae: 46.8450 - val_mse: 4988.4019\n",
            "Epoch 25/100\n",
            "4/4 [==============================] - 1s 136ms/step - loss: 24.1686 - mae: 24.1686 - mse: 2377.6506 - val_loss: 44.9475 - val_mae: 44.9475 - val_mse: 5068.8506\n",
            "Epoch 26/100\n",
            "4/4 [==============================] - 1s 133ms/step - loss: 20.1088 - mae: 20.1088 - mse: 1598.8868 - val_loss: 52.6340 - val_mae: 52.6340 - val_mse: 5871.7651\n",
            "Epoch 27/100\n",
            "4/4 [==============================] - 1s 137ms/step - loss: 22.3322 - mae: 22.3322 - mse: 1810.3262 - val_loss: 44.2698 - val_mae: 44.2698 - val_mse: 5200.2725\n",
            "Epoch 28/100\n",
            "4/4 [==============================] - 1s 131ms/step - loss: 29.2544 - mae: 29.2544 - mse: 2202.8372 - val_loss: 53.3731 - val_mae: 53.3731 - val_mse: 5776.9565\n",
            "Epoch 29/100\n",
            "4/4 [==============================] - 1s 135ms/step - loss: 29.5651 - mae: 29.5651 - mse: 3001.9207 - val_loss: 48.4830 - val_mae: 48.4830 - val_mse: 5166.3179\n",
            "Epoch 30/100\n",
            "4/4 [==============================] - 1s 134ms/step - loss: 23.0423 - mae: 23.0423 - mse: 1419.4125 - val_loss: 49.7089 - val_mae: 49.7089 - val_mse: 5286.6240\n",
            "Epoch 31/100\n",
            "4/4 [==============================] - 1s 135ms/step - loss: 19.9706 - mae: 19.9706 - mse: 1152.3165 - val_loss: 50.9336 - val_mae: 50.9336 - val_mse: 5236.8242\n",
            "Epoch 32/100\n",
            "4/4 [==============================] - 1s 134ms/step - loss: 19.2957 - mae: 19.2957 - mse: 1122.0404 - val_loss: 50.0459 - val_mae: 50.0459 - val_mse: 5304.3472\n",
            "Epoch 33/100\n",
            "4/4 [==============================] - 1s 133ms/step - loss: 22.1366 - mae: 22.1366 - mse: 1713.7051 - val_loss: 46.0048 - val_mae: 46.0048 - val_mse: 5128.7700\n",
            "Epoch 34/100\n",
            "4/4 [==============================] - 1s 132ms/step - loss: 16.1748 - mae: 16.1748 - mse: 846.6117 - val_loss: 53.6596 - val_mae: 53.6596 - val_mse: 5861.0034\n",
            "Epoch 35/100\n",
            "4/4 [==============================] - 1s 133ms/step - loss: 15.5939 - mae: 15.5939 - mse: 769.8624 - val_loss: 47.2799 - val_mae: 47.2799 - val_mse: 5219.1929\n",
            "Epoch 36/100\n",
            "4/4 [==============================] - 1s 134ms/step - loss: 15.3002 - mae: 15.3002 - mse: 763.1246 - val_loss: 54.1222 - val_mae: 54.1222 - val_mse: 5720.1055\n",
            "Epoch 37/100\n",
            "4/4 [==============================] - 1s 133ms/step - loss: 16.0556 - mae: 16.0556 - mse: 745.9030 - val_loss: 45.1492 - val_mae: 45.1492 - val_mse: 4787.1787\n",
            "Epoch 38/100\n",
            "4/4 [==============================] - 1s 135ms/step - loss: 17.7534 - mae: 17.7534 - mse: 913.7557 - val_loss: 46.8439 - val_mae: 46.8439 - val_mse: 4890.2275\n",
            "Epoch 39/100\n",
            "4/4 [==============================] - 1s 136ms/step - loss: 15.7215 - mae: 15.7215 - mse: 977.9644 - val_loss: 54.5459 - val_mae: 54.5459 - val_mse: 6087.7432\n",
            "Epoch 40/100\n",
            "4/4 [==============================] - 1s 135ms/step - loss: 18.2265 - mae: 18.2265 - mse: 985.2401 - val_loss: 46.1425 - val_mae: 46.1425 - val_mse: 5501.2300\n",
            "Epoch 41/100\n",
            "4/4 [==============================] - 1s 137ms/step - loss: 18.1586 - mae: 18.1586 - mse: 797.0028 - val_loss: 57.6444 - val_mae: 57.6444 - val_mse: 6586.6821\n",
            "Epoch 42/100\n",
            "4/4 [==============================] - 1s 137ms/step - loss: 21.3805 - mae: 21.3805 - mse: 932.5753 - val_loss: 43.0084 - val_mae: 43.0084 - val_mse: 5314.5010\n",
            "Epoch 43/100\n",
            "4/4 [==============================] - 1s 133ms/step - loss: 20.5299 - mae: 20.5299 - mse: 875.9102 - val_loss: 49.3514 - val_mae: 49.3514 - val_mse: 5613.0122\n",
            "Epoch 44/100\n",
            "4/4 [==============================] - 1s 136ms/step - loss: 14.9261 - mae: 14.9261 - mse: 490.1445 - val_loss: 42.2869 - val_mae: 42.2869 - val_mse: 5145.8564\n",
            "Epoch 45/100\n",
            "4/4 [==============================] - 1s 132ms/step - loss: 14.2780 - mae: 14.2780 - mse: 442.9913 - val_loss: 49.6698 - val_mae: 49.6698 - val_mse: 5689.4502\n",
            "Epoch 46/100\n",
            "4/4 [==============================] - 1s 134ms/step - loss: 13.5183 - mae: 13.5183 - mse: 421.6851 - val_loss: 46.2348 - val_mae: 46.2348 - val_mse: 5511.3774\n",
            "Epoch 47/100\n",
            "4/4 [==============================] - 1s 133ms/step - loss: 12.3836 - mae: 12.3836 - mse: 311.2146 - val_loss: 48.0254 - val_mae: 48.0254 - val_mse: 5432.8491\n",
            "Epoch 48/100\n",
            "4/4 [==============================] - 1s 140ms/step - loss: 12.6855 - mae: 12.6855 - mse: 341.5380 - val_loss: 49.2933 - val_mae: 49.2933 - val_mse: 5480.3511\n",
            "Epoch 49/100\n",
            "4/4 [==============================] - 1s 131ms/step - loss: 10.7807 - mae: 10.7807 - mse: 204.7038 - val_loss: 46.6866 - val_mae: 46.6866 - val_mse: 5459.7856\n",
            "Epoch 50/100\n",
            "4/4 [==============================] - 1s 136ms/step - loss: 11.4234 - mae: 11.4234 - mse: 204.7494 - val_loss: 44.3178 - val_mae: 44.3178 - val_mse: 5100.6641\n",
            "Epoch 51/100\n",
            "4/4 [==============================] - 1s 131ms/step - loss: 10.6124 - mae: 10.6124 - mse: 206.6215 - val_loss: 47.6429 - val_mae: 47.6429 - val_mse: 5287.5537\n",
            "Epoch 52/100\n",
            "4/4 [==============================] - 1s 138ms/step - loss: 11.9612 - mae: 11.9612 - mse: 502.9824 - val_loss: 47.8234 - val_mae: 47.8234 - val_mse: 5223.7041\n",
            "Epoch 53/100\n",
            "4/4 [==============================] - 1s 132ms/step - loss: 11.0523 - mae: 11.0523 - mse: 241.1250 - val_loss: 50.7258 - val_mae: 50.7258 - val_mse: 5242.9839\n",
            "Epoch 54/100\n",
            "4/4 [==============================] - 1s 136ms/step - loss: 9.8844 - mae: 9.8844 - mse: 186.4424 - val_loss: 50.3498 - val_mae: 50.3498 - val_mse: 5217.1333\n",
            "Epoch 55/100\n",
            "4/4 [==============================] - 1s 133ms/step - loss: 9.6771 - mae: 9.6771 - mse: 171.6150 - val_loss: 45.7061 - val_mae: 45.7061 - val_mse: 4720.9810\n",
            "Epoch 56/100\n",
            "4/4 [==============================] - 1s 136ms/step - loss: 9.5100 - mae: 9.5100 - mse: 155.2238 - val_loss: 43.9723 - val_mae: 43.9723 - val_mse: 4912.4385\n",
            "Epoch 57/100\n",
            "4/4 [==============================] - 1s 134ms/step - loss: 9.7362 - mae: 9.7362 - mse: 158.9955 - val_loss: 47.5785 - val_mae: 47.5785 - val_mse: 5229.5576\n",
            "Epoch 58/100\n",
            "4/4 [==============================] - 1s 139ms/step - loss: 8.2988 - mae: 8.2989 - mse: 136.5508 - val_loss: 46.7140 - val_mae: 46.7140 - val_mse: 5138.7915\n",
            "Epoch 59/100\n",
            "4/4 [==============================] - 1s 134ms/step - loss: 8.7364 - mae: 8.7364 - mse: 144.2542 - val_loss: 51.3587 - val_mae: 51.3587 - val_mse: 5351.8682\n",
            "Epoch 60/100\n",
            "4/4 [==============================] - 1s 131ms/step - loss: 10.9502 - mae: 10.9502 - mse: 203.4971 - val_loss: 53.5957 - val_mae: 53.5957 - val_mse: 5689.3672\n",
            "Epoch 61/100\n",
            "4/4 [==============================] - 1s 135ms/step - loss: 12.1088 - mae: 12.1088 - mse: 235.8261 - val_loss: 41.7845 - val_mae: 41.7845 - val_mse: 4693.1021\n",
            "Epoch 62/100\n",
            "4/4 [==============================] - 1s 135ms/step - loss: 14.2428 - mae: 14.2428 - mse: 349.0171 - val_loss: 51.3092 - val_mae: 51.3092 - val_mse: 5456.8359\n",
            "Epoch 63/100\n",
            "4/4 [==============================] - 1s 133ms/step - loss: 10.8220 - mae: 10.8220 - mse: 222.8667 - val_loss: 42.3348 - val_mae: 42.3348 - val_mse: 4665.3408\n",
            "Epoch 64/100\n",
            "4/4 [==============================] - 1s 134ms/step - loss: 10.2704 - mae: 10.2704 - mse: 184.6914 - val_loss: 49.9546 - val_mae: 49.9546 - val_mse: 5175.5913\n",
            "Epoch 65/100\n",
            "4/4 [==============================] - 1s 136ms/step - loss: 10.2999 - mae: 10.2999 - mse: 193.3259 - val_loss: 46.4978 - val_mae: 46.4978 - val_mse: 5006.6597\n",
            "Epoch 66/100\n",
            "4/4 [==============================] - 1s 132ms/step - loss: 9.9328 - mae: 9.9328 - mse: 175.9374 - val_loss: 43.6896 - val_mae: 43.6896 - val_mse: 4988.0239\n",
            "Epoch 67/100\n",
            "4/4 [==============================] - 1s 137ms/step - loss: 8.5197 - mae: 8.5197 - mse: 133.7644 - val_loss: 56.1527 - val_mae: 56.1527 - val_mse: 6008.8984\n",
            "Epoch 68/100\n",
            "4/4 [==============================] - 1s 130ms/step - loss: 11.6383 - mae: 11.6383 - mse: 216.3067 - val_loss: 45.3229 - val_mae: 45.3229 - val_mse: 5184.0376\n",
            "Epoch 69/100\n",
            "4/4 [==============================] - 1s 142ms/step - loss: 12.4876 - mae: 12.4876 - mse: 258.1391 - val_loss: 54.4300 - val_mae: 54.4300 - val_mse: 5737.4619\n",
            "Epoch 70/100\n",
            "4/4 [==============================] - 1s 133ms/step - loss: 11.5608 - mae: 11.5608 - mse: 226.4538 - val_loss: 50.8228 - val_mae: 50.8228 - val_mse: 5418.1865\n",
            "Epoch 71/100\n",
            "4/4 [==============================] - 1s 139ms/step - loss: 8.5309 - mae: 8.5309 - mse: 143.5094 - val_loss: 45.7444 - val_mae: 45.7444 - val_mse: 4872.0635\n",
            "Epoch 72/100\n",
            "4/4 [==============================] - 1s 135ms/step - loss: 9.4055 - mae: 9.4055 - mse: 162.5291 - val_loss: 44.6633 - val_mae: 44.6633 - val_mse: 4987.7485\n",
            "Epoch 73/100\n",
            "4/4 [==============================] - 1s 138ms/step - loss: 7.5110 - mae: 7.5110 - mse: 106.1880 - val_loss: 48.2695 - val_mae: 48.2695 - val_mse: 5266.4141\n",
            "Epoch 74/100\n",
            "4/4 [==============================] - 1s 134ms/step - loss: 6.4109 - mae: 6.4109 - mse: 78.0143 - val_loss: 48.4280 - val_mae: 48.4280 - val_mse: 5234.9224\n",
            "Epoch 75/100\n",
            "4/4 [==============================] - 1s 140ms/step - loss: 6.6168 - mae: 6.6168 - mse: 99.3803 - val_loss: 48.2206 - val_mae: 48.2206 - val_mse: 5140.3828\n",
            "Epoch 76/100\n",
            "4/4 [==============================] - 1s 132ms/step - loss: 7.0295 - mae: 7.0295 - mse: 106.1340 - val_loss: 46.0589 - val_mae: 46.0589 - val_mse: 5046.3774\n",
            "Epoch 77/100\n",
            "4/4 [==============================] - 1s 141ms/step - loss: 6.3946 - mae: 6.3946 - mse: 89.0319 - val_loss: 47.8798 - val_mae: 47.8798 - val_mse: 5061.0337\n",
            "Epoch 78/100\n",
            "4/4 [==============================] - 1s 140ms/step - loss: 8.4046 - mae: 8.4046 - mse: 124.9146 - val_loss: 45.5231 - val_mae: 45.5231 - val_mse: 4905.7959\n",
            "Epoch 79/100\n",
            "4/4 [==============================] - 1s 139ms/step - loss: 7.7880 - mae: 7.7880 - mse: 135.7235 - val_loss: 43.0086 - val_mae: 43.0086 - val_mse: 4824.2749\n",
            "Epoch 80/100\n",
            "4/4 [==============================] - 1s 132ms/step - loss: 9.3205 - mae: 9.3205 - mse: 156.6070 - val_loss: 52.8848 - val_mae: 52.8848 - val_mse: 5747.9307\n",
            "Epoch 81/100\n",
            "4/4 [==============================] - 1s 136ms/step - loss: 9.8866 - mae: 9.8866 - mse: 181.4765 - val_loss: 45.9359 - val_mae: 45.9359 - val_mse: 4909.2451\n",
            "Epoch 82/100\n",
            "4/4 [==============================] - 1s 134ms/step - loss: 10.0492 - mae: 10.0492 - mse: 194.7837 - val_loss: 46.6674 - val_mae: 46.6674 - val_mse: 5146.9600\n",
            "Epoch 83/100\n",
            "4/4 [==============================] - 1s 133ms/step - loss: 13.9811 - mae: 13.9811 - mse: 380.3295 - val_loss: 42.4023 - val_mae: 42.4023 - val_mse: 4925.9854\n",
            "Epoch 84/100\n",
            "4/4 [==============================] - 1s 138ms/step - loss: 10.3769 - mae: 10.3769 - mse: 213.3452 - val_loss: 50.7553 - val_mae: 50.7553 - val_mse: 5517.3716\n",
            "Epoch 85/100\n",
            "4/4 [==============================] - 1s 134ms/step - loss: 9.0282 - mae: 9.0282 - mse: 132.3848 - val_loss: 43.1073 - val_mae: 43.1073 - val_mse: 4681.6904\n",
            "Epoch 86/100\n",
            "4/4 [==============================] - 1s 135ms/step - loss: 9.2250 - mae: 9.2250 - mse: 147.7745 - val_loss: 46.7931 - val_mae: 46.7931 - val_mse: 4829.2817\n",
            "Epoch 87/100\n",
            "4/4 [==============================] - 1s 133ms/step - loss: 8.2226 - mae: 8.2226 - mse: 152.9978 - val_loss: 45.3129 - val_mae: 45.3129 - val_mse: 4742.9419\n",
            "Epoch 88/100\n",
            "4/4 [==============================] - 1s 140ms/step - loss: 7.9462 - mae: 7.9462 - mse: 117.3811 - val_loss: 45.8965 - val_mae: 45.8965 - val_mse: 4788.3237\n",
            "Epoch 89/100\n",
            "4/4 [==============================] - 1s 133ms/step - loss: 10.5069 - mae: 10.5069 - mse: 169.0039 - val_loss: 45.6635 - val_mae: 45.6635 - val_mse: 4973.0322\n",
            "Epoch 90/100\n",
            "4/4 [==============================] - 1s 137ms/step - loss: 11.1541 - mae: 11.1541 - mse: 204.6400 - val_loss: 47.2902 - val_mae: 47.2902 - val_mse: 5078.5913\n",
            "Epoch 91/100\n",
            "4/4 [==============================] - 1s 137ms/step - loss: 9.7601 - mae: 9.7601 - mse: 156.6155 - val_loss: 45.6883 - val_mae: 45.6883 - val_mse: 4845.4180\n",
            "Epoch 92/100\n",
            "4/4 [==============================] - 1s 138ms/step - loss: 9.9050 - mae: 9.9050 - mse: 173.1076 - val_loss: 48.0987 - val_mae: 48.0987 - val_mse: 5136.8975\n",
            "Epoch 93/100\n",
            "4/4 [==============================] - 1s 133ms/step - loss: 8.2075 - mae: 8.2075 - mse: 129.5908 - val_loss: 47.9117 - val_mae: 47.9117 - val_mse: 5032.2432\n",
            "Epoch 94/100\n",
            "4/4 [==============================] - 1s 138ms/step - loss: 7.6295 - mae: 7.6295 - mse: 146.1009 - val_loss: 46.2198 - val_mae: 46.2198 - val_mse: 4983.6865\n",
            "Epoch 95/100\n",
            "4/4 [==============================] - 1s 134ms/step - loss: 6.8286 - mae: 6.8286 - mse: 93.9052 - val_loss: 46.8816 - val_mae: 46.8816 - val_mse: 4952.7700\n",
            "Epoch 96/100\n",
            "4/4 [==============================] - 1s 138ms/step - loss: 6.3513 - mae: 6.3513 - mse: 88.9926 - val_loss: 48.1720 - val_mae: 48.1720 - val_mse: 5131.5029\n",
            "Epoch 97/100\n",
            "4/4 [==============================] - 1s 134ms/step - loss: 6.6759 - mae: 6.6759 - mse: 106.9927 - val_loss: 49.2695 - val_mae: 49.2695 - val_mse: 5266.0415\n",
            "Epoch 98/100\n",
            "4/4 [==============================] - 1s 145ms/step - loss: 7.1905 - mae: 7.1905 - mse: 98.3623 - val_loss: 47.5642 - val_mae: 47.5642 - val_mse: 4937.4873\n",
            "Epoch 99/100\n",
            "4/4 [==============================] - 1s 133ms/step - loss: 6.9515 - mae: 6.9515 - mse: 106.6114 - val_loss: 47.0842 - val_mae: 47.0842 - val_mse: 4836.5845\n",
            "Epoch 100/100\n",
            "4/4 [==============================] - 1s 138ms/step - loss: 6.9695 - mae: 6.9695 - mse: 103.4969 - val_loss: 44.8696 - val_mae: 44.8696 - val_mse: 4780.7744\n"
          ]
        }
      ]
    },
    {
      "cell_type": "code",
      "source": [
        "# Model Summary\n",
        "\n",
        "Gru_Model.summary()"
      ],
      "metadata": {
        "id": "8c_W77w0vRfP",
        "outputId": "03590559-b87d-4339-f893-8b6c9f814f4b",
        "colab": {
          "base_uri": "https://localhost:8080/"
        }
      },
      "execution_count": null,
      "outputs": [
        {
          "output_type": "stream",
          "name": "stdout",
          "text": [
            "Model: \"sequential_20\"\n",
            "_________________________________________________________________\n",
            " Layer (type)                Output Shape              Param #   \n",
            "=================================================================\n",
            " embedding_20 (Embedding)    (None, 1, 1000)           623000    \n",
            "                                                                 \n",
            " gru_27 (GRU)                (None, 1, 1000)           6006000   \n",
            "                                                                 \n",
            " gru_28 (GRU)                (None, 1000)              6006000   \n",
            "                                                                 \n",
            " dense_40 (Dense)            (None, 100)               100100    \n",
            "                                                                 \n",
            " dense_41 (Dense)            (None, 1)                 101       \n",
            "                                                                 \n",
            "=================================================================\n",
            "Total params: 12,735,201\n",
            "Trainable params: 12,735,201\n",
            "Non-trainable params: 0\n",
            "_________________________________________________________________\n"
          ]
        }
      ]
    },
    {
      "cell_type": "code",
      "source": [
        "# summarize history for MSE\n",
        "\n",
        "plt.plot(Gru_History.history['mse'])\n",
        "plt.plot(Gru_History.history['val_mse'])\n",
        "plt.title('model MSE')\n",
        "plt.ylabel('MSE')\n",
        "plt.xlabel('epoch')\n",
        "plt.legend(['train', 'test'], loc='upper left')\n",
        "plt.show()"
      ],
      "metadata": {
        "id": "UQ_bZBF0wD9Q",
        "outputId": "180a4256-6dc1-44a2-fd4d-4ed18fd3cf31",
        "colab": {
          "base_uri": "https://localhost:8080/",
          "height": 295
        }
      },
      "execution_count": null,
      "outputs": [
        {
          "output_type": "display_data",
          "data": {
            "text/plain": [
              "<Figure size 432x288 with 1 Axes>"
            ],
            "image/png": "[encoded data removed]"
          },
          "metadata": {
            "needs_background": "light"
          }
        }
      ]
    },
    {
      "cell_type": "code",
      "source": [
        "# summarize history for mae\n",
        "\n",
        "plt.plot(Gru_History.history['mae'])\n",
        "plt.plot(Gru_History.history['val_mae'])\n",
        "plt.title('model mae')\n",
        "plt.ylabel('mae')\n",
        "plt.xlabel('epoch')\n",
        "plt.legend(['train', 'test'], loc='upper left')\n",
        "plt.show()"
      ],
      "metadata": {
        "id": "8a9p47ESwXLt",
        "outputId": "2e8dbd2b-2119-4547-daa0-0a217b53b450",
        "colab": {
          "base_uri": "https://localhost:8080/",
          "height": 295
        }
      },
      "execution_count": null,
      "outputs": [
        {
          "output_type": "display_data",
          "data": {
            "text/plain": [
              "<Figure size 432x288 with 1 Axes>"
            ],
            "image/png": "[encoded data removed]"
          },
          "metadata": {
            "needs_background": "light"
          }
        }
      ]
    },
    {
      "cell_type": "code",
      "source": [
        "# summarize history for Loss\n",
        "\n",
        "plt.plot(Gru_History.history['loss'])\n",
        "plt.plot(Gru_History.history['val_loss'])\n",
        "plt.title('model LOSS')\n",
        "plt.ylabel('LOSS')\n",
        "plt.xlabel('epoch')\n",
        "plt.legend(['train', 'test'], loc='upper left')\n",
        "plt.show()"
      ],
      "metadata": {
        "id": "jwEDUrwjwefv",
        "outputId": "d20d33f2-733f-404d-e5f8-2b3c761ee845",
        "colab": {
          "base_uri": "https://localhost:8080/",
          "height": 295
        }
      },
      "execution_count": null,
      "outputs": [
        {
          "output_type": "display_data",
          "data": {
            "text/plain": [
              "<Figure size 432x288 with 1 Axes>"
            ],
            "image/png": "[encoded data removed]"
          },
          "metadata": {
            "needs_background": "light"
          }
        }
      ]
    }
  ]
}