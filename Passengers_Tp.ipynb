{
  "nbformat": 4,
  "nbformat_minor": 0,
  "metadata": {
    "colab": {
      "provenance": [],
      "collapsed_sections": [],
      "include_colab_link": true
    },
    "kernelspec": {
      "name": "python3",
      "display_name": "Python 3"
    },
    "language_info": {
      "name": "python"
    }
  },
  "cells": [
    {
      "cell_type": "markdown",
      "metadata": {
        "id": "view-in-github",
        "colab_type": "text"
      },
      "source": [
        "<a href=\"https://colab.research.google.com/github/Faouzi-Slimi/python_Avancee/blob/main/Passengers_Tp.ipynb\" target=\"_parent\"><img src=\"https://colab.research.google.com/assets/colab-badge.svg\" alt=\"Open In Colab\"/></a>"
      ]
    },
    {
      "cell_type": "markdown",
      "source": [
        "## Prepare Data"
      ],
      "metadata": {
        "id": "j5BZK6UTDO2c"
      }
    },
    {
      "cell_type": "code",
      "execution_count": 1,
      "metadata": {
        "id": "2v_eDQ3R9B7B"
      },
      "outputs": [],
      "source": [
        "# Import Packages\n",
        "import tensorflow as tf\n",
        "import pandas as pd \n",
        "import numpy as np\n",
        "from PIL import Image\n",
        "import os\n",
        "import cv2\n",
        "import matplotlib.pyplot as plt\n",
        "from sklearn.model_selection import train_test_split\n",
        "from tensorflow.keras.utils import to_categorical\n",
        "from keras import layers,Sequential\n",
        "from tensorflow.keras.callbacks import EarlyStopping\n",
        "from sklearn.preprocessing import LabelEncoder\n",
        "from tensorflow.keras.preprocessing.text import Tokenizer\n",
        "from sklearn import preprocessing\n",
        "\n",
        "import time\n",
        "from sklearn.preprocessing import StandardScaler, LabelEncoder\n",
        "from sklearn.ensemble import RandomForestClassifier\n",
        "from sklearn.metrics import accuracy_score\n",
        "import matplotlib.pyplot as plt\n",
        "from numpy import array\n",
        "import pandas as pd\n",
        "import numpy as np\n",
        "import seaborn as sns\n",
        "import glob\n",
        "import seaborn as sns\n",
        "from sklearn.model_selection import train_test_split\n",
        "from sklearn.preprocessing import LabelEncoder\n",
        "from keras.preprocessing.text import Tokenizer\n",
        "from keras.preprocessing import sequence\n",
        "from tensorflow.keras import layers\n",
        "from keras.layers import Embedding\n",
        "from tensorflow.keras.layers import LSTM,Bidirectional,GRU\n",
        "\n",
        "from tensorflow.keras.layers import Dense\n",
        "from tensorflow.keras import optimizers"
      ]
    },
    {
      "cell_type": "code",
      "source": [
        "# Connect to drive\n",
        "from google.colab import drive\n",
        "drive.mount('/content/drive')"
      ],
      "metadata": {
        "colab": {
          "base_uri": "https://localhost:8080/"
        },
        "id": "FGhPR13sDpcq",
        "outputId": "966a706b-5d57-47e7-f446-488a8bbeff9b"
      },
      "execution_count": 3,
      "outputs": [
        {
          "output_type": "stream",
          "name": "stdout",
          "text": [
            "Drive already mounted at /content/drive; to attempt to forcibly remount, call drive.mount(\"/content/drive\", force_remount=True).\n"
          ]
        }
      ]
    },
    {
      "cell_type": "code",
      "source": [
        "# Import Data\n",
        "\n",
        "data = pd.read_csv('/content/drive/MyDrive/air122.csv')"
      ],
      "metadata": {
        "id": "3X1vMaH69LIV"
      },
      "execution_count": 3,
      "outputs": []
    },
    {
      "cell_type": "code",
      "source": [
        "# Check Data\n",
        "data.head(10)\n"
      ],
      "metadata": {
        "colab": {
          "base_uri": "https://localhost:8080/",
          "height": 363
        },
        "id": "WUDY1mpd9p8l",
        "outputId": "79179a94-2898-4b62-9846-461f71e766c4"
      },
      "execution_count": 4,
      "outputs": [
        {
          "output_type": "execute_result",
          "data": {
            "text/plain": [
              "     Month  Passengers\n",
              "0  1949-01         112\n",
              "1  1949-02         118\n",
              "2  1949-03         132\n",
              "3  1949-04         129\n",
              "4  1949-05         121\n",
              "5  1949-06         135\n",
              "6  1949-07         148\n",
              "7  1949-08         148\n",
              "8  1949-09         136\n",
              "9  1949-10         119"
            ],
            "text/html": [
              "\n",
              "  <div id=\"df-5c5f7f29-bd09-4502-ab33-cd15c34ec89d\">\n",
              "    <div class=\"colab-df-container\">\n",
              "      <div>\n",
              "<style scoped>\n",
              "    .dataframe tbody tr th:only-of-type {\n",
              "        vertical-align: middle;\n",
              "    }\n",
              "\n",
              "    .dataframe tbody tr th {\n",
              "        vertical-align: top;\n",
              "    }\n",
              "\n",
              "    .dataframe thead th {\n",
              "        text-align: right;\n",
              "    }\n",
              "</style>\n",
              "<table border=\"1\" class=\"dataframe\">\n",
              "  <thead>\n",
              "    <tr style=\"text-align: right;\">\n",
              "      <th></th>\n",
              "      <th>Month</th>\n",
              "      <th>Passengers</th>\n",
              "    </tr>\n",
              "  </thead>\n",
              "  <tbody>\n",
              "    <tr>\n",
              "      <th>0</th>\n",
              "      <td>1949-01</td>\n",
              "      <td>112</td>\n",
              "    </tr>\n",
              "    <tr>\n",
              "      <th>1</th>\n",
              "      <td>1949-02</td>\n",
              "      <td>118</td>\n",
              "    </tr>\n",
              "    <tr>\n",
              "      <th>2</th>\n",
              "      <td>1949-03</td>\n",
              "      <td>132</td>\n",
              "    </tr>\n",
              "    <tr>\n",
              "      <th>3</th>\n",
              "      <td>1949-04</td>\n",
              "      <td>129</td>\n",
              "    </tr>\n",
              "    <tr>\n",
              "      <th>4</th>\n",
              "      <td>1949-05</td>\n",
              "      <td>121</td>\n",
              "    </tr>\n",
              "    <tr>\n",
              "      <th>5</th>\n",
              "      <td>1949-06</td>\n",
              "      <td>135</td>\n",
              "    </tr>\n",
              "    <tr>\n",
              "      <th>6</th>\n",
              "      <td>1949-07</td>\n",
              "      <td>148</td>\n",
              "    </tr>\n",
              "    <tr>\n",
              "      <th>7</th>\n",
              "      <td>1949-08</td>\n",
              "      <td>148</td>\n",
              "    </tr>\n",
              "    <tr>\n",
              "      <th>8</th>\n",
              "      <td>1949-09</td>\n",
              "      <td>136</td>\n",
              "    </tr>\n",
              "    <tr>\n",
              "      <th>9</th>\n",
              "      <td>1949-10</td>\n",
              "      <td>119</td>\n",
              "    </tr>\n",
              "  </tbody>\n",
              "</table>\n",
              "</div>\n",
              "      <button class=\"colab-df-convert\" onclick=\"convertToInteractive('df-5c5f7f29-bd09-4502-ab33-cd15c34ec89d')\"\n",
              "              title=\"Convert this dataframe to an interactive table.\"\n",
              "              style=\"display:none;\">\n",
              "        \n",
              "  <svg xmlns=\"http://www.w3.org/2000/svg\" height=\"24px\"viewBox=\"0 0 24 24\"\n",
              "       width=\"24px\">\n",
              "    <path d=\"M0 0h24v24H0V0z\" fill=\"none\"/>\n",
              "    <path d=\"M18.56 5.44l.94 2.06.94-2.06 2.06-.94-2.06-.94-.94-2.06-.94 2.06-2.06.94zm-11 1L8.5 8.5l.94-2.06 2.06-.94-2.06-.94L8.5 2.5l-.94 2.06-2.06.94zm10 10l.94 2.06.94-2.06 2.06-.94-2.06-.94-.94-2.06-.94 2.06-2.06.94z\"/><path d=\"M17.41 7.96l-1.37-1.37c-.4-.4-.92-.59-1.43-.59-.52 0-1.04.2-1.43.59L10.3 9.45l-7.72 7.72c-.78.78-.78 2.05 0 2.83L4 21.41c.39.39.9.59 1.41.59.51 0 1.02-.2 1.41-.59l7.78-7.78 2.81-2.81c.8-.78.8-2.07 0-2.86zM5.41 20L4 18.59l7.72-7.72 1.47 1.35L5.41 20z\"/>\n",
              "  </svg>\n",
              "      </button>\n",
              "      \n",
              "  <style>\n",
              "    .colab-df-container {\n",
              "      display:flex;\n",
              "      flex-wrap:wrap;\n",
              "      gap: 12px;\n",
              "    }\n",
              "\n",
              "    .colab-df-convert {\n",
              "      background-color: #E8F0FE;\n",
              "      border: none;\n",
              "      border-radius: 50%;\n",
              "      cursor: pointer;\n",
              "      display: none;\n",
              "      fill: #1967D2;\n",
              "      height: 32px;\n",
              "      padding: 0 0 0 0;\n",
              "      width: 32px;\n",
              "    }\n",
              "\n",
              "    .colab-df-convert:hover {\n",
              "      background-color: #E2EBFA;\n",
              "      box-shadow: 0px 1px 2px rgba(60, 64, 67, 0.3), 0px 1px 3px 1px rgba(60, 64, 67, 0.15);\n",
              "      fill: #174EA6;\n",
              "    }\n",
              "\n",
              "    [theme=dark] .colab-df-convert {\n",
              "      background-color: #3B4455;\n",
              "      fill: #D2E3FC;\n",
              "    }\n",
              "\n",
              "    [theme=dark] .colab-df-convert:hover {\n",
              "      background-color: #434B5C;\n",
              "      box-shadow: 0px 1px 3px 1px rgba(0, 0, 0, 0.15);\n",
              "      filter: drop-shadow(0px 1px 2px rgba(0, 0, 0, 0.3));\n",
              "      fill: #FFFFFF;\n",
              "    }\n",
              "  </style>\n",
              "\n",
              "      <script>\n",
              "        const buttonEl =\n",
              "          document.querySelector('#df-5c5f7f29-bd09-4502-ab33-cd15c34ec89d button.colab-df-convert');\n",
              "        buttonEl.style.display =\n",
              "          google.colab.kernel.accessAllowed ? 'block' : 'none';\n",
              "\n",
              "        async function convertToInteractive(key) {\n",
              "          const element = document.querySelector('#df-5c5f7f29-bd09-4502-ab33-cd15c34ec89d');\n",
              "          const dataTable =\n",
              "            await google.colab.kernel.invokeFunction('convertToInteractive',\n",
              "                                                     [key], {});\n",
              "          if (!dataTable) return;\n",
              "\n",
              "          const docLinkHtml = 'Like what you see? Visit the ' +\n",
              "            '<a target=\"_blank\" href=https://colab.research.google.com/notebooks/data_table.ipynb>data table notebook</a>'\n",
              "            + ' to learn more about interactive tables.';\n",
              "          element.innerHTML = '';\n",
              "          dataTable['output_type'] = 'display_data';\n",
              "          await google.colab.output.renderOutput(dataTable, element);\n",
              "          const docLink = document.createElement('div');\n",
              "          docLink.innerHTML = docLinkHtml;\n",
              "          element.appendChild(docLink);\n",
              "        }\n",
              "      </script>\n",
              "    </div>\n",
              "  </div>\n",
              "  "
            ]
          },
          "metadata": {},
          "execution_count": 4
        }
      ]
    },
    {
      "cell_type": "code",
      "source": [
        "# Check \"Month\" column type\n",
        "data['Month'].dtype"
      ],
      "metadata": {
        "colab": {
          "base_uri": "https://localhost:8080/"
        },
        "id": "vu8zlna6-L1B",
        "outputId": "d78eb656-eef2-4538-8771-4a5833e74cd4"
      },
      "execution_count": 5,
      "outputs": [
        {
          "output_type": "execute_result",
          "data": {
            "text/plain": [
              "dtype('O')"
            ]
          },
          "metadata": {},
          "execution_count": 5
        }
      ]
    },
    {
      "cell_type": "code",
      "source": [
        "## Reset Index\n",
        "\n",
        "data= data.reset_index()"
      ],
      "metadata": {
        "id": "jQd_PZCeCcux"
      },
      "execution_count": 6,
      "outputs": []
    },
    {
      "cell_type": "code",
      "source": [
        "# Check Data\n",
        "data.head(10)"
      ],
      "metadata": {
        "colab": {
          "base_uri": "https://localhost:8080/",
          "height": 363
        },
        "id": "9BbP9gDzDGbM",
        "outputId": "5527e3ea-3ce0-4b5f-fa0d-8aeea0516850"
      },
      "execution_count": 7,
      "outputs": [
        {
          "output_type": "execute_result",
          "data": {
            "text/plain": [
              "   index    Month  Passengers\n",
              "0      0  1949-01         112\n",
              "1      1  1949-02         118\n",
              "2      2  1949-03         132\n",
              "3      3  1949-04         129\n",
              "4      4  1949-05         121\n",
              "5      5  1949-06         135\n",
              "6      6  1949-07         148\n",
              "7      7  1949-08         148\n",
              "8      8  1949-09         136\n",
              "9      9  1949-10         119"
            ],
            "text/html": [
              "\n",
              "  <div id=\"df-9f6596da-0d5e-4c25-bdbe-4421de509360\">\n",
              "    <div class=\"colab-df-container\">\n",
              "      <div>\n",
              "<style scoped>\n",
              "    .dataframe tbody tr th:only-of-type {\n",
              "        vertical-align: middle;\n",
              "    }\n",
              "\n",
              "    .dataframe tbody tr th {\n",
              "        vertical-align: top;\n",
              "    }\n",
              "\n",
              "    .dataframe thead th {\n",
              "        text-align: right;\n",
              "    }\n",
              "</style>\n",
              "<table border=\"1\" class=\"dataframe\">\n",
              "  <thead>\n",
              "    <tr style=\"text-align: right;\">\n",
              "      <th></th>\n",
              "      <th>index</th>\n",
              "      <th>Month</th>\n",
              "      <th>Passengers</th>\n",
              "    </tr>\n",
              "  </thead>\n",
              "  <tbody>\n",
              "    <tr>\n",
              "      <th>0</th>\n",
              "      <td>0</td>\n",
              "      <td>1949-01</td>\n",
              "      <td>112</td>\n",
              "    </tr>\n",
              "    <tr>\n",
              "      <th>1</th>\n",
              "      <td>1</td>\n",
              "      <td>1949-02</td>\n",
              "      <td>118</td>\n",
              "    </tr>\n",
              "    <tr>\n",
              "      <th>2</th>\n",
              "      <td>2</td>\n",
              "      <td>1949-03</td>\n",
              "      <td>132</td>\n",
              "    </tr>\n",
              "    <tr>\n",
              "      <th>3</th>\n",
              "      <td>3</td>\n",
              "      <td>1949-04</td>\n",
              "      <td>129</td>\n",
              "    </tr>\n",
              "    <tr>\n",
              "      <th>4</th>\n",
              "      <td>4</td>\n",
              "      <td>1949-05</td>\n",
              "      <td>121</td>\n",
              "    </tr>\n",
              "    <tr>\n",
              "      <th>5</th>\n",
              "      <td>5</td>\n",
              "      <td>1949-06</td>\n",
              "      <td>135</td>\n",
              "    </tr>\n",
              "    <tr>\n",
              "      <th>6</th>\n",
              "      <td>6</td>\n",
              "      <td>1949-07</td>\n",
              "      <td>148</td>\n",
              "    </tr>\n",
              "    <tr>\n",
              "      <th>7</th>\n",
              "      <td>7</td>\n",
              "      <td>1949-08</td>\n",
              "      <td>148</td>\n",
              "    </tr>\n",
              "    <tr>\n",
              "      <th>8</th>\n",
              "      <td>8</td>\n",
              "      <td>1949-09</td>\n",
              "      <td>136</td>\n",
              "    </tr>\n",
              "    <tr>\n",
              "      <th>9</th>\n",
              "      <td>9</td>\n",
              "      <td>1949-10</td>\n",
              "      <td>119</td>\n",
              "    </tr>\n",
              "  </tbody>\n",
              "</table>\n",
              "</div>\n",
              "      <button class=\"colab-df-convert\" onclick=\"convertToInteractive('df-9f6596da-0d5e-4c25-bdbe-4421de509360')\"\n",
              "              title=\"Convert this dataframe to an interactive table.\"\n",
              "              style=\"display:none;\">\n",
              "        \n",
              "  <svg xmlns=\"http://www.w3.org/2000/svg\" height=\"24px\"viewBox=\"0 0 24 24\"\n",
              "       width=\"24px\">\n",
              "    <path d=\"M0 0h24v24H0V0z\" fill=\"none\"/>\n",
              "    <path d=\"M18.56 5.44l.94 2.06.94-2.06 2.06-.94-2.06-.94-.94-2.06-.94 2.06-2.06.94zm-11 1L8.5 8.5l.94-2.06 2.06-.94-2.06-.94L8.5 2.5l-.94 2.06-2.06.94zm10 10l.94 2.06.94-2.06 2.06-.94-2.06-.94-.94-2.06-.94 2.06-2.06.94z\"/><path d=\"M17.41 7.96l-1.37-1.37c-.4-.4-.92-.59-1.43-.59-.52 0-1.04.2-1.43.59L10.3 9.45l-7.72 7.72c-.78.78-.78 2.05 0 2.83L4 21.41c.39.39.9.59 1.41.59.51 0 1.02-.2 1.41-.59l7.78-7.78 2.81-2.81c.8-.78.8-2.07 0-2.86zM5.41 20L4 18.59l7.72-7.72 1.47 1.35L5.41 20z\"/>\n",
              "  </svg>\n",
              "      </button>\n",
              "      \n",
              "  <style>\n",
              "    .colab-df-container {\n",
              "      display:flex;\n",
              "      flex-wrap:wrap;\n",
              "      gap: 12px;\n",
              "    }\n",
              "\n",
              "    .colab-df-convert {\n",
              "      background-color: #E8F0FE;\n",
              "      border: none;\n",
              "      border-radius: 50%;\n",
              "      cursor: pointer;\n",
              "      display: none;\n",
              "      fill: #1967D2;\n",
              "      height: 32px;\n",
              "      padding: 0 0 0 0;\n",
              "      width: 32px;\n",
              "    }\n",
              "\n",
              "    .colab-df-convert:hover {\n",
              "      background-color: #E2EBFA;\n",
              "      box-shadow: 0px 1px 2px rgba(60, 64, 67, 0.3), 0px 1px 3px 1px rgba(60, 64, 67, 0.15);\n",
              "      fill: #174EA6;\n",
              "    }\n",
              "\n",
              "    [theme=dark] .colab-df-convert {\n",
              "      background-color: #3B4455;\n",
              "      fill: #D2E3FC;\n",
              "    }\n",
              "\n",
              "    [theme=dark] .colab-df-convert:hover {\n",
              "      background-color: #434B5C;\n",
              "      box-shadow: 0px 1px 3px 1px rgba(0, 0, 0, 0.15);\n",
              "      filter: drop-shadow(0px 1px 2px rgba(0, 0, 0, 0.3));\n",
              "      fill: #FFFFFF;\n",
              "    }\n",
              "  </style>\n",
              "\n",
              "      <script>\n",
              "        const buttonEl =\n",
              "          document.querySelector('#df-9f6596da-0d5e-4c25-bdbe-4421de509360 button.colab-df-convert');\n",
              "        buttonEl.style.display =\n",
              "          google.colab.kernel.accessAllowed ? 'block' : 'none';\n",
              "\n",
              "        async function convertToInteractive(key) {\n",
              "          const element = document.querySelector('#df-9f6596da-0d5e-4c25-bdbe-4421de509360');\n",
              "          const dataTable =\n",
              "            await google.colab.kernel.invokeFunction('convertToInteractive',\n",
              "                                                     [key], {});\n",
              "          if (!dataTable) return;\n",
              "\n",
              "          const docLinkHtml = 'Like what you see? Visit the ' +\n",
              "            '<a target=\"_blank\" href=https://colab.research.google.com/notebooks/data_table.ipynb>data table notebook</a>'\n",
              "            + ' to learn more about interactive tables.';\n",
              "          element.innerHTML = '';\n",
              "          dataTable['output_type'] = 'display_data';\n",
              "          await google.colab.output.renderOutput(dataTable, element);\n",
              "          const docLink = document.createElement('div');\n",
              "          docLink.innerHTML = docLinkHtml;\n",
              "          element.appendChild(docLink);\n",
              "        }\n",
              "      </script>\n",
              "    </div>\n",
              "  </div>\n",
              "  "
            ]
          },
          "metadata": {},
          "execution_count": 7
        }
      ]
    },
    {
      "cell_type": "code",
      "source": [
        "# Extract Features\n",
        "\n",
        "seq=data['Passengers']\n",
        "X= []\n",
        "\n",
        "\n",
        "for i in range(len(seq)-1):\n",
        "    val=seq[i]\n",
        "    X.append(val)    \n",
        "X= np.array(X)\n",
        "X"
      ],
      "metadata": {
        "id": "3fpBVHlqDomh",
        "colab": {
          "base_uri": "https://localhost:8080/"
        },
        "outputId": "26a0da71-2424-43fa-f8f8-91b6b1a04d87"
      },
      "execution_count": 8,
      "outputs": [
        {
          "output_type": "execute_result",
          "data": {
            "text/plain": [
              "array([112, 118, 132, 129, 121, 135, 148, 148, 136, 119, 104, 118, 115,\n",
              "       126, 141, 135, 125, 149, 170, 170, 158, 133, 114, 140, 145, 150,\n",
              "       178, 163, 172, 178, 199, 199, 184, 162, 146, 166, 171, 180, 193,\n",
              "       181, 183, 218, 230, 242, 209, 191, 172, 194, 196, 196, 236, 235,\n",
              "       229, 243, 264, 272, 237, 211, 180, 201, 204, 188, 235, 227, 234,\n",
              "       264, 302, 293, 259, 229, 203, 229, 242, 233, 267, 269, 270, 315,\n",
              "       364, 347, 312, 274, 237, 278, 284, 277, 317, 313, 318, 374, 413,\n",
              "       405, 355, 306, 271, 306, 315, 301, 356, 348, 355, 422, 465, 467,\n",
              "       404, 347, 305, 336, 340, 318, 362, 348, 363, 435, 491, 505, 404,\n",
              "       359, 310, 337, 360, 342, 406, 396, 420, 472, 548, 559, 463, 407,\n",
              "       362, 405, 417, 391, 419, 461, 472, 535, 622, 606, 508, 461, 390])"
            ]
          },
          "metadata": {},
          "execution_count": 8
        }
      ]
    },
    {
      "cell_type": "code",
      "source": [
        "# EXtract Labels\n",
        "\n",
        "Y= []\n",
        "for i in range(1,len(seq)):\n",
        "    val=seq[i]\n",
        "    Y.append(val)\n",
        "        \n",
        "Y= np.array(Y)\n",
        "Y"
      ],
      "metadata": {
        "id": "oSfteRPnEVUp",
        "colab": {
          "base_uri": "https://localhost:8080/"
        },
        "outputId": "4671abe7-a300-43e1-f5a8-31bca4705b5e"
      },
      "execution_count": 9,
      "outputs": [
        {
          "output_type": "execute_result",
          "data": {
            "text/plain": [
              "array([118, 132, 129, 121, 135, 148, 148, 136, 119, 104, 118, 115, 126,\n",
              "       141, 135, 125, 149, 170, 170, 158, 133, 114, 140, 145, 150, 178,\n",
              "       163, 172, 178, 199, 199, 184, 162, 146, 166, 171, 180, 193, 181,\n",
              "       183, 218, 230, 242, 209, 191, 172, 194, 196, 196, 236, 235, 229,\n",
              "       243, 264, 272, 237, 211, 180, 201, 204, 188, 235, 227, 234, 264,\n",
              "       302, 293, 259, 229, 203, 229, 242, 233, 267, 269, 270, 315, 364,\n",
              "       347, 312, 274, 237, 278, 284, 277, 317, 313, 318, 374, 413, 405,\n",
              "       355, 306, 271, 306, 315, 301, 356, 348, 355, 422, 465, 467, 404,\n",
              "       347, 305, 336, 340, 318, 362, 348, 363, 435, 491, 505, 404, 359,\n",
              "       310, 337, 360, 342, 406, 396, 420, 472, 548, 559, 463, 407, 362,\n",
              "       405, 417, 391, 419, 461, 472, 535, 622, 606, 508, 461, 390, 432])"
            ]
          },
          "metadata": {},
          "execution_count": 9
        }
      ]
    },
    {
      "cell_type": "code",
      "source": [
        "## Split Data\n",
        "\n",
        "xtrain, xtest, ytrain, ytest= train_test_split(X,Y,test_size=0.1, random_state=0)\n",
        "maxx = pd.DataFrame(xtrain).max()\n",
        "maxx"
      ],
      "metadata": {
        "id": "sKIxfUwEGFL4",
        "colab": {
          "base_uri": "https://localhost:8080/"
        },
        "outputId": "7a69057d-4d4e-42d0-c392-beca0f261a54"
      },
      "execution_count": 10,
      "outputs": [
        {
          "output_type": "execute_result",
          "data": {
            "text/plain": [
              "0    622\n",
              "dtype: int64"
            ]
          },
          "metadata": {},
          "execution_count": 10
        }
      ]
    },
    {
      "cell_type": "code",
      "source": [
        "# Check Shape\n",
        "\n",
        "\n",
        "xtrain.shape, ytrain.shape,xtest.shape,ytest.shape"
      ],
      "metadata": {
        "colab": {
          "base_uri": "https://localhost:8080/"
        },
        "id": "5Un-qctrG9Pd",
        "outputId": "d26c6c48-8554-46b9-cd36-3d9bdffb7b82"
      },
      "execution_count": 11,
      "outputs": [
        {
          "output_type": "execute_result",
          "data": {
            "text/plain": [
              "((128,), (128,), (15,), (15,))"
            ]
          },
          "metadata": {},
          "execution_count": 11
        }
      ]
    },
    {
      "cell_type": "markdown",
      "source": [
        "## Lsmt_Model"
      ],
      "metadata": {
        "id": "IXXKEnlKF_je"
      }
    },
    {
      "cell_type": "code",
      "source": [
        "from keras.backend import dropout\n",
        "from keras.layers.convolutional import activations\n",
        "# Set the random Seed\n",
        "tf.random.set_seed(42)\n",
        "\n",
        "# Create model\n",
        "\n",
        "Lstm_Model = Sequential()\n",
        "Lstm_Model.add(Embedding(input_dim = 623 ,output_dim = 1000, input_length=1))\n",
        "Lstm_Model.add(LSTM(1000, return_sequences=True,dropout=0.3))\n",
        "Lstm_Model.add(LSTM(1000\n",
        ",dropout=0.3))\n",
        "Lstm_Model.add(Dense(100, activation=\"relu\"))\n",
        "Lstm_Model.add(Dense(1,activation=\"linear\"))"
      ],
      "metadata": {
        "id": "GFSDHbzvGo30"
      },
      "execution_count": 67,
      "outputs": []
    },
    {
      "cell_type": "code",
      "source": [
        "Lstm_Model.compile(loss=tf.keras.losses.MeanSquaredError(), optimizer=tf.keras.optimizers.Adam(learning_rate=0.01),metrics=['mae','mse'])\n",
        "Lstm_History = Lstm_Model.fit(xtrain, ytrain,validation_data=(xtest,ytest), epochs=50,batch_size=8)"
      ],
      "metadata": {
        "colab": {
          "base_uri": "https://localhost:8080/"
        },
        "id": "6kPllYvPG2fN",
        "outputId": "97ab4092-a822-4757-f219-faf804b3d4be"
      },
      "execution_count": null,
      "outputs": [
        {
          "output_type": "stream",
          "name": "stdout",
          "text": [
            "Epoch 1/95\n",
            "16/16 [==============================] - 6s 224ms/step - loss: 43493.3086 - mae: 166.2735 - mse: 43493.3086 - val_loss: 18575.6699 - val_mae: 117.3044 - val_mse: 18575.6699\n",
            "Epoch 2/95\n",
            "16/16 [==============================] - 2s 124ms/step - loss: 18767.4180 - mae: 106.9320 - mse: 18767.4180 - val_loss: 17471.1328 - val_mae: 115.9597 - val_mse: 17471.1328\n",
            "Epoch 3/95\n",
            "16/16 [==============================] - 2s 123ms/step - loss: 20022.8398 - mae: 110.2187 - mse: 20022.8398 - val_loss: 15685.0059 - val_mae: 110.5436 - val_mse: 15685.0059\n",
            "Epoch 4/95\n",
            "16/16 [==============================] - 2s 126ms/step - loss: 16468.5371 - mae: 103.1299 - mse: 16468.5371 - val_loss: 23240.7168 - val_mae: 124.6719 - val_mse: 23240.7168\n",
            "Epoch 5/95\n",
            "16/16 [==============================] - 2s 124ms/step - loss: 11414.8594 - mae: 83.6415 - mse: 11414.8594 - val_loss: 19704.5078 - val_mae: 121.4738 - val_mse: 19704.5078\n",
            "Epoch 6/95\n",
            "16/16 [==============================] - 2s 123ms/step - loss: 8746.2549 - mae: 70.7234 - mse: 8746.2549 - val_loss: 16423.4141 - val_mae: 109.9772 - val_mse: 16423.4141\n",
            "Epoch 7/95\n",
            "16/16 [==============================] - 2s 124ms/step - loss: 8161.0293 - mae: 64.0397 - mse: 8161.0293 - val_loss: 16632.3770 - val_mae: 105.8175 - val_mse: 16632.3770\n",
            "Epoch 8/95\n",
            "16/16 [==============================] - 2s 124ms/step - loss: 10367.1865 - mae: 78.9196 - mse: 10367.1865 - val_loss: 40583.4531 - val_mae: 162.2699 - val_mse: 40583.4531\n",
            "Epoch 9/95\n",
            "16/16 [==============================] - 2s 125ms/step - loss: 10967.4053 - mae: 80.9280 - mse: 10967.4053 - val_loss: 18235.7441 - val_mae: 110.9107 - val_mse: 18235.7441\n",
            "Epoch 10/95\n",
            "16/16 [==============================] - 2s 124ms/step - loss: 9473.4893 - mae: 73.0303 - mse: 9473.4893 - val_loss: 15071.2354 - val_mae: 101.5776 - val_mse: 15071.2344\n",
            "Epoch 11/95\n",
            "16/16 [==============================] - 2s 125ms/step - loss: 7371.7690 - mae: 65.9697 - mse: 7371.7690 - val_loss: 18310.0645 - val_mae: 109.5532 - val_mse: 18310.0645\n",
            "Epoch 12/95\n",
            "16/16 [==============================] - 2s 125ms/step - loss: 5935.7036 - mae: 59.9812 - mse: 5935.7036 - val_loss: 22802.9512 - val_mae: 125.2268 - val_mse: 22802.9512\n",
            "Epoch 13/95\n",
            "16/16 [==============================] - 2s 123ms/step - loss: 6393.5244 - mae: 61.9901 - mse: 6393.5244 - val_loss: 14648.2119 - val_mae: 96.9545 - val_mse: 14648.2119\n",
            "Epoch 14/95\n",
            "16/16 [==============================] - 2s 127ms/step - loss: 6074.8276 - mae: 61.1626 - mse: 6074.8276 - val_loss: 15528.7188 - val_mae: 100.7426 - val_mse: 15528.7188\n",
            "Epoch 15/95\n",
            "16/16 [==============================] - 2s 122ms/step - loss: 4884.1465 - mae: 55.0935 - mse: 4884.1465 - val_loss: 16468.0918 - val_mae: 104.8040 - val_mse: 16468.0918\n",
            "Epoch 16/95\n",
            "16/16 [==============================] - 2s 122ms/step - loss: 5167.5825 - mae: 55.4916 - mse: 5167.5825 - val_loss: 15690.5352 - val_mae: 101.7673 - val_mse: 15690.5352\n",
            "Epoch 17/95\n",
            "16/16 [==============================] - 2s 123ms/step - loss: 4809.2021 - mae: 51.1393 - mse: 4809.2021 - val_loss: 19009.4922 - val_mae: 109.5859 - val_mse: 19009.4922\n",
            "Epoch 18/95\n",
            "16/16 [==============================] - 2s 124ms/step - loss: 5305.1924 - mae: 53.6648 - mse: 5305.1924 - val_loss: 19837.4707 - val_mae: 115.3447 - val_mse: 19837.4707\n",
            "Epoch 19/95\n",
            "16/16 [==============================] - 2s 124ms/step - loss: 6602.4668 - mae: 60.0765 - mse: 6602.4668 - val_loss: 18254.1426 - val_mae: 109.0809 - val_mse: 18254.1426\n",
            "Epoch 20/95\n",
            "16/16 [==============================] - 2s 124ms/step - loss: 4843.5625 - mae: 50.0880 - mse: 4843.5625 - val_loss: 21309.2559 - val_mae: 121.7696 - val_mse: 21309.2559\n",
            "Epoch 21/95\n",
            "16/16 [==============================] - 2s 125ms/step - loss: 4774.7656 - mae: 49.9081 - mse: 4774.7656 - val_loss: 21294.4316 - val_mae: 122.3699 - val_mse: 21294.4316\n",
            "Epoch 22/95\n",
            "16/16 [==============================] - 2s 124ms/step - loss: 4751.3579 - mae: 48.8068 - mse: 4751.3579 - val_loss: 19886.7227 - val_mae: 116.1912 - val_mse: 19886.7227\n",
            "Epoch 23/95\n",
            "16/16 [==============================] - 2s 122ms/step - loss: 5513.1245 - mae: 50.8239 - mse: 5513.1245 - val_loss: 17446.6523 - val_mae: 107.3639 - val_mse: 17446.6523\n",
            "Epoch 24/95\n",
            "16/16 [==============================] - 3s 178ms/step - loss: 4375.4780 - mae: 50.7105 - mse: 4375.4780 - val_loss: 17798.1055 - val_mae: 109.2435 - val_mse: 17798.1055\n",
            "Epoch 25/95\n",
            "16/16 [==============================] - 3s 207ms/step - loss: 3421.3293 - mae: 43.3527 - mse: 3421.3293 - val_loss: 17972.6328 - val_mae: 108.7898 - val_mse: 17972.6328\n",
            "Epoch 26/95\n",
            "16/16 [==============================] - 3s 169ms/step - loss: 2511.8464 - mae: 37.3667 - mse: 2511.8464 - val_loss: 17171.3027 - val_mae: 103.3479 - val_mse: 17171.3027\n",
            "Epoch 27/95\n",
            "16/16 [==============================] - 2s 143ms/step - loss: 2611.3716 - mae: 36.5669 - mse: 2611.3716 - val_loss: 18671.6016 - val_mae: 108.4735 - val_mse: 18671.6016\n",
            "Epoch 28/95\n",
            "16/16 [==============================] - 3s 175ms/step - loss: 2836.3962 - mae: 40.2619 - mse: 2836.3962 - val_loss: 19855.9453 - val_mae: 111.0157 - val_mse: 19855.9453\n",
            "Epoch 29/95\n",
            "16/16 [==============================] - 3s 167ms/step - loss: 2868.3130 - mae: 40.1657 - mse: 2868.3130 - val_loss: 19723.1309 - val_mae: 114.2679 - val_mse: 19723.1309\n",
            "Epoch 30/95\n",
            "16/16 [==============================] - 3s 166ms/step - loss: 3460.0527 - mae: 43.4160 - mse: 3460.0527 - val_loss: 18014.2910 - val_mae: 109.1394 - val_mse: 18014.2910\n",
            "Epoch 31/95\n",
            "16/16 [==============================] - 2s 148ms/step - loss: 2431.2505 - mae: 36.4863 - mse: 2431.2505 - val_loss: 17460.9648 - val_mae: 111.3125 - val_mse: 17460.9648\n",
            "Epoch 32/95\n",
            "16/16 [==============================] - 3s 168ms/step - loss: 3671.3374 - mae: 44.6093 - mse: 3671.3374 - val_loss: 21687.6328 - val_mae: 121.1922 - val_mse: 21687.6328\n",
            "Epoch 33/95\n",
            "16/16 [==============================] - 2s 144ms/step - loss: 4492.2046 - mae: 50.3082 - mse: 4492.2046 - val_loss: 17093.7070 - val_mae: 106.0886 - val_mse: 17093.7070\n",
            "Epoch 34/95\n",
            "16/16 [==============================] - 3s 206ms/step - loss: 3905.0073 - mae: 47.4148 - mse: 3905.0073 - val_loss: 16861.4082 - val_mae: 102.5041 - val_mse: 16861.4082\n",
            "Epoch 35/95\n",
            "16/16 [==============================] - 2s 144ms/step - loss: 5989.8555 - mae: 59.8529 - mse: 5989.8555 - val_loss: 16476.7793 - val_mae: 102.8116 - val_mse: 16476.7793\n",
            "Epoch 36/95\n",
            "16/16 [==============================] - 3s 196ms/step - loss: 5235.5679 - mae: 54.9290 - mse: 5235.5679 - val_loss: 16616.2559 - val_mae: 100.9328 - val_mse: 16616.2559\n",
            "Epoch 37/95\n",
            "16/16 [==============================] - 4s 230ms/step - loss: 3698.9353 - mae: 46.8335 - mse: 3698.9353 - val_loss: 18230.8086 - val_mae: 104.8389 - val_mse: 18230.8086\n",
            "Epoch 38/95\n",
            "16/16 [==============================] - 3s 201ms/step - loss: 3909.9375 - mae: 48.5327 - mse: 3909.9375 - val_loss: 20970.1641 - val_mae: 112.7281 - val_mse: 20970.1641\n",
            "Epoch 39/95\n",
            "16/16 [==============================] - 4s 225ms/step - loss: 3469.2017 - mae: 45.2454 - mse: 3469.2017 - val_loss: 18152.0879 - val_mae: 109.3152 - val_mse: 18152.0879\n",
            "Epoch 40/95\n",
            "16/16 [==============================] - 4s 238ms/step - loss: 3263.1970 - mae: 42.3008 - mse: 3263.1970 - val_loss: 19493.4707 - val_mae: 119.5949 - val_mse: 19493.4707\n",
            "Epoch 41/95\n",
            "16/16 [==============================] - 3s 197ms/step - loss: 3797.1895 - mae: 46.0692 - mse: 3797.1895 - val_loss: 16390.7207 - val_mae: 108.9473 - val_mse: 16390.7207\n",
            "Epoch 42/95\n",
            "16/16 [==============================] - 2s 133ms/step - loss: 3422.6382 - mae: 44.9516 - mse: 3422.6382 - val_loss: 20181.3672 - val_mae: 120.2408 - val_mse: 20181.3672\n",
            "Epoch 43/95\n",
            "16/16 [==============================] - 2s 123ms/step - loss: 5405.2871 - mae: 55.0322 - mse: 5405.2871 - val_loss: 18653.3809 - val_mae: 121.1508 - val_mse: 18653.3809\n",
            "Epoch 44/95\n",
            "16/16 [==============================] - 2s 123ms/step - loss: 4133.4678 - mae: 47.3519 - mse: 4133.4678 - val_loss: 16004.0791 - val_mae: 107.7693 - val_mse: 16004.0791\n",
            "Epoch 45/95\n",
            "16/16 [==============================] - 2s 124ms/step - loss: 3878.0205 - mae: 46.6076 - mse: 3878.0205 - val_loss: 21785.9785 - val_mae: 128.9590 - val_mse: 21785.9785\n",
            "Epoch 46/95\n",
            "16/16 [==============================] - 2s 125ms/step - loss: 5871.2163 - mae: 58.5805 - mse: 5871.2163 - val_loss: 19564.3145 - val_mae: 120.9598 - val_mse: 19564.3145\n",
            "Epoch 47/95\n",
            "16/16 [==============================] - 2s 129ms/step - loss: 4553.1426 - mae: 51.6302 - mse: 4553.1426 - val_loss: 21175.0566 - val_mae: 124.8833 - val_mse: 21175.0566\n",
            "Epoch 48/95\n",
            "16/16 [==============================] - 2s 124ms/step - loss: 4309.3193 - mae: 45.2371 - mse: 4309.3193 - val_loss: 18625.8965 - val_mae: 113.2314 - val_mse: 18625.8965\n",
            "Epoch 49/95\n",
            "16/16 [==============================] - 2s 124ms/step - loss: 4308.3408 - mae: 49.0405 - mse: 4308.3408 - val_loss: 15336.7402 - val_mae: 101.9000 - val_mse: 15336.7402\n",
            "Epoch 50/95\n",
            "16/16 [==============================] - 2s 124ms/step - loss: 5074.2607 - mae: 53.8784 - mse: 5074.2607 - val_loss: 21469.3555 - val_mae: 118.7772 - val_mse: 21469.3555\n",
            "Epoch 51/95\n",
            "16/16 [==============================] - 2s 123ms/step - loss: 5146.8672 - mae: 53.1418 - mse: 5146.8672 - val_loss: 22075.0586 - val_mae: 122.4326 - val_mse: 22075.0586\n",
            "Epoch 52/95\n",
            "16/16 [==============================] - 2s 122ms/step - loss: 4658.0610 - mae: 53.6685 - mse: 4658.0610 - val_loss: 15894.1748 - val_mae: 103.8369 - val_mse: 15894.1748\n",
            "Epoch 53/95\n",
            "16/16 [==============================] - 2s 125ms/step - loss: 4143.1909 - mae: 48.9379 - mse: 4143.1909 - val_loss: 21885.3164 - val_mae: 123.8768 - val_mse: 21885.3164\n",
            "Epoch 54/95\n",
            "16/16 [==============================] - 2s 124ms/step - loss: 4415.8218 - mae: 50.5962 - mse: 4415.8218 - val_loss: 17402.5801 - val_mae: 112.4402 - val_mse: 17402.5801\n",
            "Epoch 55/95\n",
            "16/16 [==============================] - 2s 126ms/step - loss: 3570.9570 - mae: 48.3046 - mse: 3570.9570 - val_loss: 16755.3691 - val_mae: 108.4784 - val_mse: 16755.3691\n",
            "Epoch 56/95\n",
            "16/16 [==============================] - 2s 124ms/step - loss: 3790.2788 - mae: 47.8078 - mse: 3790.2788 - val_loss: 18014.3008 - val_mae: 112.9125 - val_mse: 18014.3008\n",
            "Epoch 57/95\n",
            "16/16 [==============================] - 2s 141ms/step - loss: 2508.6501 - mae: 37.5764 - mse: 2508.6501 - val_loss: 17668.5703 - val_mae: 110.3119 - val_mse: 17668.5703\n",
            "Epoch 58/95\n",
            "16/16 [==============================] - 3s 183ms/step - loss: 3128.3594 - mae: 45.5578 - mse: 3128.3594 - val_loss: 16496.8555 - val_mae: 105.2980 - val_mse: 16496.8555\n",
            "Epoch 59/95\n",
            "16/16 [==============================] - 2s 124ms/step - loss: 2911.0786 - mae: 41.5705 - mse: 2911.0786 - val_loss: 17363.9902 - val_mae: 108.4388 - val_mse: 17363.9902\n",
            "Epoch 60/95\n",
            "16/16 [==============================] - 2s 124ms/step - loss: 2251.7439 - mae: 37.3408 - mse: 2251.7439 - val_loss: 17960.4336 - val_mae: 108.6660 - val_mse: 17960.4336\n",
            "Epoch 61/95\n",
            "16/16 [==============================] - 2s 124ms/step - loss: 2455.2971 - mae: 36.8128 - mse: 2455.2971 - val_loss: 21385.1074 - val_mae: 125.2440 - val_mse: 21385.1074\n",
            "Epoch 62/95\n",
            "16/16 [==============================] - 2s 126ms/step - loss: 2820.8582 - mae: 38.8443 - mse: 2820.8582 - val_loss: 19708.6836 - val_mae: 124.0125 - val_mse: 19708.6836\n",
            "Epoch 63/95\n",
            "16/16 [==============================] - 2s 125ms/step - loss: 3388.9517 - mae: 43.7676 - mse: 3388.9517 - val_loss: 17770.9707 - val_mae: 115.5224 - val_mse: 17770.9707\n",
            "Epoch 64/95\n",
            "10/16 [=================>............] - ETA: 0s - loss: 3437.7390 - mae: 45.2790 - mse: 3437.7390"
          ]
        }
      ]
    },
    {
      "cell_type": "code",
      "source": [
        "## Plots\n",
        "pd.DataFrame(Lstm_History.history).plot(figsize=(10,10))"
      ],
      "metadata": {
        "id": "9ELVFWzmHUhR",
        "colab": {
          "base_uri": "https://localhost:8080/",
          "height": 609
        },
        "outputId": "4c667f9f-5ff6-4493-c363-5a2105a2d190"
      },
      "execution_count": 82,
      "outputs": [
        {
          "output_type": "execute_result",
          "data": {
            "text/plain": [
              "<matplotlib.axes._subplots.AxesSubplot at 0x7f39321a0b10>"
            ]
          },
          "metadata": {},
          "execution_count": 82
        },
        {
          "output_type": "display_data",
          "data": {
            "text/plain": [
              "<Figure size 720x720 with 1 Axes>"
            ],
            "image/png": "[encoded data removed]"
          },
          "metadata": {
            "needs_background": "light"
          }
        }
      ]
    },
    {
      "cell_type": "code",
      "source": [
        "Lstm_Model.summary()"
      ],
      "metadata": {
        "colab": {
          "base_uri": "https://localhost:8080/"
        },
        "id": "bgT5_28rT5pr",
        "outputId": "ce525b5c-cca8-43b5-f3d1-037e05df1e6a"
      },
      "execution_count": 83,
      "outputs": [
        {
          "output_type": "stream",
          "name": "stdout",
          "text": [
            "Model: \"sequential_30\"\n",
            "_________________________________________________________________\n",
            " Layer (type)                Output Shape              Param #   \n",
            "=================================================================\n",
            " embedding_28 (Embedding)    (None, 1, 1000)           623000    \n",
            "                                                                 \n",
            " lstm_37 (LSTM)              (None, 1, 1000)           8004000   \n",
            "                                                                 \n",
            " lstm_38 (LSTM)              (None, 1000)              8004000   \n",
            "                                                                 \n",
            " dense_51 (Dense)            (None, 1000)              1001000   \n",
            "                                                                 \n",
            " dense_52 (Dense)            (None, 1)                 1001      \n",
            "                                                                 \n",
            "=================================================================\n",
            "Total params: 17,633,001\n",
            "Trainable params: 17,633,001\n",
            "Non-trainable params: 0\n",
            "_________________________________________________________________\n"
          ]
        }
      ]
    },
    {
      "cell_type": "code",
      "source": [
        "plt.plot(xtrain,ytrain,color=\"red\")"
      ],
      "metadata": {
        "colab": {
          "base_uri": "https://localhost:8080/",
          "height": 282
        },
        "id": "AM7M50fHU8yV",
        "outputId": "08313666-ef00-4823-a698-e25beb47c2b1"
      },
      "execution_count": 84,
      "outputs": [
        {
          "output_type": "execute_result",
          "data": {
            "text/plain": [
              "[<matplotlib.lines.Line2D at 0x7f39314489d0>]"
            ]
          },
          "metadata": {},
          "execution_count": 84
        },
        {
          "output_type": "display_data",
          "data": {
            "text/plain": [
              "<Figure size 432x288 with 1 Axes>"
            ],
            "image/png": "[encoded data removed]"
          },
          "metadata": {
            "needs_background": "light"
          }
        }
      ]
    }
  ]
}