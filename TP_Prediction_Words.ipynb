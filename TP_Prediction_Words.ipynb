{
  "nbformat": 4,
  "nbformat_minor": 0,
  "metadata": {
    "colab": {
      "provenance": [],
      "authorship_tag": "ABX9TyOy7tx/R/AJhll00xYu5ZT0",
      "include_colab_link": true
    },
    "kernelspec": {
      "name": "python3",
      "display_name": "Python 3"
    },
    "language_info": {
      "name": "python"
    },
    "accelerator": "GPU"
  },
  "cells": [
    {
      "cell_type": "markdown",
      "metadata": {
        "id": "view-in-github",
        "colab_type": "text"
      },
      "source": [
        "<a href=\"https://colab.research.google.com/github/Faouzi-Slimi/python_Avancee/blob/main/TP_Prediction_Words.ipynb\" target=\"_parent\"><img src=\"https://colab.research.google.com/assets/colab-badge.svg\" alt=\"Open In Colab\"/></a>"
      ]
    },
    {
      "cell_type": "code",
      "source": [
        "\n",
        "string = \"\"\"Artificial Intelligence (AI) is a technical science that studies and develops theories, methods, technologies, and applications for simulating and extending human intelligence. The purpose of AI is to enable machines to think like people and to make machines intelligent. Today, AI has become an interdisciplinary course that involves various fields.\"\"\"\n",
        "#words = string.split(\" \")\n",
        "\n",
        "\n",
        "from keras.preprocessing.text import Tokenizer\n",
        "\n",
        "max_words = 1000\n",
        "max_len=150\n",
        "tok = Tokenizer(num_words=max_words)\n",
        "tok.fit_on_texts([string])\n",
        "sequences = tok.texts_to_sequences([string])[0]\n"
      ],
      "metadata": {
        "id": "rTGQmSZIZ0iu"
      },
      "execution_count": 60,
      "outputs": []
    },
    {
      "cell_type": "code",
      "source": [
        "x = sequences[:len(sequences)-1]\n",
        "y = sequences[1:]"
      ],
      "metadata": {
        "id": "HlBefw5dZ3J4"
      },
      "execution_count": 61,
      "outputs": []
    },
    {
      "cell_type": "code",
      "source": [
        "x"
      ],
      "metadata": {
        "colab": {
          "base_uri": "https://localhost:8080/"
        },
        "id": "DJogPRD2gz_g",
        "outputId": "adc6bd03-b0bc-45d2-cdea-f5dfddef76e4"
      },
      "execution_count": 69,
      "outputs": [
        {
          "output_type": "execute_result",
          "data": {
            "text/plain": [
              "[8,\n",
              " 4,\n",
              " 2,\n",
              " 5,\n",
              " 9,\n",
              " 10,\n",
              " 11,\n",
              " 6,\n",
              " 12,\n",
              " 1,\n",
              " 13,\n",
              " 14,\n",
              " 15,\n",
              " 16,\n",
              " 1,\n",
              " 17,\n",
              " 18,\n",
              " 19,\n",
              " 1,\n",
              " 20,\n",
              " 21,\n",
              " 4,\n",
              " 22,\n",
              " 23,\n",
              " 24,\n",
              " 2,\n",
              " 5,\n",
              " 3,\n",
              " 25,\n",
              " 7,\n",
              " 3,\n",
              " 26,\n",
              " 27,\n",
              " 28,\n",
              " 1,\n",
              " 3,\n",
              " 29,\n",
              " 7,\n",
              " 30,\n",
              " 31,\n",
              " 2,\n",
              " 32,\n",
              " 33,\n",
              " 34,\n",
              " 35,\n",
              " 36,\n",
              " 6,\n",
              " 37,\n",
              " 38]"
            ]
          },
          "metadata": {},
          "execution_count": 69
        }
      ]
    },
    {
      "cell_type": "code",
      "source": [
        "# Split Data\n",
        "\n",
        "from sklearn.model_selection import train_test_split\n",
        "\n",
        "xtrain,xtest,ytrain,ytest = train_test_split(x,y,test_size=0.2)"
      ],
      "metadata": {
        "id": "qvhvrpedfWXb"
      },
      "execution_count": 65,
      "outputs": []
    },
    {
      "cell_type": "code",
      "source": [
        "## Create Model\n",
        "\n",
        "# Import Libray\n",
        "import seaborn as sns\n",
        "from sklearn.preprocessing import LabelEncoder\n",
        "from keras.models import Sequential\n",
        "from keras.layers import LSTM, Activation, Dense, Dropout, Input, Embedding\n",
        "from keras.layers import Bidirectional\n",
        "from tensorflow.keras.optimizers import RMSprop\n",
        "from keras.preprocessing.text import Tokenizer\n",
        "from keras.preprocessing import sequence\n",
        "from tensorflow.keras.utils import to_categorical\n",
        "from keras.callbacks import EarlyStopping\n",
        "import pandas as pd\n"
      ],
      "metadata": {
        "id": "uglMNO6XeqPq"
      },
      "execution_count": 63,
      "outputs": []
    },
    {
      "cell_type": "code",
      "source": [
        "from keras.layers import GRU\n",
        "# Set the random Seed\n",
        "import tensorflow as tf\n",
        "tf.random.set_seed(42)\n",
        "# Create Model\n",
        "model = Sequential()\n",
        "model.add(LSTM(128, input_shape=(,1)))\n",
        "model.add(Dense(len(x)))\n",
        "model.add(Activation('softmax'))"
      ],
      "metadata": {
        "colab": {
          "base_uri": "https://localhost:8080/",
          "height": 131
        },
        "id": "-ulPOXlAfKnE",
        "outputId": "cb9fe214-4880-4e70-941f-6d041975a60c"
      },
      "execution_count": 76,
      "outputs": [
        {
          "output_type": "error",
          "ename": "SyntaxError",
          "evalue": "ignored",
          "traceback": [
            "\u001b[0;36m  File \u001b[0;32m\"<ipython-input-76-efcbc8c4a044>\"\u001b[0;36m, line \u001b[0;32m7\u001b[0m\n\u001b[0;31m    model.add(LSTM(128, input_shape=(,1)))\u001b[0m\n\u001b[0m                                     ^\u001b[0m\n\u001b[0;31mSyntaxError\u001b[0m\u001b[0;31m:\u001b[0m invalid syntax\n"
          ]
        }
      ]
    },
    {
      "cell_type": "code",
      "source": [
        "# Compile the model\n",
        "model3.compile(loss='binary_crossentropy',optimizer=RMSprop(),metrics=['accuracy'])\n",
        "\n",
        "# Fit the Model\n",
        "model3.fit(xtrain,ytrain,batch_size=128,epochs=10,validation_split=0.2,callbacks=[EarlyStopping(monitor='val_loss',min_delta=0.0001)])"
      ],
      "metadata": {
        "id": "UHP4r6vJf3Mf"
      },
      "execution_count": null,
      "outputs": []
    }
  ]
}