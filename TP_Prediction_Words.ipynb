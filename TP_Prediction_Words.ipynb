{
  "nbformat": 4,
  "nbformat_minor": 0,
  "metadata": {
    "colab": {
      "provenance": [],
      "authorship_tag": "ABX9TyNgr6qeUJezg5CnLF3cVPVO",
      "include_colab_link": true
    },
    "kernelspec": {
      "name": "python3",
      "display_name": "Python 3"
    },
    "language_info": {
      "name": "python"
    },
    "accelerator": "GPU"
  },
  "cells": [
    {
      "cell_type": "markdown",
      "metadata": {
        "id": "view-in-github",
        "colab_type": "text"
      },
      "source": [
        "<a href=\"https://colab.research.google.com/github/Faouzi-Slimi/python_Avancee/blob/main/TP_Prediction_Words.ipynb\" target=\"_parent\"><img src=\"https://colab.research.google.com/assets/colab-badge.svg\" alt=\"Open In Colab\"/></a>"
      ]
    },
    {
      "cell_type": "code",
      "source": [
        "\n",
        "string = \"\"\"Artificial Intelligence (AI) is a technical science that studies and develops theories, methods, technologies, and applications for simulating and extending human intelligence. The purpose of AI is to enable machines to think like people and to make machines intelligent. Today, AI has become an interdisciplinary course that involves various fields.\"\"\"\n",
        "#words = string.split(\" \")\n",
        "\n",
        "\n",
        "from keras.preprocessing.text import Tokenizer\n",
        "\n",
        "max_words = 1000\n",
        "max_len=150\n",
        "tok = Tokenizer(num_words=max_words)\n",
        "tok.fit_on_texts([string])\n",
        "sequences = tok.texts_to_sequences([string])[0]\n"
      ],
      "metadata": {
        "id": "rTGQmSZIZ0iu"
      },
      "execution_count": 60,
      "outputs": []
    },
    {
      "cell_type": "code",
      "source": [
        "x = sequences[:len(sequences)-1]\n",
        "y = sequences[1:]"
      ],
      "metadata": {
        "id": "HlBefw5dZ3J4"
      },
      "execution_count": 61,
      "outputs": []
    },
    {
      "cell_type": "code",
      "source": [
        "## Create Model\n",
        "\n"
      ],
      "metadata": {
        "id": "uglMNO6XeqPq"
      },
      "execution_count": null,
      "outputs": []
    }
  ]
}