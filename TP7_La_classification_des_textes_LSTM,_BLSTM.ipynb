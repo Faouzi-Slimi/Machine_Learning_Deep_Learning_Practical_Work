{
  "nbformat": 4,
  "nbformat_minor": 0,
  "metadata": {
    "colab": {
      "provenance": [],
      "mount_file_id": "https://github.com/Faouzi-Slimi/python_Avancee/blob/main/TP7_La_classification_des_textes_LSTM%2C_BLSTM.ipynb",
      "authorship_tag": "ABX9TyN8X+Tse8eqCGsrQeJpYaTm",
      "include_colab_link": true
    },
    "kernelspec": {
      "name": "python3",
      "display_name": "Python 3"
    },
    "language_info": {
      "name": "python"
    },
    "accelerator": "GPU"
  },
  "cells": [
    {
      "cell_type": "markdown",
      "metadata": {
        "id": "view-in-github",
        "colab_type": "text"
      },
      "source": [
        "<a href=\"https://colab.research.google.com/github/Faouzi-Slimi/python_Avancee/blob/main/TP7_La_classification_des_textes_LSTM%2C_BLSTM.ipynb\" target=\"_parent\"><img src=\"https://colab.research.google.com/assets/colab-badge.svg\" alt=\"Open In Colab\"/></a>"
      ]
    },
    {
      "cell_type": "markdown",
      "source": [
        "## Prepare Data"
      ],
      "metadata": {
        "id": "WaK5iHj1x5DH"
      }
    },
    {
      "cell_type": "code",
      "source": [
        "# Import Libray\n",
        "import seaborn as sns\n",
        "from sklearn.preprocessing import LabelEncoder\n",
        "from keras.models import Sequential\n",
        "from keras.layers import LSTM, Activation, Dense, Dropout, Input, Embedding\n",
        "from keras.layers import Bidirectional\n",
        "from tensorflow.keras.optimizers import RMSprop\n",
        "from keras.preprocessing.text import Tokenizer\n",
        "from keras.preprocessing import sequence\n",
        "from tensorflow.keras.utils import to_categorical\n",
        "from keras.callbacks import EarlyStopping\n",
        "import pandas as pd"
      ],
      "metadata": {
        "id": "cT3G3Sb4x2S0"
      },
      "execution_count": 1,
      "outputs": []
    },
    {
      "cell_type": "code",
      "source": [
        "# Import Data\n",
        "data = pd.read_csv(\"/content/drive/MyDrive/spam.csv\",delimiter = \",\",encoding = \"latin-1\")"
      ],
      "metadata": {
        "id": "_wtw2V655u0o"
      },
      "execution_count": 2,
      "outputs": []
    },
    {
      "cell_type": "code",
      "source": [
        "# Clean Data\n",
        "\n",
        "data1 = data.drop([\"Unnamed: 2\",\"Unnamed: 3\",\"Unnamed: 4\"],axis = 1)\n",
        "\n",
        "X = data1.v2\n",
        "Y = data1.v1"
      ],
      "metadata": {
        "id": "fCkVS0EC6dX4"
      },
      "execution_count": 3,
      "outputs": []
    },
    {
      "cell_type": "code",
      "source": [
        "# Label Encoder\n",
        "\n",
        "le =  LabelEncoder()\n",
        "Y1 = le.fit_transform(Y)\n",
        "Y2 = Y1.reshape(-1,1)\n",
        "\n",
        "\n",
        "max_words = 1000\n",
        "max_len=150\n",
        "\n",
        "tok = Tokenizer(num_words=max_words)\n",
        "tok.fit_on_texts(X)\n",
        "sequences = tok.texts_to_sequences(X)\n",
        "\n",
        "sequence_matrix = sequence.pad_sequences(sequences,maxlen = max_len)"
      ],
      "metadata": {
        "id": "2J553PVO60aS"
      },
      "execution_count": 4,
      "outputs": []
    },
    {
      "cell_type": "code",
      "source": [
        "# Split Data\n",
        "from sklearn.model_selection import train_test_split\n",
        "\n",
        "xtrain,xtest,ytrain,ytest = train_test_split(sequence_matrix,Y2,test_size=0.2)"
      ],
      "metadata": {
        "id": "tvHm8Hc28JtZ"
      },
      "execution_count": 5,
      "outputs": []
    },
    {
      "cell_type": "markdown",
      "source": [
        "## Model1 :LSTM"
      ],
      "metadata": {
        "id": "wyNRwn-Pykcq"
      }
    },
    {
      "cell_type": "code",
      "source": [
        "# Set the random Seed\n",
        "import tensorflow as tf\n",
        "tf.random.set_seed(42)\n",
        "# Create Model\n",
        "model1 = Sequential()\n",
        "model1.add(Embedding(10000,150,input_length=max_len))\n",
        "model1.add(LSTM(150,dropout=0.5))\n",
        "model1.add(Dense(150,activation='relu'))\n",
        "model1.add(Dense(1,activation='relu'))"
      ],
      "metadata": {
        "id": "e_kAFeUkyZgk"
      },
      "execution_count": 18,
      "outputs": []
    },
    {
      "cell_type": "code",
      "source": [
        "# Compile the model\n",
        "model1.compile(loss='binary_crossentropy',optimizer=RMSprop(),metrics=['accuracy'])\n",
        "\n",
        "# Fit the Model\n",
        "model1.fit(xtrain,ytrain,batch_size=128,epochs=10,validation_split=0.2,callbacks=[EarlyStopping(monitor='val_loss',min_delta=0.0001)])"
      ],
      "metadata": {
        "id": "7gll2wiBy-c1",
        "outputId": "7bd23933-e782-4cd8-b46c-ff52aa5eddc0",
        "colab": {
          "base_uri": "https://localhost:8080/"
        }
      },
      "execution_count": 19,
      "outputs": [
        {
          "output_type": "stream",
          "name": "stdout",
          "text": [
            "Epoch 1/10\n",
            "28/28 [==============================] - 3s 38ms/step - loss: 0.2511 - accuracy: 0.9290 - val_loss: 0.0929 - val_accuracy: 0.9832\n",
            "Epoch 2/10\n",
            "28/28 [==============================] - 1s 18ms/step - loss: 0.0917 - accuracy: 0.9860 - val_loss: 0.1279 - val_accuracy: 0.9854\n"
          ]
        },
        {
          "output_type": "execute_result",
          "data": {
            "text/plain": [
              "<keras.callbacks.History at 0x7faff9f308d0>"
            ]
          },
          "metadata": {},
          "execution_count": 19
        }
      ]
    },
    {
      "cell_type": "code",
      "source": [
        "# Testing\n",
        "accr = model1.evaluate(xtest,ytest)\n",
        "# Affichage de l'accuracy\n",
        "print(accr)"
      ],
      "metadata": {
        "id": "pygVcumaFVkd",
        "outputId": "9afbd3da-f9b5-4076-bfd9-7907cec40656",
        "colab": {
          "base_uri": "https://localhost:8080/"
        }
      },
      "execution_count": 20,
      "outputs": [
        {
          "output_type": "stream",
          "name": "stdout",
          "text": [
            "35/35 [==============================] - 0s 7ms/step - loss: 0.1046 - accuracy: 0.9794\n",
            "[0.10460909456014633, 0.9793722033500671]\n"
          ]
        }
      ]
    },
    {
      "cell_type": "markdown",
      "source": [
        "## Model2 :BLSTM"
      ],
      "metadata": {
        "id": "ZcDzNMZNFEmq"
      }
    },
    {
      "cell_type": "code",
      "source": [
        "# Set the random Seed\n",
        "import tensorflow as tf\n",
        "tf.random.set_seed(42)\n",
        "# Create Model\n",
        "model2 = Sequential()\n",
        "model2.add(Embedding(10000,150,input_length=max_len))\n",
        "model2.add(Bidirectional(LSTM(150,dropout=0.5)))\n",
        "model2.add(Dense(150,activation='relu'))\n",
        "model2.add(Dense(1,activation='sigmoid'))"
      ],
      "metadata": {
        "id": "_lXNGO-nGo07"
      },
      "execution_count": 21,
      "outputs": []
    },
    {
      "cell_type": "code",
      "source": [
        "# Compile the model\n",
        "model2.compile(loss='binary_crossentropy',optimizer=RMSprop(),metrics=['accuracy'])\n",
        "\n",
        "# Fit the Model\n",
        "model1.fit(xtrain,ytrain,batch_size=128,epochs=10,validation_split=0.2,callbacks=[EarlyStopping(monitor='val_loss',min_delta=0.00001)])"
      ],
      "metadata": {
        "id": "G5vyTEhUHTFi",
        "outputId": "1729f378-b116-4795-88d5-096567e088ed",
        "colab": {
          "base_uri": "https://localhost:8080/"
        }
      },
      "execution_count": 24,
      "outputs": [
        {
          "output_type": "stream",
          "name": "stdout",
          "text": [
            "Epoch 1/10\n",
            "28/28 [==============================] - 1s 23ms/step - loss: 0.0826 - accuracy: 0.9913 - val_loss: 0.1613 - val_accuracy: 0.9865\n",
            "Epoch 2/10\n",
            "28/28 [==============================] - 0s 17ms/step - loss: 0.0734 - accuracy: 0.9941 - val_loss: 0.1451 - val_accuracy: 0.9877\n"
          ]
        },
        {
          "output_type": "execute_result",
          "data": {
            "text/plain": [
              "<keras.callbacks.History at 0x7faff6ec6a10>"
            ]
          },
          "metadata": {},
          "execution_count": 24
        }
      ]
    },
    {
      "cell_type": "code",
      "source": [
        "# Testing\n",
        "accr2 = model2.evaluate(xtest,ytest)\n",
        "# Affichage de l'accuracy\n",
        "print(accr2)"
      ],
      "metadata": {
        "id": "fuZOrPS1Id_U",
        "outputId": "b6f5e33d-8370-4709-d81e-607baeafdfad",
        "colab": {
          "base_uri": "https://localhost:8080/"
        }
      },
      "execution_count": 25,
      "outputs": [
        {
          "output_type": "stream",
          "name": "stdout",
          "text": [
            "35/35 [==============================] - 2s 11ms/step - loss: 0.6942 - accuracy: 0.3722\n",
            "[0.6941635012626648, 0.37219730019569397]\n"
          ]
        }
      ]
    },
    {
      "cell_type": "markdown",
      "source": [
        "## Model3 :GRU"
      ],
      "metadata": {
        "id": "H436-l1BHhh-"
      }
    },
    {
      "cell_type": "code",
      "source": [
        "from keras.layers import GRU\n",
        "# Set the random Seed\n",
        "import tensorflow as tf\n",
        "tf.random.set_seed(42)\n",
        "# Create Model\n",
        "\n",
        "model3=Sequential()\n",
        "model3.add(Embedding(10000,150,input_length=max_len))\n",
        "model3.add(GRU(150,dropout=0.5))\n",
        "model3.add(Dense(150,activation='relu'))\n",
        "model3.add(Dense(1,activation='sigmoid'))"
      ],
      "metadata": {
        "id": "usHAZzgpHnoD"
      },
      "execution_count": 26,
      "outputs": []
    },
    {
      "cell_type": "code",
      "source": [
        "# Compile the model\n",
        "model3.compile(loss='binary_crossentropy',optimizer=RMSprop(),metrics=['accuracy'])\n",
        "\n",
        "# Fit the Model\n",
        "model3.fit(xtrain,ytrain,batch_size=128,epochs=10,validation_split=0.2,callbacks=[EarlyStopping(monitor='val_loss',min_delta=0.00001)])"
      ],
      "metadata": {
        "id": "9nzi_XBpI5Yz",
        "outputId": "b83136a7-e677-4dc7-857d-2786d116a760",
        "colab": {
          "base_uri": "https://localhost:8080/"
        }
      },
      "execution_count": 27,
      "outputs": [
        {
          "output_type": "stream",
          "name": "stdout",
          "text": [
            "Epoch 1/10\n",
            "28/28 [==============================] - 3s 34ms/step - loss: 0.2506 - accuracy: 0.9052 - val_loss: 0.0975 - val_accuracy: 0.9809\n",
            "Epoch 2/10\n",
            "28/28 [==============================] - 0s 17ms/step - loss: 0.0577 - accuracy: 0.9846 - val_loss: 0.0573 - val_accuracy: 0.9843\n"
          ]
        },
        {
          "output_type": "execute_result",
          "data": {
            "text/plain": [
              "<keras.callbacks.History at 0x7fafe75c6250>"
            ]
          },
          "metadata": {},
          "execution_count": 27
        }
      ]
    },
    {
      "cell_type": "code",
      "source": [
        "# Testing\n",
        "accr3 = model2.evaluate(xtest,ytest)\n",
        "# Affichage de l'accuracy\n",
        "print(accr3)"
      ],
      "metadata": {
        "id": "VBDBqH64I_2-",
        "outputId": "50a8a8ec-451a-47c6-ac18-6af938938627",
        "colab": {
          "base_uri": "https://localhost:8080/"
        }
      },
      "execution_count": 28,
      "outputs": [
        {
          "output_type": "stream",
          "name": "stdout",
          "text": [
            "35/35 [==============================] - 1s 11ms/step - loss: 0.6942 - accuracy: 0.3722\n",
            "[0.6941635012626648, 0.37219730019569397]\n"
          ]
        }
      ]
    }
  ]
}