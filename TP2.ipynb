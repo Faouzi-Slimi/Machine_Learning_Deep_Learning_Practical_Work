{
  "nbformat": 4,
  "nbformat_minor": 0,
  "metadata": {
    "colab": {
      "provenance": [],
      "collapsed_sections": [],
      "mount_file_id": "1OBY8yq22PCG7f9cWx7xFW8wkEV9asA2k",
      "authorship_tag": "ABX9TyNnYd0y0SAM49nYzioN4CyH",
      "include_colab_link": true
    },
    "kernelspec": {
      "name": "python3",
      "display_name": "Python 3"
    },
    "language_info": {
      "name": "python"
    },
    "accelerator": "GPU"
  },
  "cells": [
    {
      "cell_type": "markdown",
      "metadata": {
        "id": "view-in-github",
        "colab_type": "text"
      },
      "source": [
        "<a href=\"https://colab.research.google.com/github/Faouzi-Slimi/python_Avancee/blob/main/TP2.ipynb\" target=\"_parent\"><img src=\"https://colab.research.google.com/assets/colab-badge.svg\" alt=\"Open In Colab\"/></a>"
      ]
    },
    {
      "cell_type": "markdown",
      "source": [
        "# Import Data"
      ],
      "metadata": {
        "id": "iFsJO5JMlfe9"
      }
    },
    {
      "cell_type": "code",
      "execution_count": 51,
      "metadata": {
        "id": "FDzG6bEgZfib"
      },
      "outputs": [],
      "source": [
        "# import package\n",
        "import pandas as pd \n",
        "import numpy as np\n",
        "from PIL import Image\n",
        "import os\n"
      ]
    },
    {
      "cell_type": "code",
      "source": [
        "def get_data_set(filepath):\n",
        "  imgs=[]\n",
        "  labels = []\n",
        "  print(\"start reading files...\")\n",
        "  for f in os.listdir(filepath):\n",
        "    if not (f.endswith(\"pmg\")):\n",
        "      labels.append(f.split('.')[0])\n",
        "      print(\"Reading files....\")\n",
        "      img = np.asarray(Image.open(filepath+\"/\"+f))\n",
        "      imgs.append(img)\n",
        "  print(\"Reading finished...\")\n",
        "  return np.asarray(imgs),labels\n",
        "filepath = (\"/content/drive/MyDrive/yalefaces\")\n",
        "imgs,labels = get_data_set(filepath)\n",
        "\n"
      ],
      "metadata": {
        "colab": {
          "base_uri": "https://localhost:8080/"
        },
        "id": "ncWKwT7lbeJE",
        "outputId": "18b80335-254a-42b9-a199-63c53864dacd"
      },
      "execution_count": 52,
      "outputs": [
        {
          "output_type": "stream",
          "name": "stdout",
          "text": [
            "start reading files...\n",
            "Reading files....\n",
            "Reading files....\n",
            "Reading files....\n",
            "Reading files....\n",
            "Reading files....\n",
            "Reading files....\n",
            "Reading files....\n",
            "Reading files....\n",
            "Reading files....\n",
            "Reading files....\n",
            "Reading files....\n",
            "Reading files....\n",
            "Reading files....\n",
            "Reading files....\n",
            "Reading files....\n",
            "Reading files....\n",
            "Reading files....\n",
            "Reading files....\n",
            "Reading files....\n",
            "Reading files....\n",
            "Reading files....\n",
            "Reading files....\n",
            "Reading files....\n",
            "Reading files....\n",
            "Reading files....\n",
            "Reading files....\n",
            "Reading files....\n",
            "Reading files....\n",
            "Reading files....\n",
            "Reading files....\n",
            "Reading files....\n",
            "Reading files....\n",
            "Reading files....\n",
            "Reading files....\n",
            "Reading files....\n",
            "Reading files....\n",
            "Reading files....\n",
            "Reading files....\n",
            "Reading files....\n",
            "Reading files....\n",
            "Reading files....\n",
            "Reading files....\n",
            "Reading files....\n",
            "Reading files....\n",
            "Reading files....\n",
            "Reading files....\n",
            "Reading files....\n",
            "Reading files....\n",
            "Reading files....\n",
            "Reading files....\n",
            "Reading files....\n",
            "Reading files....\n",
            "Reading files....\n",
            "Reading files....\n",
            "Reading files....\n",
            "Reading files....\n",
            "Reading files....\n",
            "Reading files....\n",
            "Reading files....\n",
            "Reading files....\n",
            "Reading files....\n",
            "Reading files....\n",
            "Reading files....\n",
            "Reading files....\n",
            "Reading files....\n",
            "Reading files....\n",
            "Reading files....\n",
            "Reading files....\n",
            "Reading files....\n",
            "Reading files....\n",
            "Reading files....\n",
            "Reading files....\n",
            "Reading files....\n",
            "Reading files....\n",
            "Reading files....\n",
            "Reading files....\n",
            "Reading files....\n",
            "Reading files....\n",
            "Reading files....\n",
            "Reading files....\n",
            "Reading files....\n",
            "Reading files....\n",
            "Reading files....\n",
            "Reading files....\n",
            "Reading files....\n",
            "Reading files....\n",
            "Reading files....\n",
            "Reading files....\n",
            "Reading files....\n",
            "Reading files....\n",
            "Reading files....\n",
            "Reading files....\n",
            "Reading files....\n",
            "Reading files....\n",
            "Reading files....\n",
            "Reading files....\n",
            "Reading files....\n",
            "Reading files....\n",
            "Reading files....\n",
            "Reading files....\n",
            "Reading files....\n",
            "Reading files....\n",
            "Reading files....\n",
            "Reading files....\n",
            "Reading files....\n",
            "Reading files....\n",
            "Reading files....\n",
            "Reading files....\n",
            "Reading files....\n",
            "Reading files....\n",
            "Reading files....\n",
            "Reading files....\n",
            "Reading files....\n",
            "Reading files....\n",
            "Reading files....\n",
            "Reading files....\n",
            "Reading files....\n",
            "Reading files....\n",
            "Reading files....\n",
            "Reading files....\n",
            "Reading files....\n",
            "Reading files....\n",
            "Reading files....\n",
            "Reading files....\n",
            "Reading files....\n",
            "Reading files....\n",
            "Reading files....\n",
            "Reading files....\n",
            "Reading files....\n",
            "Reading files....\n",
            "Reading files....\n",
            "Reading files....\n",
            "Reading files....\n",
            "Reading files....\n",
            "Reading files....\n",
            "Reading files....\n",
            "Reading files....\n",
            "Reading files....\n",
            "Reading files....\n",
            "Reading files....\n",
            "Reading files....\n",
            "Reading files....\n",
            "Reading files....\n",
            "Reading files....\n",
            "Reading files....\n",
            "Reading files....\n",
            "Reading files....\n",
            "Reading files....\n",
            "Reading files....\n",
            "Reading files....\n",
            "Reading files....\n",
            "Reading files....\n",
            "Reading files....\n",
            "Reading files....\n",
            "Reading files....\n",
            "Reading files....\n",
            "Reading files....\n",
            "Reading files....\n",
            "Reading files....\n",
            "Reading files....\n",
            "Reading files....\n",
            "Reading files....\n",
            "Reading files....\n",
            "Reading files....\n",
            "Reading files....\n",
            "Reading finished...\n"
          ]
        }
      ]
    },
    {
      "cell_type": "markdown",
      "source": [],
      "metadata": {
        "id": "h33Lq6F8lbX9"
      }
    },
    {
      "cell_type": "code",
      "source": [
        "labels1 = np.array([labels[i][-2:] for i in range(len(labels))])\n",
        "\n"
      ],
      "metadata": {
        "id": "av2oH3udflKR"
      },
      "execution_count": 53,
      "outputs": []
    },
    {
      "cell_type": "code",
      "source": [
        "\n",
        "from sklearn.model_selection import train_test_split\n",
        "\n",
        "xtrain,xtest,ytrain,ytest = train_test_split(imgs,labels1,test_size=0.33, random_state=42)\n",
        "xtrain.shape"
      ],
      "metadata": {
        "id": "JfAgwwa8iHZZ",
        "colab": {
          "base_uri": "https://localhost:8080/"
        },
        "outputId": "029df93a-ee9b-4275-92f4-607e954083cf"
      },
      "execution_count": 54,
      "outputs": [
        {
          "output_type": "execute_result",
          "data": {
            "text/plain": [
              "(110, 243, 320)"
            ]
          },
          "metadata": {},
          "execution_count": 54
        }
      ]
    },
    {
      "cell_type": "code",
      "source": [
        "#### ADD channels\n",
        "\n",
        "xtrain = xtrain.reshape(xtrain.shape[0],xtrain.shape[1],xtrain.shape[2],1)\n",
        "xtest = xtest.reshape(xtest.shape[0],xtest.shape[1],xtest.shape[2],1)\n",
        "\n",
        "##\n",
        "from tensorflow.keras.utils import to_categorical\n",
        "ytrain1 = to_categorical(ytrain)\n",
        "ytest1 = to_categorical(ytest)\n",
        "\n",
        "ytrain = ytrain1[:,1:]\n",
        "ytest = ytest1[:,1:]\n"
      ],
      "metadata": {
        "id": "QSUP_ypIwlnS"
      },
      "execution_count": 55,
      "outputs": []
    },
    {
      "cell_type": "markdown",
      "source": [
        "# Create Model"
      ],
      "metadata": {
        "id": "P7ahYUzxlmQ5"
      }
    },
    {
      "cell_type": "code",
      "source": [
        "## set the random_seed\n",
        "import tensorflow as tf\n",
        "tf.random.set_seed(42)\n",
        "#### create model\n",
        "from keras.layers import Flatten\n",
        "from keras import Sequential\n",
        "from keras.layers import Convolution2D\n",
        "from keras.layers import MaxPooling2D\n",
        "from keras.layers import Flatten\n",
        "from keras.layers import Dense\n",
        "import keras.losses\n",
        "\n",
        "Classifier = Sequential()\n",
        "Classifier.add(Convolution2D(32,kernel_size = 9,input_shape=(243,320,1),activation = 'relu'))## stride = 1 par defaut \n",
        "Classifier.add(MaxPooling2D(pool_size=(8,8)))\n",
        "Classifier.add(Flatten())\n",
        "Classifier.add(Dense(units=248,activation=\"relu\"))\n",
        "Classifier.add(Dense(units=15,activation=\"softmax\"))\n",
        "\n"
      ],
      "metadata": {
        "id": "z6R9LVZ5mNMD"
      },
      "execution_count": 56,
      "outputs": []
    },
    {
      "cell_type": "code",
      "source": [
        "from sklearn.utils import validation\n",
        "Classifier.compile(optimizer='adam',loss = \"categorical_crossentropy\",metrics=[\"accuracy\"])\n",
        "History = Classifier.fit(xtrain,ytrain,validation_data=(xtest,ytest),epochs=50,batch_size=32)"
      ],
      "metadata": {
        "colab": {
          "base_uri": "https://localhost:8080/"
        },
        "id": "hrvmBEXYyMpu",
        "outputId": "84231ca3-0641-4b16-ba13-35360c0b9c2c"
      },
      "execution_count": 57,
      "outputs": [
        {
          "output_type": "stream",
          "name": "stdout",
          "text": [
            "Epoch 1/50\n",
            "4/4 [==============================] - 1s 119ms/step - loss: 711.4379 - accuracy: 0.0727 - val_loss: 177.8359 - val_accuracy: 0.0545\n",
            "Epoch 2/50\n",
            "4/4 [==============================] - 0s 51ms/step - loss: 114.7496 - accuracy: 0.2182 - val_loss: 7.7165 - val_accuracy: 0.3091\n",
            "Epoch 3/50\n",
            "4/4 [==============================] - 0s 56ms/step - loss: 6.6018 - accuracy: 0.3727 - val_loss: 1.3933 - val_accuracy: 0.6909\n",
            "Epoch 4/50\n",
            "4/4 [==============================] - 0s 44ms/step - loss: 0.7420 - accuracy: 0.8000 - val_loss: 0.6127 - val_accuracy: 0.8364\n",
            "Epoch 5/50\n",
            "4/4 [==============================] - 0s 53ms/step - loss: 0.1015 - accuracy: 0.9636 - val_loss: 1.3782 - val_accuracy: 0.8182\n",
            "Epoch 6/50\n",
            "4/4 [==============================] - 0s 44ms/step - loss: 0.0075 - accuracy: 1.0000 - val_loss: 1.9838 - val_accuracy: 0.8364\n",
            "Epoch 7/50\n",
            "4/4 [==============================] - 0s 43ms/step - loss: 4.9307e-04 - accuracy: 1.0000 - val_loss: 2.0418 - val_accuracy: 0.8364\n",
            "Epoch 8/50\n",
            "4/4 [==============================] - 0s 43ms/step - loss: 2.2544e-04 - accuracy: 1.0000 - val_loss: 2.0129 - val_accuracy: 0.8364\n",
            "Epoch 9/50\n",
            "4/4 [==============================] - 0s 43ms/step - loss: 2.5279e-05 - accuracy: 1.0000 - val_loss: 1.9565 - val_accuracy: 0.8727\n",
            "Epoch 10/50\n",
            "4/4 [==============================] - 0s 45ms/step - loss: 1.9447e-05 - accuracy: 1.0000 - val_loss: 1.8806 - val_accuracy: 0.8909\n",
            "Epoch 11/50\n",
            "4/4 [==============================] - 0s 44ms/step - loss: 7.4584e-06 - accuracy: 1.0000 - val_loss: 1.7869 - val_accuracy: 0.9091\n",
            "Epoch 12/50\n",
            "4/4 [==============================] - 0s 43ms/step - loss: 6.8598e-07 - accuracy: 1.0000 - val_loss: 1.7214 - val_accuracy: 0.9273\n",
            "Epoch 13/50\n",
            "4/4 [==============================] - 0s 43ms/step - loss: 3.1211e-07 - accuracy: 1.0000 - val_loss: 1.6790 - val_accuracy: 0.9273\n",
            "Epoch 14/50\n",
            "4/4 [==============================] - 0s 43ms/step - loss: 1.9724e-07 - accuracy: 1.0000 - val_loss: 1.6519 - val_accuracy: 0.9273\n",
            "Epoch 15/50\n",
            "4/4 [==============================] - 0s 43ms/step - loss: 1.3438e-07 - accuracy: 1.0000 - val_loss: 1.6337 - val_accuracy: 0.9273\n",
            "Epoch 16/50\n",
            "4/4 [==============================] - 0s 55ms/step - loss: 1.1162e-07 - accuracy: 1.0000 - val_loss: 1.6215 - val_accuracy: 0.9273\n",
            "Epoch 17/50\n",
            "4/4 [==============================] - 0s 44ms/step - loss: 8.3446e-08 - accuracy: 1.0000 - val_loss: 1.6133 - val_accuracy: 0.9273\n",
            "Epoch 18/50\n",
            "4/4 [==============================] - 0s 43ms/step - loss: 7.5860e-08 - accuracy: 1.0000 - val_loss: 1.6080 - val_accuracy: 0.9273\n",
            "Epoch 19/50\n",
            "4/4 [==============================] - 0s 43ms/step - loss: 6.2856e-08 - accuracy: 1.0000 - val_loss: 1.6045 - val_accuracy: 0.9273\n",
            "Epoch 20/50\n",
            "4/4 [==============================] - 0s 43ms/step - loss: 5.7437e-08 - accuracy: 1.0000 - val_loss: 1.6023 - val_accuracy: 0.9273\n",
            "Epoch 21/50\n",
            "4/4 [==============================] - 0s 42ms/step - loss: 4.9851e-08 - accuracy: 1.0000 - val_loss: 1.6009 - val_accuracy: 0.9273\n",
            "Epoch 22/50\n",
            "4/4 [==============================] - 0s 54ms/step - loss: 4.3349e-08 - accuracy: 1.0000 - val_loss: 1.6000 - val_accuracy: 0.9273\n",
            "Epoch 23/50\n",
            "4/4 [==============================] - 0s 43ms/step - loss: 3.9014e-08 - accuracy: 1.0000 - val_loss: 1.5994 - val_accuracy: 0.9273\n",
            "Epoch 24/50\n",
            "4/4 [==============================] - 0s 42ms/step - loss: 3.6846e-08 - accuracy: 1.0000 - val_loss: 1.5992 - val_accuracy: 0.9273\n",
            "Epoch 25/50\n",
            "4/4 [==============================] - 0s 42ms/step - loss: 3.4679e-08 - accuracy: 1.0000 - val_loss: 1.5990 - val_accuracy: 0.9273\n",
            "Epoch 26/50\n",
            "4/4 [==============================] - 0s 55ms/step - loss: 3.2512e-08 - accuracy: 1.0000 - val_loss: 1.5991 - val_accuracy: 0.9273\n",
            "Epoch 27/50\n",
            "4/4 [==============================] - 0s 42ms/step - loss: 3.2512e-08 - accuracy: 1.0000 - val_loss: 1.5993 - val_accuracy: 0.9273\n",
            "Epoch 28/50\n",
            "4/4 [==============================] - 0s 42ms/step - loss: 2.9260e-08 - accuracy: 1.0000 - val_loss: 1.5994 - val_accuracy: 0.9273\n",
            "Epoch 29/50\n",
            "4/4 [==============================] - 0s 43ms/step - loss: 2.7093e-08 - accuracy: 1.0000 - val_loss: 1.5997 - val_accuracy: 0.9273\n",
            "Epoch 30/50\n",
            "4/4 [==============================] - 0s 53ms/step - loss: 2.3842e-08 - accuracy: 1.0000 - val_loss: 1.5999 - val_accuracy: 0.9273\n",
            "Epoch 31/50\n",
            "4/4 [==============================] - 0s 43ms/step - loss: 2.1674e-08 - accuracy: 1.0000 - val_loss: 1.6000 - val_accuracy: 0.9273\n",
            "Epoch 32/50\n",
            "4/4 [==============================] - 0s 42ms/step - loss: 2.1674e-08 - accuracy: 1.0000 - val_loss: 1.6002 - val_accuracy: 0.9273\n",
            "Epoch 33/50\n",
            "4/4 [==============================] - 0s 43ms/step - loss: 2.0591e-08 - accuracy: 1.0000 - val_loss: 1.6004 - val_accuracy: 0.9273\n",
            "Epoch 34/50\n",
            "4/4 [==============================] - 0s 42ms/step - loss: 1.9507e-08 - accuracy: 1.0000 - val_loss: 1.6005 - val_accuracy: 0.9273\n",
            "Epoch 35/50\n",
            "4/4 [==============================] - 0s 41ms/step - loss: 1.9507e-08 - accuracy: 1.0000 - val_loss: 1.6007 - val_accuracy: 0.9273\n",
            "Epoch 36/50\n",
            "4/4 [==============================] - 0s 42ms/step - loss: 1.8423e-08 - accuracy: 1.0000 - val_loss: 1.6007 - val_accuracy: 0.9273\n",
            "Epoch 37/50\n",
            "4/4 [==============================] - 0s 42ms/step - loss: 1.8423e-08 - accuracy: 1.0000 - val_loss: 1.6008 - val_accuracy: 0.9273\n",
            "Epoch 38/50\n",
            "4/4 [==============================] - 0s 42ms/step - loss: 1.7340e-08 - accuracy: 1.0000 - val_loss: 1.6008 - val_accuracy: 0.9273\n",
            "Epoch 39/50\n",
            "4/4 [==============================] - 0s 42ms/step - loss: 1.7340e-08 - accuracy: 1.0000 - val_loss: 1.6008 - val_accuracy: 0.9273\n",
            "Epoch 40/50\n",
            "4/4 [==============================] - 0s 41ms/step - loss: 1.7340e-08 - accuracy: 1.0000 - val_loss: 1.6009 - val_accuracy: 0.9273\n",
            "Epoch 41/50\n",
            "4/4 [==============================] - 0s 42ms/step - loss: 1.6256e-08 - accuracy: 1.0000 - val_loss: 1.6009 - val_accuracy: 0.9273\n",
            "Epoch 42/50\n",
            "4/4 [==============================] - 0s 42ms/step - loss: 1.6256e-08 - accuracy: 1.0000 - val_loss: 1.6010 - val_accuracy: 0.9273\n",
            "Epoch 43/50\n",
            "4/4 [==============================] - 0s 43ms/step - loss: 1.6256e-08 - accuracy: 1.0000 - val_loss: 1.6010 - val_accuracy: 0.9273\n",
            "Epoch 44/50\n",
            "4/4 [==============================] - 0s 42ms/step - loss: 1.6256e-08 - accuracy: 1.0000 - val_loss: 1.6011 - val_accuracy: 0.9273\n",
            "Epoch 45/50\n",
            "4/4 [==============================] - 0s 42ms/step - loss: 1.5172e-08 - accuracy: 1.0000 - val_loss: 1.6012 - val_accuracy: 0.9273\n",
            "Epoch 46/50\n",
            "4/4 [==============================] - 0s 42ms/step - loss: 1.5172e-08 - accuracy: 1.0000 - val_loss: 1.6012 - val_accuracy: 0.9273\n",
            "Epoch 47/50\n",
            "4/4 [==============================] - 0s 54ms/step - loss: 1.5172e-08 - accuracy: 1.0000 - val_loss: 1.6012 - val_accuracy: 0.9273\n",
            "Epoch 48/50\n",
            "4/4 [==============================] - 0s 42ms/step - loss: 1.4088e-08 - accuracy: 1.0000 - val_loss: 1.6013 - val_accuracy: 0.9273\n",
            "Epoch 49/50\n",
            "4/4 [==============================] - 0s 42ms/step - loss: 1.4088e-08 - accuracy: 1.0000 - val_loss: 1.6013 - val_accuracy: 0.9273\n",
            "Epoch 50/50\n",
            "4/4 [==============================] - 0s 42ms/step - loss: 1.3005e-08 - accuracy: 1.0000 - val_loss: 1.6014 - val_accuracy: 0.9273\n"
          ]
        }
      ]
    },
    {
      "cell_type": "code",
      "source": [
        "# Plot summary for our model\n",
        "Classifier.summary()\n"
      ],
      "metadata": {
        "colab": {
          "base_uri": "https://localhost:8080/"
        },
        "id": "DQ8dMHKE-OFV",
        "outputId": "6285c07e-6b71-42fe-c883-7e5a4c1c47ac"
      },
      "execution_count": 58,
      "outputs": [
        {
          "output_type": "stream",
          "name": "stdout",
          "text": [
            "Model: \"sequential_2\"\n",
            "_________________________________________________________________\n",
            " Layer (type)                Output Shape              Param #   \n",
            "=================================================================\n",
            " conv2d_2 (Conv2D)           (None, 235, 312, 32)      2624      \n",
            "                                                                 \n",
            " max_pooling2d_2 (MaxPooling  (None, 29, 39, 32)       0         \n",
            " 2D)                                                             \n",
            "                                                                 \n",
            " flatten_2 (Flatten)         (None, 36192)             0         \n",
            "                                                                 \n",
            " dense_4 (Dense)             (None, 248)               8975864   \n",
            "                                                                 \n",
            " dense_5 (Dense)             (None, 15)                3735      \n",
            "                                                                 \n",
            "=================================================================\n",
            "Total params: 8,982,223\n",
            "Trainable params: 8,982,223\n",
            "Non-trainable params: 0\n",
            "_________________________________________________________________\n"
          ]
        }
      ]
    },
    {
      "cell_type": "code",
      "source": [
        "# Plot accuracy, loss ,  val_accuracy and val_los\n",
        "import matplotlib.pyplot as plt\n",
        "## Accuracy and val_accuracy\n",
        "plt.plot(History.history['accuracy'])\n",
        "plt.plot(History.history['val_accuracy'])\n",
        "plt.title('Model Accuracy')\n",
        "plt.ylabel('Accuracy')\n",
        "plt.xlabel('epoch')\n",
        "plt.legend(['train', 'val'], loc='upper left')\n",
        "plt.show()\n"
      ],
      "metadata": {
        "colab": {
          "base_uri": "https://localhost:8080/",
          "height": 295
        },
        "id": "TzT6_OyOF0B6",
        "outputId": "4d882d40-63e6-4bd9-9451-5062801ff5d3"
      },
      "execution_count": 59,
      "outputs": [
        {
          "output_type": "display_data",
          "data": {
            "text/plain": [
              "<Figure size 432x288 with 1 Axes>"
            ],
            "image/png": "[encoded data removed]"
          },
          "metadata": {
            "needs_background": "light"
          }
        }
      ]
    },
    {
      "cell_type": "code",
      "source": [
        "## loss and val_loss\n",
        "plt.plot(History.history['loss'])\n",
        "plt.plot(History.history['val_loss'])\n",
        "plt.title('model loss')\n",
        "plt.ylabel('loss')\n",
        "plt.xlabel('epoch')\n",
        "plt.legend(['train', 'val'], loc='upper left')\n",
        "plt.show()"
      ],
      "metadata": {
        "colab": {
          "base_uri": "https://localhost:8080/",
          "height": 295
        },
        "id": "zKoO2UOyF_Jr",
        "outputId": "57e22d57-c3d7-437b-d321-9e74993243e7"
      },
      "execution_count": 60,
      "outputs": [
        {
          "output_type": "display_data",
          "data": {
            "text/plain": [
              "<Figure size 432x288 with 1 Axes>"
            ],
            "image/png": "[encoded data removed]"
          },
          "metadata": {
            "needs_background": "light"
          }
        }
      ]
    },
    {
      "cell_type": "markdown",
      "source": [
        "# Fixe the model\n",
        "- Set the kernel size to 16 in Conv2D\n",
        "- Set the strideS = 2 in Conv2D "
      ],
      "metadata": {
        "id": "47sc1gATJSlP"
      }
    },
    {
      "cell_type": "code",
      "source": [
        "\n",
        "# Set the random seed\n",
        "tf.random.set_seed(42)\n",
        "# Create model\n",
        "from keras.layers.core.flatten import Flatten\n",
        "from keras import Sequential\n",
        "from keras.layers import Convolution2D\n",
        "from keras.layers import MaxPooling2D\n",
        "from keras.layers import Flatten\n",
        "from keras.layers import Dense\n",
        "import keras.losses\n",
        "\n",
        "Classifier1 = Sequential()\n",
        "Classifier1.add(Convolution2D(32,kernel_size = 16,input_shape=(243,320,1),activation = 'relu',strides=2))\n",
        "Classifier1.add(MaxPooling2D(pool_size=(8,8)))\n",
        "Classifier1.add(Flatten())\n",
        "Classifier1.add(Dense(units=248,activation=\"relu\"))\n",
        "Classifier1.add(Dense(units=15,activation=\"softmax\"))\n",
        "\n"
      ],
      "metadata": {
        "id": "kvs86MJ2HfGU"
      },
      "execution_count": 61,
      "outputs": []
    },
    {
      "cell_type": "code",
      "source": [
        "from sklearn.utils import validation\n",
        "Classifier1.compile(optimizer='adam',loss = \"categorical_crossentropy\",metrics=[\"accuracy\"])\n",
        "History1 = Classifier1.fit(xtrain,ytrain,validation_data=(xtest,ytest),epochs=50,batch_size=32)"
      ],
      "metadata": {
        "colab": {
          "base_uri": "https://localhost:8080/"
        },
        "id": "M60y_LoDJOnh",
        "outputId": "de040b3e-5de1-4117-e3f6-ddc291b927c9"
      },
      "execution_count": 62,
      "outputs": [
        {
          "output_type": "stream",
          "name": "stdout",
          "text": [
            "Epoch 1/50\n",
            "4/4 [==============================] - 1s 96ms/step - loss: 259.0642 - accuracy: 0.1182 - val_loss: 12.0394 - val_accuracy: 0.1818\n",
            "Epoch 2/50\n",
            "4/4 [==============================] - 0s 39ms/step - loss: 5.2135 - accuracy: 0.3000 - val_loss: 2.0260 - val_accuracy: 0.4727\n",
            "Epoch 3/50\n",
            "4/4 [==============================] - 0s 36ms/step - loss: 1.5439 - accuracy: 0.6000 - val_loss: 1.2969 - val_accuracy: 0.5818\n",
            "Epoch 4/50\n",
            "4/4 [==============================] - 0s 29ms/step - loss: 0.9073 - accuracy: 0.6818 - val_loss: 0.6949 - val_accuracy: 0.8182\n",
            "Epoch 5/50\n",
            "4/4 [==============================] - 0s 26ms/step - loss: 0.3004 - accuracy: 0.9273 - val_loss: 0.5033 - val_accuracy: 0.8727\n",
            "Epoch 6/50\n",
            "4/4 [==============================] - 0s 25ms/step - loss: 0.0869 - accuracy: 0.9909 - val_loss: 0.3982 - val_accuracy: 0.8909\n",
            "Epoch 7/50\n",
            "4/4 [==============================] - 0s 25ms/step - loss: 0.0189 - accuracy: 1.0000 - val_loss: 0.2691 - val_accuracy: 0.9455\n",
            "Epoch 8/50\n",
            "4/4 [==============================] - 0s 25ms/step - loss: 0.0067 - accuracy: 1.0000 - val_loss: 0.2549 - val_accuracy: 0.9636\n",
            "Epoch 9/50\n",
            "4/4 [==============================] - 0s 25ms/step - loss: 0.0029 - accuracy: 1.0000 - val_loss: 0.2838 - val_accuracy: 0.9455\n",
            "Epoch 10/50\n",
            "4/4 [==============================] - 0s 24ms/step - loss: 9.0086e-04 - accuracy: 1.0000 - val_loss: 0.3174 - val_accuracy: 0.9455\n",
            "Epoch 11/50\n",
            "4/4 [==============================] - 0s 26ms/step - loss: 4.4081e-04 - accuracy: 1.0000 - val_loss: 0.3425 - val_accuracy: 0.9455\n",
            "Epoch 12/50\n",
            "4/4 [==============================] - 0s 25ms/step - loss: 2.1892e-04 - accuracy: 1.0000 - val_loss: 0.3592 - val_accuracy: 0.9455\n",
            "Epoch 13/50\n",
            "4/4 [==============================] - 0s 24ms/step - loss: 1.4475e-04 - accuracy: 1.0000 - val_loss: 0.3697 - val_accuracy: 0.9455\n",
            "Epoch 14/50\n",
            "4/4 [==============================] - 0s 24ms/step - loss: 9.8228e-05 - accuracy: 1.0000 - val_loss: 0.3769 - val_accuracy: 0.9455\n",
            "Epoch 15/50\n",
            "4/4 [==============================] - 0s 25ms/step - loss: 7.4740e-05 - accuracy: 1.0000 - val_loss: 0.3808 - val_accuracy: 0.9455\n",
            "Epoch 16/50\n",
            "4/4 [==============================] - 0s 25ms/step - loss: 6.3037e-05 - accuracy: 1.0000 - val_loss: 0.3827 - val_accuracy: 0.9455\n",
            "Epoch 17/50\n",
            "4/4 [==============================] - 0s 24ms/step - loss: 5.3649e-05 - accuracy: 1.0000 - val_loss: 0.3833 - val_accuracy: 0.9455\n",
            "Epoch 18/50\n",
            "4/4 [==============================] - 0s 25ms/step - loss: 4.7347e-05 - accuracy: 1.0000 - val_loss: 0.3828 - val_accuracy: 0.9636\n",
            "Epoch 19/50\n",
            "4/4 [==============================] - 0s 25ms/step - loss: 4.3834e-05 - accuracy: 1.0000 - val_loss: 0.3817 - val_accuracy: 0.9636\n",
            "Epoch 20/50\n",
            "4/4 [==============================] - 0s 25ms/step - loss: 4.0458e-05 - accuracy: 1.0000 - val_loss: 0.3803 - val_accuracy: 0.9636\n",
            "Epoch 21/50\n",
            "4/4 [==============================] - 0s 27ms/step - loss: 3.8260e-05 - accuracy: 1.0000 - val_loss: 0.3786 - val_accuracy: 0.9636\n",
            "Epoch 22/50\n",
            "4/4 [==============================] - 0s 24ms/step - loss: 3.6003e-05 - accuracy: 1.0000 - val_loss: 0.3771 - val_accuracy: 0.9636\n",
            "Epoch 23/50\n",
            "4/4 [==============================] - 0s 25ms/step - loss: 3.4438e-05 - accuracy: 1.0000 - val_loss: 0.3757 - val_accuracy: 0.9636\n",
            "Epoch 24/50\n",
            "4/4 [==============================] - 0s 24ms/step - loss: 3.3123e-05 - accuracy: 1.0000 - val_loss: 0.3742 - val_accuracy: 0.9636\n",
            "Epoch 25/50\n",
            "4/4 [==============================] - 0s 25ms/step - loss: 3.2011e-05 - accuracy: 1.0000 - val_loss: 0.3725 - val_accuracy: 0.9636\n",
            "Epoch 26/50\n",
            "4/4 [==============================] - 0s 24ms/step - loss: 3.0797e-05 - accuracy: 1.0000 - val_loss: 0.3710 - val_accuracy: 0.9636\n",
            "Epoch 27/50\n",
            "4/4 [==============================] - 0s 25ms/step - loss: 2.9828e-05 - accuracy: 1.0000 - val_loss: 0.3697 - val_accuracy: 0.9636\n",
            "Epoch 28/50\n",
            "4/4 [==============================] - 0s 25ms/step - loss: 2.8902e-05 - accuracy: 1.0000 - val_loss: 0.3685 - val_accuracy: 0.9636\n",
            "Epoch 29/50\n",
            "4/4 [==============================] - 0s 25ms/step - loss: 2.8088e-05 - accuracy: 1.0000 - val_loss: 0.3674 - val_accuracy: 0.9636\n",
            "Epoch 30/50\n",
            "4/4 [==============================] - 0s 24ms/step - loss: 2.7182e-05 - accuracy: 1.0000 - val_loss: 0.3664 - val_accuracy: 0.9818\n",
            "Epoch 31/50\n",
            "4/4 [==============================] - 0s 25ms/step - loss: 2.6357e-05 - accuracy: 1.0000 - val_loss: 0.3656 - val_accuracy: 0.9818\n",
            "Epoch 32/50\n",
            "4/4 [==============================] - 0s 24ms/step - loss: 2.5716e-05 - accuracy: 1.0000 - val_loss: 0.3646 - val_accuracy: 0.9818\n",
            "Epoch 33/50\n",
            "4/4 [==============================] - 0s 24ms/step - loss: 2.4882e-05 - accuracy: 1.0000 - val_loss: 0.3638 - val_accuracy: 0.9818\n",
            "Epoch 34/50\n",
            "4/4 [==============================] - 0s 24ms/step - loss: 2.4130e-05 - accuracy: 1.0000 - val_loss: 0.3631 - val_accuracy: 0.9818\n",
            "Epoch 35/50\n",
            "4/4 [==============================] - 0s 24ms/step - loss: 2.3574e-05 - accuracy: 1.0000 - val_loss: 0.3624 - val_accuracy: 0.9818\n",
            "Epoch 36/50\n",
            "4/4 [==============================] - 0s 24ms/step - loss: 2.2915e-05 - accuracy: 1.0000 - val_loss: 0.3618 - val_accuracy: 0.9818\n",
            "Epoch 37/50\n",
            "4/4 [==============================] - 0s 24ms/step - loss: 2.2347e-05 - accuracy: 1.0000 - val_loss: 0.3612 - val_accuracy: 0.9818\n",
            "Epoch 38/50\n",
            "4/4 [==============================] - 0s 24ms/step - loss: 2.1750e-05 - accuracy: 1.0000 - val_loss: 0.3608 - val_accuracy: 0.9818\n",
            "Epoch 39/50\n",
            "4/4 [==============================] - 0s 25ms/step - loss: 2.1255e-05 - accuracy: 1.0000 - val_loss: 0.3604 - val_accuracy: 0.9818\n",
            "Epoch 40/50\n",
            "4/4 [==============================] - 0s 24ms/step - loss: 2.0774e-05 - accuracy: 1.0000 - val_loss: 0.3601 - val_accuracy: 0.9818\n",
            "Epoch 41/50\n",
            "4/4 [==============================] - 0s 25ms/step - loss: 2.0276e-05 - accuracy: 1.0000 - val_loss: 0.3597 - val_accuracy: 0.9818\n",
            "Epoch 42/50\n",
            "4/4 [==============================] - 0s 25ms/step - loss: 1.9939e-05 - accuracy: 1.0000 - val_loss: 0.3594 - val_accuracy: 0.9818\n",
            "Epoch 43/50\n",
            "4/4 [==============================] - 0s 24ms/step - loss: 1.9466e-05 - accuracy: 1.0000 - val_loss: 0.3592 - val_accuracy: 0.9818\n",
            "Epoch 44/50\n",
            "4/4 [==============================] - 0s 25ms/step - loss: 1.9002e-05 - accuracy: 1.0000 - val_loss: 0.3589 - val_accuracy: 0.9818\n",
            "Epoch 45/50\n",
            "4/4 [==============================] - 0s 25ms/step - loss: 1.8601e-05 - accuracy: 1.0000 - val_loss: 0.3587 - val_accuracy: 0.9818\n",
            "Epoch 46/50\n",
            "4/4 [==============================] - 0s 25ms/step - loss: 1.8283e-05 - accuracy: 1.0000 - val_loss: 0.3586 - val_accuracy: 0.9818\n",
            "Epoch 47/50\n",
            "4/4 [==============================] - 0s 25ms/step - loss: 1.7841e-05 - accuracy: 1.0000 - val_loss: 0.3585 - val_accuracy: 0.9818\n",
            "Epoch 48/50\n",
            "4/4 [==============================] - 0s 24ms/step - loss: 1.7461e-05 - accuracy: 1.0000 - val_loss: 0.3585 - val_accuracy: 0.9818\n",
            "Epoch 49/50\n",
            "4/4 [==============================] - 0s 25ms/step - loss: 1.7155e-05 - accuracy: 1.0000 - val_loss: 0.3584 - val_accuracy: 0.9818\n",
            "Epoch 50/50\n",
            "4/4 [==============================] - 0s 24ms/step - loss: 1.6733e-05 - accuracy: 1.0000 - val_loss: 0.3584 - val_accuracy: 0.9818\n"
          ]
        }
      ]
    },
    {
      "cell_type": "code",
      "source": [
        "# Model Summary\n",
        "Classifier1.summary()"
      ],
      "metadata": {
        "id": "UnIwvW0_Otl_",
        "outputId": "6c96a4f4-be50-4094-b058-e5ef786de142",
        "colab": {
          "base_uri": "https://localhost:8080/"
        }
      },
      "execution_count": 63,
      "outputs": [
        {
          "output_type": "stream",
          "name": "stdout",
          "text": [
            "Model: \"sequential_3\"\n",
            "_________________________________________________________________\n",
            " Layer (type)                Output Shape              Param #   \n",
            "=================================================================\n",
            " conv2d_3 (Conv2D)           (None, 114, 153, 32)      8224      \n",
            "                                                                 \n",
            " max_pooling2d_3 (MaxPooling  (None, 14, 19, 32)       0         \n",
            " 2D)                                                             \n",
            "                                                                 \n",
            " flatten_3 (Flatten)         (None, 8512)              0         \n",
            "                                                                 \n",
            " dense_6 (Dense)             (None, 248)               2111224   \n",
            "                                                                 \n",
            " dense_7 (Dense)             (None, 15)                3735      \n",
            "                                                                 \n",
            "=================================================================\n",
            "Total params: 2,123,183\n",
            "Trainable params: 2,123,183\n",
            "Non-trainable params: 0\n",
            "_________________________________________________________________\n"
          ]
        }
      ]
    },
    {
      "cell_type": "code",
      "source": [
        "## Accuracy and val_accuracy\n",
        "plt.plot(History1.history['accuracy'])\n",
        "plt.plot(History1.history['val_accuracy'])\n",
        "plt.title('Model Accuracy')\n",
        "plt.ylabel('Accuracy')\n",
        "plt.xlabel('epoch')\n",
        "plt.legend(['train_acc', 'val_acc'], loc='lower right')\n",
        "plt.show()"
      ],
      "metadata": {
        "colab": {
          "base_uri": "https://localhost:8080/",
          "height": 295
        },
        "id": "3j7Z0yMpKO7w",
        "outputId": "9ae47308-cd10-470c-ca4c-b3a90caea463"
      },
      "execution_count": 64,
      "outputs": [
        {
          "output_type": "display_data",
          "data": {
            "text/plain": [
              "<Figure size 432x288 with 1 Axes>"
            ],
            "image/png": "[encoded data removed]"
          },
          "metadata": {
            "needs_background": "light"
          }
        }
      ]
    },
    {
      "cell_type": "code",
      "source": [
        "## loss and val_loss\n",
        "plt.plot(History1.history['loss'])\n",
        "plt.plot(History1.history['val_loss'])\n",
        "plt.title('Model Loss')\n",
        "\n",
        "plt.ylabel('loss')\n",
        "plt.xlabel('epoch')\n",
        "plt.legend(['train', 'val'], loc='upper right')\n",
        "plt.show()"
      ],
      "metadata": {
        "id": "N9z3NY3xMtKs",
        "outputId": "53d38c6a-d37f-4963-b3d7-6c5e668b40c2",
        "colab": {
          "base_uri": "https://localhost:8080/",
          "height": 295
        }
      },
      "execution_count": 65,
      "outputs": [
        {
          "output_type": "display_data",
          "data": {
            "text/plain": [
              "<Figure size 432x288 with 1 Axes>"
            ],
            "image/png": "[encoded data removed]"
          },
          "metadata": {
            "needs_background": "light"
          }
        }
      ]
    },
    {
      "cell_type": "markdown",
      "source": [
        "# Predict a picture"
      ],
      "metadata": {
        "id": "GGpIidzlVybf"
      }
    },
    {
      "cell_type": "code",
      "source": [
        "#Predict Subjuct01.centerlight\n",
        "pd = Classifier1.predict(imgs[[0]])\n",
        "prediction_class = np.argmax(pd,axis=1)+1\n",
        "prediction_class"
      ],
      "metadata": {
        "id": "blzb9zLbV2XV",
        "outputId": "083230e8-b0ae-4fc7-8eea-18c0fc0bb502",
        "colab": {
          "base_uri": "https://localhost:8080/"
        }
      },
      "execution_count": 69,
      "outputs": [
        {
          "output_type": "execute_result",
          "data": {
            "text/plain": [
              "array([1])"
            ]
          },
          "metadata": {},
          "execution_count": 69
        }
      ]
    },
    {
      "cell_type": "code",
      "source": [
        "#Predict Subjuct01.happy\n",
        "pd = Classifier1.predict(imgs[[2]])\n",
        "prediction_class = np.argmax(pd,axis=1)+1\n",
        "prediction_class"
      ],
      "metadata": {
        "id": "f8d1i6Zakzrq",
        "outputId": "7078ea46-bc8a-4f71-bbb8-e33ba36f7ee4",
        "colab": {
          "base_uri": "https://localhost:8080/"
        }
      },
      "execution_count": 70,
      "outputs": [
        {
          "output_type": "execute_result",
          "data": {
            "text/plain": [
              "array([1])"
            ]
          },
          "metadata": {},
          "execution_count": 70
        }
      ]
    },
    {
      "cell_type": "code",
      "source": [
        "#Predict Subjuct02.centerlight\n",
        "pd = Classifier1.predict(imgs[[11]])\n",
        "prediction_class = np.argmax(pd,axis=1)+1\n",
        "prediction_class"
      ],
      "metadata": {
        "id": "G3GSRr2fk30I",
        "outputId": "81ab9fd5-900d-45ca-f41d-ae37fe866456",
        "colab": {
          "base_uri": "https://localhost:8080/"
        }
      },
      "execution_count": 71,
      "outputs": [
        {
          "output_type": "execute_result",
          "data": {
            "text/plain": [
              "array([2])"
            ]
          },
          "metadata": {},
          "execution_count": 71
        }
      ]
    }
  ]
}