{
  "nbformat": 4,
  "nbformat_minor": 0,
  "metadata": {
    "colab": {
      "provenance": [],
      "mount_file_id": "1OBY8yq22PCG7f9cWx7xFW8wkEV9asA2k",
      "authorship_tag": "ABX9TyNAeGU4WKnb5sbpdcNcRD+y",
      "include_colab_link": true
    },
    "kernelspec": {
      "name": "python3",
      "display_name": "Python 3"
    },
    "language_info": {
      "name": "python"
    },
    "accelerator": "GPU"
  },
  "cells": [
    {
      "cell_type": "markdown",
      "metadata": {
        "id": "view-in-github",
        "colab_type": "text"
      },
      "source": [
        "<a href=\"https://colab.research.google.com/github/Faouzi-Slimi/python_Avancee/blob/main/TP2.ipynb\" target=\"_parent\"><img src=\"https://colab.research.google.com/assets/colab-badge.svg\" alt=\"Open In Colab\"/></a>"
      ]
    },
    {
      "cell_type": "code",
      "execution_count": null,
      "metadata": {
        "id": "FDzG6bEgZfib"
      },
      "outputs": [],
      "source": [
        "# import package\n",
        "import pandas as pd \n",
        "import numpy as np\n",
        "from PIL import Image\n",
        "import os\n"
      ]
    },
    {
      "cell_type": "code",
      "source": [
        "def get_data_set(filepath):\n",
        "  imgs=[]\n",
        "  labels = []\n",
        "  print(\"start reading files...\")\n",
        "  for f in os.listdir(filepath):\n",
        "    if not (f.endswith(\"pmg\")):\n",
        "      labels.append(f.split('.')[0])\n",
        "      print(\"Reading files....\")\n",
        "      img = np.asarray(Image.open(filepath+\"/\"+f))\n",
        "      imgs.append(img)\n",
        "  print(\"Reading finished...\")\n",
        "  return np.asarray(imgs),labels\n",
        "filepath = (\"/content/drive/MyDrive/yalefaces\")\n",
        "imgs,labels = get_data_set(filepath)\n",
        "\n"
      ],
      "metadata": {
        "colab": {
          "base_uri": "https://localhost:8080/"
        },
        "id": "ncWKwT7lbeJE",
        "outputId": "9fb15c5a-9da4-4bff-a56f-dc2fca10d1fc"
      },
      "execution_count": null,
      "outputs": [
        {
          "output_type": "stream",
          "name": "stdout",
          "text": [
            "start reading files...\n",
            "Reading files....\n",
            "Reading files....\n",
            "Reading files....\n",
            "Reading files....\n",
            "Reading files....\n",
            "Reading files....\n",
            "Reading files....\n",
            "Reading files....\n",
            "Reading files....\n",
            "Reading files....\n",
            "Reading files....\n",
            "Reading files....\n",
            "Reading files....\n",
            "Reading files....\n",
            "Reading files....\n",
            "Reading files....\n",
            "Reading files....\n",
            "Reading files....\n",
            "Reading files....\n",
            "Reading files....\n",
            "Reading files....\n",
            "Reading files....\n",
            "Reading files....\n",
            "Reading files....\n",
            "Reading files....\n",
            "Reading files....\n",
            "Reading files....\n",
            "Reading files....\n",
            "Reading files....\n",
            "Reading files....\n",
            "Reading files....\n",
            "Reading files....\n",
            "Reading files....\n",
            "Reading files....\n",
            "Reading files....\n",
            "Reading files....\n",
            "Reading files....\n",
            "Reading files....\n",
            "Reading files....\n",
            "Reading files....\n",
            "Reading files....\n",
            "Reading files....\n",
            "Reading files....\n",
            "Reading files....\n",
            "Reading files....\n",
            "Reading files....\n",
            "Reading files....\n",
            "Reading files....\n",
            "Reading files....\n",
            "Reading files....\n",
            "Reading files....\n",
            "Reading files....\n",
            "Reading files....\n",
            "Reading files....\n",
            "Reading files....\n",
            "Reading files....\n",
            "Reading files....\n",
            "Reading files....\n",
            "Reading files....\n",
            "Reading files....\n",
            "Reading files....\n",
            "Reading files....\n",
            "Reading files....\n",
            "Reading files....\n",
            "Reading files....\n",
            "Reading files....\n",
            "Reading files....\n",
            "Reading files....\n",
            "Reading files....\n",
            "Reading files....\n",
            "Reading files....\n",
            "Reading files....\n",
            "Reading files....\n",
            "Reading files....\n",
            "Reading files....\n",
            "Reading files....\n",
            "Reading files....\n",
            "Reading files....\n",
            "Reading files....\n",
            "Reading files....\n",
            "Reading files....\n",
            "Reading files....\n",
            "Reading files....\n",
            "Reading files....\n",
            "Reading files....\n",
            "Reading files....\n",
            "Reading files....\n",
            "Reading files....\n",
            "Reading files....\n",
            "Reading files....\n",
            "Reading files....\n",
            "Reading files....\n",
            "Reading files....\n",
            "Reading files....\n",
            "Reading files....\n",
            "Reading files....\n",
            "Reading files....\n",
            "Reading files....\n",
            "Reading files....\n",
            "Reading files....\n",
            "Reading files....\n",
            "Reading files....\n",
            "Reading files....\n",
            "Reading files....\n",
            "Reading files....\n",
            "Reading files....\n",
            "Reading files....\n",
            "Reading files....\n",
            "Reading files....\n",
            "Reading files....\n",
            "Reading files....\n",
            "Reading files....\n",
            "Reading files....\n",
            "Reading files....\n",
            "Reading files....\n",
            "Reading files....\n",
            "Reading files....\n",
            "Reading files....\n",
            "Reading files....\n",
            "Reading files....\n",
            "Reading files....\n",
            "Reading files....\n",
            "Reading files....\n",
            "Reading files....\n",
            "Reading files....\n",
            "Reading files....\n",
            "Reading files....\n",
            "Reading files....\n",
            "Reading files....\n",
            "Reading files....\n",
            "Reading files....\n",
            "Reading files....\n",
            "Reading files....\n",
            "Reading files....\n",
            "Reading files....\n",
            "Reading files....\n",
            "Reading files....\n",
            "Reading files....\n",
            "Reading files....\n",
            "Reading files....\n",
            "Reading files....\n",
            "Reading files....\n",
            "Reading files....\n",
            "Reading files....\n",
            "Reading files....\n",
            "Reading files....\n",
            "Reading files....\n",
            "Reading files....\n",
            "Reading files....\n",
            "Reading files....\n",
            "Reading files....\n",
            "Reading files....\n",
            "Reading files....\n",
            "Reading files....\n",
            "Reading files....\n",
            "Reading files....\n",
            "Reading files....\n",
            "Reading files....\n",
            "Reading files....\n",
            "Reading files....\n",
            "Reading files....\n",
            "Reading files....\n",
            "Reading files....\n",
            "Reading files....\n",
            "Reading files....\n",
            "Reading finished...\n"
          ]
        }
      ]
    },
    {
      "cell_type": "code",
      "source": [
        "labels1 = np.array([labels[i][-2:] for i in range(len(labels))])"
      ],
      "metadata": {
        "id": "av2oH3udflKR"
      },
      "execution_count": null,
      "outputs": []
    },
    {
      "cell_type": "code",
      "source": [
        "from sklearn.model_selection import train_test_split\n",
        "\n",
        "xtrain,xtest,ytrain,ytest = train_test_split(imgs,labels1,test_size=0.33, random_state=42)"
      ],
      "metadata": {
        "id": "JfAgwwa8iHZZ"
      },
      "execution_count": null,
      "outputs": []
    },
    {
      "cell_type": "code",
      "source": [
        "#### ADD channels\n",
        "\n",
        "xtrain = xtrain.reshape(xtrain.shape[0],xtrain.shape[1],xtrain.shape[2],1)\n",
        "xtest = xtest.reshape(xtest.shape[0],xtest.shape[1],xtest.shape[2],1)\n",
        "\n",
        "\n",
        "##\n",
        "from tensorflow.keras.utils import to_categorical\n",
        "ytrain1 = to_categorical(ytrain)\n",
        "ytest1 = to_categorical(ytest)\n",
        "\n",
        "ytrain = ytrain1[:,1:]\n",
        "ytest = ytest1[:,1:]\n"
      ],
      "metadata": {
        "id": "QSUP_ypIwlnS"
      },
      "execution_count": null,
      "outputs": []
    },
    {
      "cell_type": "code",
      "source": [
        "from keras.layers.core.flatten import Flatten\n",
        "#### create model\n",
        "\n",
        "from keras import Sequential\n",
        "from keras.layers import Convolution2D\n",
        "from keras.layers import MaxPooling2D\n",
        "from keras.layers import Flatten\n",
        "from keras.layers import Dense\n",
        "import keras.losses\n",
        "\n",
        "Classifier = Sequential()\n",
        "Classifier.add(Convolution2D(32,kernel_size = 9,input_shape=(243,320,1),activation = 'relu'))## stride = 1 par defaut \n",
        "Classifier.add(MaxPooling2D(pool_size=(8,8)))\n",
        "Classifier.add(Flatten())\n",
        "Classifier.add(Dense(units=248,activation=\"relu\"))\n",
        "Classifier.add(Dense(units=15,activation=\"softmax\"))\n",
        "\n"
      ],
      "metadata": {
        "id": "z6R9LVZ5mNMD"
      },
      "execution_count": null,
      "outputs": []
    },
    {
      "cell_type": "code",
      "source": [
        "from sklearn.utils import validation\n",
        "Classifier.compile(optimizer='adam',loss = \"categorical_crossentropy\",metrics=[\"accuracy\"])\n",
        "Classifier.fit(xtrain,ytrain,validation_data=(xtest,ytest),epochs=50,batch_size=32)"
      ],
      "metadata": {
        "colab": {
          "base_uri": "https://localhost:8080/"
        },
        "id": "hrvmBEXYyMpu",
        "outputId": "90740937-7dc3-4ba5-fa6e-6f7751918fc2"
      },
      "execution_count": null,
      "outputs": [
        {
          "output_type": "stream",
          "name": "stdout",
          "text": [
            "Epoch 1/50\n",
            "4/4 [==============================] - 1s 119ms/step - loss: 628.6943 - accuracy: 0.1455 - val_loss: 301.1929 - val_accuracy: 0.0727\n",
            "Epoch 2/50\n",
            "4/4 [==============================] - 0s 50ms/step - loss: 144.9724 - accuracy: 0.2182 - val_loss: 16.1771 - val_accuracy: 0.3455\n",
            "Epoch 3/50\n",
            "4/4 [==============================] - 0s 43ms/step - loss: 5.8898 - accuracy: 0.6818 - val_loss: 2.7425 - val_accuracy: 0.7091\n",
            "Epoch 4/50\n",
            "4/4 [==============================] - 0s 43ms/step - loss: 0.3244 - accuracy: 0.9545 - val_loss: 1.3928 - val_accuracy: 0.8727\n",
            "Epoch 5/50\n",
            "4/4 [==============================] - 0s 43ms/step - loss: 0.0253 - accuracy: 0.9909 - val_loss: 1.6972 - val_accuracy: 0.8909\n",
            "Epoch 6/50\n",
            "4/4 [==============================] - 0s 42ms/step - loss: 0.0046 - accuracy: 1.0000 - val_loss: 2.0304 - val_accuracy: 0.8182\n",
            "Epoch 7/50\n",
            "4/4 [==============================] - 0s 41ms/step - loss: 0.0064 - accuracy: 1.0000 - val_loss: 2.0680 - val_accuracy: 0.8182\n",
            "Epoch 8/50\n",
            "4/4 [==============================] - 0s 53ms/step - loss: 0.0020 - accuracy: 1.0000 - val_loss: 2.0440 - val_accuracy: 0.8182\n",
            "Epoch 9/50\n",
            "4/4 [==============================] - 0s 42ms/step - loss: 7.6213e-04 - accuracy: 1.0000 - val_loss: 2.0142 - val_accuracy: 0.8182\n",
            "Epoch 10/50\n",
            "4/4 [==============================] - 0s 43ms/step - loss: 2.2492e-04 - accuracy: 1.0000 - val_loss: 1.9738 - val_accuracy: 0.8182\n",
            "Epoch 11/50\n",
            "4/4 [==============================] - 0s 43ms/step - loss: 7.4436e-05 - accuracy: 1.0000 - val_loss: 1.9287 - val_accuracy: 0.8182\n",
            "Epoch 12/50\n",
            "4/4 [==============================] - 0s 43ms/step - loss: 3.0184e-05 - accuracy: 1.0000 - val_loss: 1.8758 - val_accuracy: 0.8182\n",
            "Epoch 13/50\n",
            "4/4 [==============================] - 0s 43ms/step - loss: 1.1640e-05 - accuracy: 1.0000 - val_loss: 1.8188 - val_accuracy: 0.8364\n",
            "Epoch 14/50\n",
            "4/4 [==============================] - 0s 43ms/step - loss: 4.3357e-06 - accuracy: 1.0000 - val_loss: 1.7552 - val_accuracy: 0.8364\n",
            "Epoch 15/50\n",
            "4/4 [==============================] - 0s 42ms/step - loss: 1.2538e-06 - accuracy: 1.0000 - val_loss: 1.7043 - val_accuracy: 0.8364\n",
            "Epoch 16/50\n",
            "4/4 [==============================] - 0s 43ms/step - loss: 5.7437e-07 - accuracy: 1.0000 - val_loss: 1.6693 - val_accuracy: 0.8545\n",
            "Epoch 17/50\n",
            "4/4 [==============================] - 0s 42ms/step - loss: 3.2186e-07 - accuracy: 1.0000 - val_loss: 1.6423 - val_accuracy: 0.8727\n",
            "Epoch 18/50\n",
            "4/4 [==============================] - 0s 43ms/step - loss: 1.9940e-07 - accuracy: 1.0000 - val_loss: 1.6180 - val_accuracy: 0.8727\n",
            "Epoch 19/50\n",
            "4/4 [==============================] - 0s 42ms/step - loss: 1.3330e-07 - accuracy: 1.0000 - val_loss: 1.5992 - val_accuracy: 0.8727\n",
            "Epoch 20/50\n",
            "4/4 [==============================] - 0s 43ms/step - loss: 1.0837e-07 - accuracy: 1.0000 - val_loss: 1.5833 - val_accuracy: 0.8727\n",
            "Epoch 21/50\n",
            "4/4 [==============================] - 0s 42ms/step - loss: 7.2609e-08 - accuracy: 1.0000 - val_loss: 1.5712 - val_accuracy: 0.8727\n",
            "Epoch 22/50\n",
            "4/4 [==============================] - 0s 44ms/step - loss: 5.4186e-08 - accuracy: 1.0000 - val_loss: 1.5617 - val_accuracy: 0.8909\n",
            "Epoch 23/50\n",
            "4/4 [==============================] - 0s 54ms/step - loss: 4.5516e-08 - accuracy: 1.0000 - val_loss: 1.5543 - val_accuracy: 0.8909\n",
            "Epoch 24/50\n",
            "4/4 [==============================] - 0s 43ms/step - loss: 3.9014e-08 - accuracy: 1.0000 - val_loss: 1.5471 - val_accuracy: 0.8909\n",
            "Epoch 25/50\n",
            "4/4 [==============================] - 0s 42ms/step - loss: 3.4679e-08 - accuracy: 1.0000 - val_loss: 1.5413 - val_accuracy: 0.8909\n",
            "Epoch 26/50\n",
            "4/4 [==============================] - 0s 41ms/step - loss: 2.8177e-08 - accuracy: 1.0000 - val_loss: 1.5365 - val_accuracy: 0.8909\n",
            "Epoch 27/50\n",
            "4/4 [==============================] - 0s 42ms/step - loss: 2.3842e-08 - accuracy: 1.0000 - val_loss: 1.5325 - val_accuracy: 0.8909\n",
            "Epoch 28/50\n",
            "4/4 [==============================] - 0s 43ms/step - loss: 2.2758e-08 - accuracy: 1.0000 - val_loss: 1.5291 - val_accuracy: 0.8909\n",
            "Epoch 29/50\n",
            "4/4 [==============================] - 0s 42ms/step - loss: 2.1674e-08 - accuracy: 1.0000 - val_loss: 1.5263 - val_accuracy: 0.8727\n",
            "Epoch 30/50\n",
            "4/4 [==============================] - 0s 42ms/step - loss: 2.0591e-08 - accuracy: 1.0000 - val_loss: 1.5235 - val_accuracy: 0.8727\n",
            "Epoch 31/50\n",
            "4/4 [==============================] - 0s 43ms/step - loss: 1.8423e-08 - accuracy: 1.0000 - val_loss: 1.5213 - val_accuracy: 0.8727\n",
            "Epoch 32/50\n",
            "4/4 [==============================] - 0s 55ms/step - loss: 1.7340e-08 - accuracy: 1.0000 - val_loss: 1.5191 - val_accuracy: 0.8727\n",
            "Epoch 33/50\n",
            "4/4 [==============================] - 0s 43ms/step - loss: 1.6256e-08 - accuracy: 1.0000 - val_loss: 1.5174 - val_accuracy: 0.8727\n",
            "Epoch 34/50\n",
            "4/4 [==============================] - 0s 43ms/step - loss: 1.4088e-08 - accuracy: 1.0000 - val_loss: 1.5151 - val_accuracy: 0.8727\n",
            "Epoch 35/50\n",
            "4/4 [==============================] - 0s 42ms/step - loss: 1.4088e-08 - accuracy: 1.0000 - val_loss: 1.5130 - val_accuracy: 0.8727\n",
            "Epoch 36/50\n",
            "4/4 [==============================] - 0s 41ms/step - loss: 1.1921e-08 - accuracy: 1.0000 - val_loss: 1.5111 - val_accuracy: 0.8727\n",
            "Epoch 37/50\n",
            "4/4 [==============================] - 0s 42ms/step - loss: 1.1921e-08 - accuracy: 1.0000 - val_loss: 1.5092 - val_accuracy: 0.8727\n",
            "Epoch 38/50\n",
            "4/4 [==============================] - 0s 41ms/step - loss: 1.0837e-08 - accuracy: 1.0000 - val_loss: 1.5073 - val_accuracy: 0.8727\n",
            "Epoch 39/50\n",
            "4/4 [==============================] - 0s 42ms/step - loss: 9.7535e-09 - accuracy: 1.0000 - val_loss: 1.5057 - val_accuracy: 0.8727\n",
            "Epoch 40/50\n",
            "4/4 [==============================] - 0s 42ms/step - loss: 7.5860e-09 - accuracy: 1.0000 - val_loss: 1.5043 - val_accuracy: 0.8909\n",
            "Epoch 41/50\n",
            "4/4 [==============================] - 0s 42ms/step - loss: 7.5860e-09 - accuracy: 1.0000 - val_loss: 1.5026 - val_accuracy: 0.8909\n",
            "Epoch 42/50\n",
            "4/4 [==============================] - 0s 42ms/step - loss: 7.5860e-09 - accuracy: 1.0000 - val_loss: 1.5011 - val_accuracy: 0.8909\n",
            "Epoch 43/50\n",
            "4/4 [==============================] - 0s 44ms/step - loss: 7.5860e-09 - accuracy: 1.0000 - val_loss: 1.4992 - val_accuracy: 0.8909\n",
            "Epoch 44/50\n",
            "4/4 [==============================] - 0s 42ms/step - loss: 7.5860e-09 - accuracy: 1.0000 - val_loss: 1.4975 - val_accuracy: 0.8909\n",
            "Epoch 45/50\n",
            "4/4 [==============================] - 0s 43ms/step - loss: 6.5023e-09 - accuracy: 1.0000 - val_loss: 1.4956 - val_accuracy: 0.8909\n",
            "Epoch 46/50\n",
            "4/4 [==============================] - 0s 43ms/step - loss: 6.5023e-09 - accuracy: 1.0000 - val_loss: 1.4938 - val_accuracy: 0.8909\n",
            "Epoch 47/50\n",
            "4/4 [==============================] - 0s 43ms/step - loss: 5.4186e-09 - accuracy: 1.0000 - val_loss: 1.4920 - val_accuracy: 0.8909\n",
            "Epoch 48/50\n",
            "4/4 [==============================] - 0s 43ms/step - loss: 5.4186e-09 - accuracy: 1.0000 - val_loss: 1.4903 - val_accuracy: 0.8909\n",
            "Epoch 49/50\n",
            "4/4 [==============================] - 0s 42ms/step - loss: 5.4186e-09 - accuracy: 1.0000 - val_loss: 1.4885 - val_accuracy: 0.8909\n",
            "Epoch 50/50\n",
            "4/4 [==============================] - 0s 43ms/step - loss: 4.3349e-09 - accuracy: 1.0000 - val_loss: 1.4868 - val_accuracy: 0.8909\n"
          ]
        },
        {
          "output_type": "execute_result",
          "data": {
            "text/plain": [
              "<keras.callbacks.History at 0x7f9cb67a3950>"
            ]
          },
          "metadata": {},
          "execution_count": 12
        }
      ]
    },
    {
      "cell_type": "code",
      "source": [
        "Classifier.summary()"
      ],
      "metadata": {
        "colab": {
          "base_uri": "https://localhost:8080/"
        },
        "id": "DQ8dMHKE-OFV",
        "outputId": "86a1a1a7-00a9-418a-c352-44eee117ba46"
      },
      "execution_count": null,
      "outputs": [
        {
          "output_type": "stream",
          "name": "stdout",
          "text": [
            "Model: \"sequential_1\"\n",
            "_________________________________________________________________\n",
            " Layer (type)                Output Shape              Param #   \n",
            "=================================================================\n",
            " conv2d_1 (Conv2D)           (None, 235, 312, 32)      2624      \n",
            "                                                                 \n",
            " max_pooling2d_1 (MaxPooling  (None, 29, 39, 32)       0         \n",
            " 2D)                                                             \n",
            "                                                                 \n",
            " flatten_1 (Flatten)         (None, 36192)             0         \n",
            "                                                                 \n",
            " dense_2 (Dense)             (None, 248)               8975864   \n",
            "                                                                 \n",
            " dense_3 (Dense)             (None, 15)                3735      \n",
            "                                                                 \n",
            "=================================================================\n",
            "Total params: 8,982,223\n",
            "Trainable params: 8,982,223\n",
            "Non-trainable params: 0\n",
            "_________________________________________________________________\n"
          ]
        }
      ]
    },
    {
      "cell_type": "code",
      "source": [
        "## proget dogs_cats_classification\n",
        "\n",
        "## plot loss and accuracy for this model\n",
        "## corriger le model\n"
      ],
      "metadata": {
        "id": "ZsdV54j5_Er7"
      },
      "execution_count": null,
      "outputs": []
    }
  ]
}