{
  "nbformat": 4,
  "nbformat_minor": 0,
  "metadata": {
    "colab": {
      "provenance": [],
      "collapsed_sections": [],
      "include_colab_link": true
    },
    "kernelspec": {
      "name": "python3",
      "display_name": "Python 3"
    },
    "language_info": {
      "name": "python"
    }
  },
  "cells": [
    {
      "cell_type": "markdown",
      "metadata": {
        "id": "view-in-github",
        "colab_type": "text"
      },
      "source": [
        "<a href=\"https://colab.research.google.com/github/Faouzi-Slimi/python_Avancee/blob/main/TP_DOGS_CATS.ipynb\" target=\"_parent\"><img src=\"https://colab.research.google.com/assets/colab-badge.svg\" alt=\"Open In Colab\"/></a>"
      ]
    },
    {
      "cell_type": "code",
      "execution_count": 19,
      "metadata": {
        "id": "_TsR2SAGcx4Q"
      },
      "outputs": [],
      "source": [
        "# Import Library\n",
        "import pandas as pd \n",
        "import numpy as np\n",
        "from PIL import Image\n",
        "import os\n",
        "import cv2\n",
        "import matplotlib.pyplot as plt"
      ]
    },
    {
      "cell_type": "code",
      "source": [
        "# Function to get Data \n",
        "def get_data_set (filepath) :\n",
        "  imgs=[]\n",
        "  labels=[]\n",
        "  for f in os.listdir(filepath) :\n",
        "    #if not (f.endswith('pgm')):   \n",
        "      print('reding file :' +f)\n",
        "      img=cv2.imread(filepath+f)/255\n",
        "      resized = cv2.resize(img,(256,256))\n",
        "      imgs.append(resized)\n",
        "      if f.split('.')[0]==\"dog\":\n",
        "        labels.append(0)\n",
        "      else:\n",
        "        labels.append(1)\n",
        "  print('reding file finished')\n",
        "  return np.asarray(imgs),labels"
      ],
      "metadata": {
        "id": "u901lH90gT02"
      },
      "execution_count": 20,
      "outputs": []
    },
    {
      "cell_type": "code",
      "source": [
        "# Connect colab To Drive\n",
        "from google.colab import drive\n",
        "drive.mount('/content/drive')"
      ],
      "metadata": {
        "id": "gAItyiww1R1O"
      },
      "execution_count": null,
      "outputs": []
    },
    {
      "cell_type": "code",
      "source": [
        "# Get Data\n",
        "filepath=('/content/drive/MyDrive/Data/')\n",
        "imgs1,labels=get_data_set(filepath)"
      ],
      "metadata": {
        "colab": {
          "base_uri": "https://localhost:8080/"
        },
        "id": "oJQ6auXIgVOM",
        "outputId": "0e4b390c-df19-4631-e4f9-3cf6bb7936d0"
      },
      "execution_count": 21,
      "outputs": [
        {
          "output_type": "stream",
          "name": "stdout",
          "text": [
            "reding file :cat.4013.jpg\n",
            "reding file :cat.4012.jpg\n",
            "reding file :cat.4001.jpg\n",
            "reding file :cat.4028.jpg\n",
            "reding file :cat.4024.jpg\n",
            "reding file :cat.4023.jpg\n",
            "reding file :cat.4016.jpg\n",
            "reding file :cat.4034.jpg\n",
            "reding file :cat.4006.jpg\n",
            "reding file :cat.4025.jpg\n",
            "reding file :cat.4004.jpg\n",
            "reding file :cat.4015.jpg\n",
            "reding file :cat.4002.jpg\n",
            "reding file :cat.4005.jpg\n",
            "reding file :cat.4027.jpg\n",
            "reding file :cat.4026.jpg\n",
            "reding file :cat.4003.jpg\n",
            "reding file :cat.4017.jpg\n",
            "reding file :cat.4014.jpg\n",
            "reding file :dog.4037.jpg\n",
            "reding file :cat.4036.jpg\n",
            "reding file :cat.4046.jpg\n",
            "reding file :dog.4004.jpg\n",
            "reding file :cat.4035.jpg\n",
            "reding file :dog.4039.jpg\n",
            "reding file :dog.4003.jpg\n",
            "reding file :cat.4047.jpg\n",
            "reding file :dog.4036.jpg\n",
            "reding file :dog.4048.jpg\n",
            "reding file :cat.4045.jpg\n",
            "reding file :dog.4026.jpg\n",
            "reding file :dog.4016.jpg\n",
            "reding file :dog.4046.jpg\n",
            "reding file :dog.4005.jpg\n",
            "reding file :dog.4002.jpg\n",
            "reding file :dog.4006.jpg\n",
            "reding file :dog.4001.jpg\n",
            "reding file :cat.4039.jpg\n",
            "reding file :dog.4012.jpg\n",
            "reding file :dog.4014.jpg\n",
            "reding file :cat.4038.jpg\n",
            "reding file :dog.4045.jpg\n",
            "reding file :dog.4023.jpg\n",
            "reding file :dog.4024.jpg\n",
            "reding file :cat.4049.jpg\n",
            "reding file :dog.4034.jpg\n",
            "reding file :dog.4047.jpg\n",
            "reding file :dog.4038.jpg\n",
            "reding file :dog.4027.jpg\n",
            "reding file :dog.4015.jpg\n",
            "reding file :dog.4035.jpg\n",
            "reding file :dog.4017.jpg\n",
            "reding file :dog.4028.jpg\n",
            "reding file :cat.4050.jpg\n",
            "reding file :cat.4037.jpg\n",
            "reding file :cat.4048.jpg\n",
            "reding file :dog.4025.jpg\n",
            "reding file :dog.4013.jpg\n",
            "reding file :dog.4050.jpg\n",
            "reding file :dog.4049.jpg\n",
            "reding file finished\n"
          ]
        }
      ]
    },
    {
      "cell_type": "code",
      "source": [
        "data_augmentation = Sequential([\n",
        "  layers.RandomFlip(\"horizontal_and_vertical\"),\n",
        "  layers.RandomRotation(0.2),\n",
        "])"
      ],
      "metadata": {
        "id": "hNhPdzFGijuo"
      },
      "execution_count": 7,
      "outputs": []
    },
    {
      "cell_type": "code",
      "source": [
        "images=[]\n",
        "for i in imgs1 :\n",
        "  # Add the image to a batch.\n",
        "  imag = tf.expand_dims(i, 0)\n",
        "  images.append(imag)\n",
        "  \n"
      ],
      "metadata": {
        "id": "_cqq9LTN4JFD"
      },
      "execution_count": 8,
      "outputs": []
    },
    {
      "cell_type": "code",
      "source": [
        "image_aug=[]\n",
        "labels_aug = []\n",
        "for k in range(len(imgs1)):\n",
        "  i = imgs1[k]\n",
        "  for j in range(9) :\n",
        "    augmented_image = data_augmentation(i)\n",
        "    image_aug.append(augmented_image)\n",
        "    labels_aug.append(labels[k])\n",
        "    ax = plt.subplot(3, 3, j + 1)\n",
        "    plt.imshow(augmented_image[0])\n",
        "    plt.axis(\"off\")"
      ],
      "metadata": {
        "colab": {
          "base_uri": "https://localhost:8080/",
          "height": 303
        },
        "id": "P3Gz-0UN4PKi",
        "outputId": "8aa7ec77-f0c4-4f30-afed-2f8cce353fbe"
      },
      "execution_count": 17,
      "outputs": [
        {
          "output_type": "stream",
          "name": "stderr",
          "text": [
            "/usr/local/lib/python3.7/dist-packages/ipykernel_launcher.py:9: MatplotlibDeprecationWarning: Adding an axes using the same arguments as a previous axes currently reuses the earlier instance.  In a future version, a new instance will always be created and returned.  Meanwhile, this warning can be suppressed, and the future behavior ensured, by passing a unique label to each axes instance.\n",
            "  if __name__ == '__main__':\n"
          ]
        },
        {
          "output_type": "display_data",
          "data": {
            "text/plain": [
              "<Figure size 432x288 with 9 Axes>"
            ],
            "image/png": "[encoded data removed]"
          },
          "metadata": {
            "needs_background": "light"
          }
        }
      ]
    },
    {
      "cell_type": "code",
      "source": [
        "(np.array(image_aug)).shape"
      ],
      "metadata": {
        "colab": {
          "base_uri": "https://localhost:8080/"
        },
        "id": "R_Rq4F8Z8hQO",
        "outputId": "a5888f44-2498-42d0-cc91-fa187fa84a87"
      },
      "execution_count": 18,
      "outputs": [
        {
          "output_type": "execute_result",
          "data": {
            "text/plain": [
              "(540, 256, 256, 3)"
            ]
          },
          "metadata": {},
          "execution_count": 18
        }
      ]
    }
  ]
}