{
  "nbformat": 4,
  "nbformat_minor": 0,
  "metadata": {
    "colab": {
      "provenance": [],
      "collapsed_sections": [],
      "include_colab_link": true
    },
    "kernelspec": {
      "name": "python3",
      "display_name": "Python 3"
    },
    "language_info": {
      "name": "python"
    },
    "accelerator": "GPU"
  },
  "cells": [
    {
      "cell_type": "markdown",
      "metadata": {
        "id": "view-in-github",
        "colab_type": "text"
      },
      "source": [
        "<a href=\"https://colab.research.google.com/github/Faouzi-Slimi/python_Avancee/blob/main/TP_DOGS_CATS.ipynb\" target=\"_parent\"><img src=\"https://colab.research.google.com/assets/colab-badge.svg\" alt=\"Open In Colab\"/></a>"
      ]
    },
    {
      "cell_type": "code",
      "execution_count": 1,
      "metadata": {
        "id": "_TsR2SAGcx4Q"
      },
      "outputs": [],
      "source": [
        "# Import Library\n",
        "import pandas as pd \n",
        "import numpy as np\n",
        "from PIL import Image\n",
        "import os\n",
        "import cv2\n",
        "import matplotlib.pyplot as plt"
      ]
    },
    {
      "cell_type": "code",
      "source": [
        "# Function to get Data \n",
        "def get_data_set (filepath) :\n",
        "  imgs=[]\n",
        "  labels=[]\n",
        "  for f in os.listdir(filepath) :\n",
        "    #if not (f.endswith('pgm')):   \n",
        "      print('reding file :' +f)\n",
        "      img=cv2.imread(filepath+'/'+f)\n",
        "      resized = cv2.resize(img,(256,256))\n",
        "      imgs.append(resized)\n",
        "      if f.split('.')[0]==\"dog\":\n",
        "        labels.append(0)\n",
        "      else:\n",
        "        labels.append(1)\n",
        "  print('reding file finished')\n",
        "  return np.asarray(imgs),labels"
      ],
      "metadata": {
        "id": "u901lH90gT02"
      },
      "execution_count": 2,
      "outputs": []
    },
    {
      "cell_type": "code",
      "source": [
        "# Connect colab To Drive\n",
        "from google.colab import drive\n",
        "drive.mount('/content/drive')"
      ],
      "metadata": {
        "id": "gAItyiww1R1O",
        "outputId": "37feb5f3-f8a7-4446-84ac-9869c94b704a",
        "colab": {
          "base_uri": "https://localhost:8080/"
        }
      },
      "execution_count": 3,
      "outputs": [
        {
          "output_type": "stream",
          "name": "stdout",
          "text": [
            "Drive already mounted at /content/drive; to attempt to forcibly remount, call drive.mount(\"/content/drive\", force_remount=True).\n"
          ]
        }
      ]
    },
    {
      "cell_type": "code",
      "source": [
        "# Get Data\n",
        "filepath=('/content/drive/MyDrive/Data/')\n",
        "imgs1,labels=get_data_set(filepath)"
      ],
      "metadata": {
        "colab": {
          "base_uri": "https://localhost:8080/"
        },
        "id": "oJQ6auXIgVOM",
        "outputId": "ac02364a-885d-4631-e9a6-f3fe9c47cb6c"
      },
      "execution_count": 4,
      "outputs": [
        {
          "output_type": "stream",
          "name": "stdout",
          "text": [
            "reding file :cat.4013.jpg\n",
            "reding file :cat.4012.jpg\n",
            "reding file :cat.4001.jpg\n",
            "reding file :cat.4028.jpg\n",
            "reding file :cat.4024.jpg\n",
            "reding file :cat.4023.jpg\n",
            "reding file :cat.4016.jpg\n",
            "reding file :cat.4034.jpg\n",
            "reding file :cat.4006.jpg\n",
            "reding file :cat.4025.jpg\n",
            "reding file :cat.4004.jpg\n",
            "reding file :cat.4015.jpg\n",
            "reding file :cat.4002.jpg\n",
            "reding file :cat.4005.jpg\n",
            "reding file :cat.4027.jpg\n",
            "reding file :cat.4026.jpg\n",
            "reding file :cat.4003.jpg\n",
            "reding file :cat.4017.jpg\n",
            "reding file :cat.4014.jpg\n",
            "reding file :dog.4037.jpg\n",
            "reding file :cat.4036.jpg\n",
            "reding file :cat.4046.jpg\n",
            "reding file :dog.4004.jpg\n",
            "reding file :cat.4035.jpg\n",
            "reding file :dog.4039.jpg\n",
            "reding file :dog.4003.jpg\n",
            "reding file :cat.4047.jpg\n",
            "reding file :dog.4036.jpg\n",
            "reding file :dog.4048.jpg\n",
            "reding file :cat.4045.jpg\n",
            "reding file :dog.4026.jpg\n",
            "reding file :dog.4016.jpg\n",
            "reding file :dog.4046.jpg\n",
            "reding file :dog.4005.jpg\n",
            "reding file :dog.4002.jpg\n",
            "reding file :dog.4006.jpg\n",
            "reding file :dog.4001.jpg\n",
            "reding file :cat.4039.jpg\n",
            "reding file :dog.4012.jpg\n",
            "reding file :dog.4014.jpg\n",
            "reding file :cat.4038.jpg\n",
            "reding file :dog.4045.jpg\n",
            "reding file :dog.4023.jpg\n",
            "reding file :dog.4024.jpg\n",
            "reding file :cat.4049.jpg\n",
            "reding file :dog.4034.jpg\n",
            "reding file :dog.4047.jpg\n",
            "reding file :dog.4038.jpg\n",
            "reding file :dog.4027.jpg\n",
            "reding file :dog.4015.jpg\n",
            "reding file :dog.4035.jpg\n",
            "reding file :dog.4017.jpg\n",
            "reding file :dog.4028.jpg\n",
            "reding file :cat.4050.jpg\n",
            "reding file :cat.4037.jpg\n",
            "reding file :cat.4048.jpg\n",
            "reding file :dog.4025.jpg\n",
            "reding file :dog.4013.jpg\n",
            "reding file :dog.4050.jpg\n",
            "reding file :dog.4049.jpg\n",
            "reding file finished\n"
          ]
        }
      ]
    },
    {
      "cell_type": "code",
      "source": [
        "# Model For imgs Rotaion and Flipping\n",
        "import tensorflow as tf\n",
        "data_augmentation = tf.keras.Sequential([\n",
        "    \n",
        "  tf.keras.layers.RandomFlip(\"horizontal_and_vertical\"),\n",
        "  tf.keras.layers.RandomRotation(0.2),\n",
        "])"
      ],
      "metadata": {
        "id": "hNhPdzFGijuo"
      },
      "execution_count": 5,
      "outputs": []
    },
    {
      "cell_type": "code",
      "source": [
        "# Generate dat\n",
        "image_aug=[]\n",
        "labels_aug = []\n",
        "for k in range(len(imgs1)):\n",
        "  i = imgs1[k]\n",
        "  for j in range(9) :\n",
        "    augmented_image = data_augmentation(i)\n",
        "    image_aug.append(augmented_image)\n",
        "    labels_aug.append(labels[k])\n",
        "   "
      ],
      "metadata": {
        "id": "P3Gz-0UN4PKi"
      },
      "execution_count": 6,
      "outputs": []
    },
    {
      "cell_type": "code",
      "source": [
        "# Concatenate old data and Generate Data\n",
        "for i in imgs1 :\n",
        "  image_aug.append(i)\n",
        "for i in labels :\n",
        "  labels_aug.append(i)  "
      ],
      "metadata": {
        "id": "R_Rq4F8Z8hQO"
      },
      "execution_count": 7,
      "outputs": []
    },
    {
      "cell_type": "code",
      "source": [
        "# Split Data\n",
        "\n",
        "from sklearn.model_selection import train_test_split\n",
        "xtrain,xtest,ytrain,ytest = train_test_split(image_aug,labels_aug,test_size=0.33)\n",
        "\n",
        "xtrain = np.array(xtrain)\n",
        "xtest = np.array(xtest)\n",
        "ytrain = np.array(ytrain)\n",
        "ytest = np.array(ytest)\n"
      ],
      "metadata": {
        "id": "pdej5LJDC9u-"
      },
      "execution_count": 8,
      "outputs": []
    },
    {
      "cell_type": "code",
      "source": [
        "# Import Library\n",
        "import keras\n",
        "from keras import layers\n",
        "from keras import Sequential\n",
        "import tensorflow as tf\n",
        "\n"
      ],
      "metadata": {
        "id": "_-jho4vADcFB"
      },
      "execution_count": 9,
      "outputs": []
    },
    {
      "cell_type": "code",
      "source": [
        "## Model 1\n",
        "\n",
        "\n",
        "# Set the random seed\n",
        "tf.random.set_seed(42)\n",
        "# Create the model\n",
        "\n",
        "model1 = Sequential()\n",
        "model1.add(layers.Conv2D(270,kernel_size=(14,14),input_shape=(256,256,3),strides =1,activation='relu'))\n",
        "model1.add(layers.MaxPooling2D(pool_size=(4,4),strides=3))\n",
        "model1.add(layers.Flatten())\n",
        "model1.add(layers.Dense(180,activation = 'relu'))\n",
        "model1.add(layers.Dense(2,activation=\"sigmoid\"))"
      ],
      "metadata": {
        "id": "iQAuH1noEACQ"
      },
      "execution_count": 10,
      "outputs": []
    },
    {
      "cell_type": "code",
      "source": [
        "\n",
        "# Compile The model\n",
        "\n",
        "model1.compile(optimizer=tf.keras.optimizers.Adam(learning_rate = 0.00001),loss=\"SparseCategoricalCrossentropy\",metrics = [\"accuracy\"])"
      ],
      "metadata": {
        "id": "Qe882QnMGkly"
      },
      "execution_count": 11,
      "outputs": []
    },
    {
      "cell_type": "code",
      "source": [
        "model1.fit(xtrain,ytrain,validation_data=(xtest,ytest),batch_size=32,epochs=50)"
      ],
      "metadata": {
        "id": "yTP0iRLhMWKe",
        "outputId": "79777ce7-c38c-43e8-9aac-f303d25ff07e",
        "colab": {
          "base_uri": "https://localhost:8080/"
        }
      },
      "execution_count": 12,
      "outputs": [
        {
          "output_type": "stream",
          "name": "stdout",
          "text": [
            "Epoch 1/50\n",
            "13/13 [==============================] - 16s 866ms/step - loss: 111.7777 - accuracy: 0.4925 - val_loss: 34.6104 - val_accuracy: 0.4697\n",
            "Epoch 2/50\n",
            "13/13 [==============================] - 9s 663ms/step - loss: 14.3473 - accuracy: 0.5249 - val_loss: 2.1286 - val_accuracy: 0.6869\n",
            "Epoch 3/50\n",
            "13/13 [==============================] - 9s 664ms/step - loss: 4.5375 - accuracy: 0.6393 - val_loss: 2.5957 - val_accuracy: 0.7020\n",
            "Epoch 4/50\n",
            "13/13 [==============================] - 9s 666ms/step - loss: 1.4924 - accuracy: 0.7836 - val_loss: 1.4190 - val_accuracy: 0.7929\n",
            "Epoch 5/50\n",
            "13/13 [==============================] - 9s 668ms/step - loss: 0.7233 - accuracy: 0.8657 - val_loss: 1.2234 - val_accuracy: 0.6970\n",
            "Epoch 6/50\n",
            "13/13 [==============================] - 9s 668ms/step - loss: 0.5532 - accuracy: 0.8756 - val_loss: 2.1117 - val_accuracy: 0.6212\n",
            "Epoch 7/50\n",
            "13/13 [==============================] - 9s 669ms/step - loss: 0.3938 - accuracy: 0.9055 - val_loss: 0.7777 - val_accuracy: 0.7677\n",
            "Epoch 8/50\n",
            "13/13 [==============================] - 9s 670ms/step - loss: 0.1010 - accuracy: 0.9602 - val_loss: 0.6450 - val_accuracy: 0.8030\n",
            "Epoch 9/50\n",
            "13/13 [==============================] - 9s 671ms/step - loss: 0.0623 - accuracy: 0.9801 - val_loss: 0.5387 - val_accuracy: 0.8333\n",
            "Epoch 10/50\n",
            "13/13 [==============================] - 9s 674ms/step - loss: 0.0261 - accuracy: 0.9925 - val_loss: 0.6031 - val_accuracy: 0.8232\n",
            "Epoch 11/50\n",
            "13/13 [==============================] - 9s 672ms/step - loss: 0.0111 - accuracy: 0.9975 - val_loss: 0.5666 - val_accuracy: 0.8283\n",
            "Epoch 12/50\n",
            "13/13 [==============================] - 9s 674ms/step - loss: 0.0057 - accuracy: 1.0000 - val_loss: 0.5578 - val_accuracy: 0.8384\n",
            "Epoch 13/50\n",
            "13/13 [==============================] - 9s 675ms/step - loss: 0.0044 - accuracy: 1.0000 - val_loss: 0.5472 - val_accuracy: 0.8333\n",
            "Epoch 14/50\n",
            "13/13 [==============================] - 9s 674ms/step - loss: 0.0038 - accuracy: 1.0000 - val_loss: 0.5441 - val_accuracy: 0.8333\n",
            "Epoch 15/50\n",
            "13/13 [==============================] - 9s 675ms/step - loss: 0.0032 - accuracy: 1.0000 - val_loss: 0.5474 - val_accuracy: 0.8485\n",
            "Epoch 16/50\n",
            "13/13 [==============================] - 9s 676ms/step - loss: 0.0029 - accuracy: 1.0000 - val_loss: 0.5459 - val_accuracy: 0.8485\n",
            "Epoch 17/50\n",
            "13/13 [==============================] - 9s 675ms/step - loss: 0.0025 - accuracy: 1.0000 - val_loss: 0.5483 - val_accuracy: 0.8485\n",
            "Epoch 18/50\n",
            "13/13 [==============================] - 9s 677ms/step - loss: 0.0023 - accuracy: 1.0000 - val_loss: 0.5483 - val_accuracy: 0.8434\n",
            "Epoch 19/50\n",
            "13/13 [==============================] - 9s 679ms/step - loss: 0.0021 - accuracy: 1.0000 - val_loss: 0.5484 - val_accuracy: 0.8384\n",
            "Epoch 20/50\n",
            "13/13 [==============================] - 9s 677ms/step - loss: 0.0018 - accuracy: 1.0000 - val_loss: 0.5552 - val_accuracy: 0.8434\n",
            "Epoch 21/50\n",
            "13/13 [==============================] - 9s 684ms/step - loss: 0.0017 - accuracy: 1.0000 - val_loss: 0.5568 - val_accuracy: 0.8434\n",
            "Epoch 22/50\n",
            "13/13 [==============================] - 9s 680ms/step - loss: 0.0015 - accuracy: 1.0000 - val_loss: 0.5561 - val_accuracy: 0.8434\n",
            "Epoch 23/50\n",
            "13/13 [==============================] - 9s 679ms/step - loss: 0.0014 - accuracy: 1.0000 - val_loss: 0.5576 - val_accuracy: 0.8384\n",
            "Epoch 24/50\n",
            "13/13 [==============================] - 9s 680ms/step - loss: 0.0012 - accuracy: 1.0000 - val_loss: 0.5620 - val_accuracy: 0.8333\n",
            "Epoch 25/50\n",
            "13/13 [==============================] - 9s 679ms/step - loss: 0.0011 - accuracy: 1.0000 - val_loss: 0.5631 - val_accuracy: 0.8283\n",
            "Epoch 26/50\n",
            "13/13 [==============================] - 9s 680ms/step - loss: 0.0010 - accuracy: 1.0000 - val_loss: 0.5675 - val_accuracy: 0.8333\n",
            "Epoch 27/50\n",
            "13/13 [==============================] - 9s 679ms/step - loss: 9.2119e-04 - accuracy: 1.0000 - val_loss: 0.5671 - val_accuracy: 0.8283\n",
            "Epoch 28/50\n",
            "13/13 [==============================] - 9s 680ms/step - loss: 8.0983e-04 - accuracy: 1.0000 - val_loss: 0.5701 - val_accuracy: 0.8283\n",
            "Epoch 29/50\n",
            "13/13 [==============================] - 9s 681ms/step - loss: 7.3181e-04 - accuracy: 1.0000 - val_loss: 0.5720 - val_accuracy: 0.8333\n",
            "Epoch 30/50\n",
            "13/13 [==============================] - 9s 682ms/step - loss: 6.5087e-04 - accuracy: 1.0000 - val_loss: 0.5745 - val_accuracy: 0.8333\n",
            "Epoch 31/50\n",
            "13/13 [==============================] - 9s 686ms/step - loss: 6.0583e-04 - accuracy: 1.0000 - val_loss: 0.5771 - val_accuracy: 0.8384\n",
            "Epoch 32/50\n",
            "13/13 [==============================] - 9s 680ms/step - loss: 5.2421e-04 - accuracy: 1.0000 - val_loss: 0.5833 - val_accuracy: 0.8384\n",
            "Epoch 33/50\n",
            "13/13 [==============================] - 9s 679ms/step - loss: 4.7679e-04 - accuracy: 1.0000 - val_loss: 0.5867 - val_accuracy: 0.8485\n",
            "Epoch 34/50\n",
            "13/13 [==============================] - 9s 681ms/step - loss: 4.2999e-04 - accuracy: 1.0000 - val_loss: 0.5844 - val_accuracy: 0.8485\n",
            "Epoch 35/50\n",
            "13/13 [==============================] - 9s 681ms/step - loss: 3.9887e-04 - accuracy: 1.0000 - val_loss: 0.5876 - val_accuracy: 0.8485\n",
            "Epoch 36/50\n",
            "13/13 [==============================] - 9s 682ms/step - loss: 3.7640e-04 - accuracy: 1.0000 - val_loss: 0.5823 - val_accuracy: 0.8333\n",
            "Epoch 37/50\n",
            "13/13 [==============================] - 9s 682ms/step - loss: 3.2607e-04 - accuracy: 1.0000 - val_loss: 0.5905 - val_accuracy: 0.8485\n",
            "Epoch 38/50\n",
            "13/13 [==============================] - 9s 680ms/step - loss: 2.9014e-04 - accuracy: 1.0000 - val_loss: 0.5950 - val_accuracy: 0.8434\n",
            "Epoch 39/50\n",
            "13/13 [==============================] - 9s 681ms/step - loss: 2.6999e-04 - accuracy: 1.0000 - val_loss: 0.6008 - val_accuracy: 0.8434\n",
            "Epoch 40/50\n",
            "13/13 [==============================] - 9s 680ms/step - loss: 2.5321e-04 - accuracy: 1.0000 - val_loss: 0.6031 - val_accuracy: 0.8384\n",
            "Epoch 41/50\n",
            "13/13 [==============================] - 9s 680ms/step - loss: 2.3182e-04 - accuracy: 1.0000 - val_loss: 0.6095 - val_accuracy: 0.8434\n",
            "Epoch 42/50\n",
            "13/13 [==============================] - 9s 682ms/step - loss: 2.1603e-04 - accuracy: 1.0000 - val_loss: 0.6174 - val_accuracy: 0.8384\n",
            "Epoch 43/50\n",
            "13/13 [==============================] - 9s 681ms/step - loss: 2.0229e-04 - accuracy: 1.0000 - val_loss: 0.6239 - val_accuracy: 0.8384\n",
            "Epoch 44/50\n",
            "13/13 [==============================] - 9s 682ms/step - loss: 1.8612e-04 - accuracy: 1.0000 - val_loss: 0.6320 - val_accuracy: 0.8434\n",
            "Epoch 45/50\n",
            "13/13 [==============================] - 9s 681ms/step - loss: 1.7297e-04 - accuracy: 1.0000 - val_loss: 0.6357 - val_accuracy: 0.8384\n",
            "Epoch 46/50\n",
            "13/13 [==============================] - 9s 682ms/step - loss: 1.6385e-04 - accuracy: 1.0000 - val_loss: 0.6451 - val_accuracy: 0.8434\n",
            "Epoch 47/50\n",
            "13/13 [==============================] - 9s 682ms/step - loss: 1.4869e-04 - accuracy: 1.0000 - val_loss: 0.6470 - val_accuracy: 0.8434\n",
            "Epoch 48/50\n",
            "13/13 [==============================] - 9s 682ms/step - loss: 1.3567e-04 - accuracy: 1.0000 - val_loss: 0.6489 - val_accuracy: 0.8384\n",
            "Epoch 49/50\n",
            "13/13 [==============================] - 9s 680ms/step - loss: 1.2129e-04 - accuracy: 1.0000 - val_loss: 0.6539 - val_accuracy: 0.8384\n",
            "Epoch 50/50\n",
            "13/13 [==============================] - 9s 682ms/step - loss: 1.1314e-04 - accuracy: 1.0000 - val_loss: 0.6511 - val_accuracy: 0.8434\n"
          ]
        },
        {
          "output_type": "execute_result",
          "data": {
            "text/plain": [
              "<keras.callbacks.History at 0x7f20fe982a50>"
            ]
          },
          "metadata": {},
          "execution_count": 12
        }
      ]
    },
    {
      "cell_type": "code",
      "source": [
        "model1.summary()"
      ],
      "metadata": {
        "id": "B8q__0gHaMsT",
        "outputId": "faebbcc3-6e72-42a9-99b4-76b4b366d744",
        "colab": {
          "base_uri": "https://localhost:8080/"
        }
      },
      "execution_count": 13,
      "outputs": [
        {
          "output_type": "stream",
          "name": "stdout",
          "text": [
            "Model: \"sequential_1\"\n",
            "_________________________________________________________________\n",
            " Layer (type)                Output Shape              Param #   \n",
            "=================================================================\n",
            " conv2d (Conv2D)             (None, 243, 243, 270)     159030    \n",
            "                                                                 \n",
            " max_pooling2d (MaxPooling2D  (None, 80, 80, 270)      0         \n",
            " )                                                               \n",
            "                                                                 \n",
            " flatten (Flatten)           (None, 1728000)           0         \n",
            "                                                                 \n",
            " dense (Dense)               (None, 180)               311040180 \n",
            "                                                                 \n",
            " dense_1 (Dense)             (None, 2)                 362       \n",
            "                                                                 \n",
            "=================================================================\n",
            "Total params: 311,199,572\n",
            "Trainable params: 311,199,572\n",
            "Non-trainable params: 0\n",
            "_________________________________________________________________\n"
          ]
        }
      ]
    }
  ]
}