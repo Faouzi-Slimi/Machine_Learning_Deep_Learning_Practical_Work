{
  "nbformat": 4,
  "nbformat_minor": 0,
  "metadata": {
    "colab": {
      "provenance": [],
      "collapsed_sections": [],
      "include_colab_link": true
    },
    "kernelspec": {
      "name": "python3",
      "display_name": "Python 3"
    },
    "language_info": {
      "name": "python"
    },
    "accelerator": "GPU"
  },
  "cells": [
    {
      "cell_type": "markdown",
      "metadata": {
        "id": "view-in-github",
        "colab_type": "text"
      },
      "source": [
        "<a href=\"https://colab.research.google.com/github/Faouzi-Slimi/python_Avancee/blob/main/TP_DOGS_CATS.ipynb\" target=\"_parent\"><img src=\"https://colab.research.google.com/assets/colab-badge.svg\" alt=\"Open In Colab\"/></a>"
      ]
    },
    {
      "cell_type": "code",
      "execution_count": 1,
      "metadata": {
        "id": "_TsR2SAGcx4Q"
      },
      "outputs": [],
      "source": [
        "# Import Library\n",
        "import pandas as pd \n",
        "import numpy as np\n",
        "from PIL import Image\n",
        "import os\n",
        "import cv2\n",
        "import matplotlib.pyplot as plt"
      ]
    },
    {
      "cell_type": "code",
      "source": [
        "# Function to get Data \n",
        "def get_data_set (filepath) :\n",
        "  imgs=[]\n",
        "  labels=[]\n",
        "  for f in os.listdir(filepath) :\n",
        "    #if not (f.endswith('pgm')):   \n",
        "      print('reding file :' +f)\n",
        "      img=cv2.imread(filepath+'/'+f)\n",
        "      resized = cv2.resize(img,(256,256))\n",
        "      imgs.append(resized)\n",
        "      if f.split('.')[0]==\"dog\":\n",
        "        labels.append(0)\n",
        "      else:\n",
        "        labels.append(1)\n",
        "  print('reding file finished')\n",
        "  return np.asarray(imgs),labels"
      ],
      "metadata": {
        "id": "u901lH90gT02"
      },
      "execution_count": 2,
      "outputs": []
    },
    {
      "cell_type": "code",
      "source": [
        "# Connect colab To Drive\n",
        "from google.colab import drive\n",
        "drive.mount('/content/drive')"
      ],
      "metadata": {
        "id": "gAItyiww1R1O",
        "outputId": "7518517c-9515-4b72-c146-18bb0a3f61a0",
        "colab": {
          "base_uri": "https://localhost:8080/"
        }
      },
      "execution_count": 3,
      "outputs": [
        {
          "output_type": "stream",
          "name": "stdout",
          "text": [
            "Drive already mounted at /content/drive; to attempt to forcibly remount, call drive.mount(\"/content/drive\", force_remount=True).\n"
          ]
        }
      ]
    },
    {
      "cell_type": "code",
      "source": [
        "# Get Data\n",
        "filepath=('/content/drive/MyDrive/Data/')\n",
        "imgs1,labels=get_data_set(filepath)"
      ],
      "metadata": {
        "colab": {
          "base_uri": "https://localhost:8080/"
        },
        "id": "oJQ6auXIgVOM",
        "outputId": "b3a35764-3ec1-42d6-f2ef-bd93293ebaf4"
      },
      "execution_count": 4,
      "outputs": [
        {
          "output_type": "stream",
          "name": "stdout",
          "text": [
            "reding file :cat.4013.jpg\n",
            "reding file :cat.4012.jpg\n",
            "reding file :cat.4001.jpg\n",
            "reding file :cat.4028.jpg\n",
            "reding file :cat.4024.jpg\n",
            "reding file :cat.4023.jpg\n",
            "reding file :cat.4016.jpg\n",
            "reding file :cat.4034.jpg\n",
            "reding file :cat.4006.jpg\n",
            "reding file :cat.4025.jpg\n",
            "reding file :cat.4004.jpg\n",
            "reding file :cat.4015.jpg\n",
            "reding file :cat.4002.jpg\n",
            "reding file :cat.4005.jpg\n",
            "reding file :cat.4027.jpg\n",
            "reding file :cat.4026.jpg\n",
            "reding file :cat.4003.jpg\n",
            "reding file :cat.4017.jpg\n",
            "reding file :cat.4014.jpg\n",
            "reding file :dog.4037.jpg\n",
            "reding file :cat.4036.jpg\n",
            "reding file :cat.4046.jpg\n",
            "reding file :dog.4004.jpg\n",
            "reding file :cat.4035.jpg\n",
            "reding file :dog.4039.jpg\n",
            "reding file :dog.4003.jpg\n",
            "reding file :cat.4047.jpg\n",
            "reding file :dog.4036.jpg\n",
            "reding file :dog.4048.jpg\n",
            "reding file :cat.4045.jpg\n",
            "reding file :dog.4026.jpg\n",
            "reding file :dog.4016.jpg\n",
            "reding file :dog.4046.jpg\n",
            "reding file :dog.4005.jpg\n",
            "reding file :dog.4002.jpg\n",
            "reding file :dog.4006.jpg\n",
            "reding file :dog.4001.jpg\n",
            "reding file :cat.4039.jpg\n",
            "reding file :dog.4012.jpg\n",
            "reding file :dog.4014.jpg\n",
            "reding file :cat.4038.jpg\n",
            "reding file :dog.4045.jpg\n",
            "reding file :dog.4023.jpg\n",
            "reding file :dog.4024.jpg\n",
            "reding file :cat.4049.jpg\n",
            "reding file :dog.4034.jpg\n",
            "reding file :dog.4047.jpg\n",
            "reding file :dog.4038.jpg\n",
            "reding file :dog.4027.jpg\n",
            "reding file :dog.4015.jpg\n",
            "reding file :dog.4035.jpg\n",
            "reding file :dog.4017.jpg\n",
            "reding file :dog.4028.jpg\n",
            "reding file :cat.4050.jpg\n",
            "reding file :cat.4037.jpg\n",
            "reding file :cat.4048.jpg\n",
            "reding file :dog.4025.jpg\n",
            "reding file :dog.4013.jpg\n",
            "reding file :dog.4050.jpg\n",
            "reding file :dog.4049.jpg\n",
            "reding file finished\n"
          ]
        }
      ]
    },
    {
      "cell_type": "code",
      "source": [
        "# Model For imgs Rotaion and Flipping\n",
        "import tensorflow as tf\n",
        "data_augmentation = tf.keras.Sequential([\n",
        "    \n",
        "  tf.keras.layers.RandomFlip(\"horizontal_and_vertical\"),\n",
        "  tf.keras.layers.RandomRotation(0.2),\n",
        "])"
      ],
      "metadata": {
        "id": "hNhPdzFGijuo"
      },
      "execution_count": 5,
      "outputs": []
    },
    {
      "cell_type": "code",
      "source": [
        "# Generate dat\n",
        "image_aug=[]\n",
        "labels_aug = []\n",
        "for k in range(len(imgs1)):\n",
        "  i = imgs1[k]\n",
        "  for j in range(9) :\n",
        "    augmented_image = data_augmentation(i)\n",
        "    image_aug.append(augmented_image)\n",
        "    labels_aug.append(labels[k])\n",
        "   "
      ],
      "metadata": {
        "id": "P3Gz-0UN4PKi"
      },
      "execution_count": 6,
      "outputs": []
    },
    {
      "cell_type": "code",
      "source": [
        "# Concatenate old data and Generate Data\n",
        "for i in imgs1 :\n",
        "  image_aug.append(i)\n",
        "for i in labels :\n",
        "  labels_aug.append(i)  "
      ],
      "metadata": {
        "id": "R_Rq4F8Z8hQO"
      },
      "execution_count": 7,
      "outputs": []
    },
    {
      "cell_type": "code",
      "source": [
        "# Split Data\n",
        "\n",
        "from sklearn.model_selection import train_test_split\n",
        "xtrain,xtest,ytrain,ytest = train_test_split(image_aug,labels_aug,test_size=0.33)\n",
        "\n",
        "xtrain = np.array(xtrain)\n",
        "xtest = np.array(xtest)\n",
        "ytrain = np.array(ytrain)\n",
        "ytest = np.array(ytest)\n"
      ],
      "metadata": {
        "id": "pdej5LJDC9u-"
      },
      "execution_count": 8,
      "outputs": []
    },
    {
      "cell_type": "code",
      "source": [
        "# Import Library\n",
        "import keras\n",
        "from keras import layers\n",
        "from keras import Sequential\n",
        "import tensorflow as tf\n",
        "\n",
        "\n"
      ],
      "metadata": {
        "id": "_-jho4vADcFB"
      },
      "execution_count": 9,
      "outputs": []
    },
    {
      "cell_type": "code",
      "source": [
        "## Model 1\n",
        "\n",
        "\n",
        "# Set the random seed\n",
        "tf.random.set_seed(42)\n",
        "# Create the model\n",
        "\n",
        "model1 = Sequential()\n",
        "model1.add(layers.Conv2D(270,kernel_size=(14,14),input_shape=(256,256,3),strides =1,activation='relu'))\n",
        "model1.add(layers.MaxPooling2D(pool_size=(4,4),strides=3))\n",
        "model1.add(layers.Flatten())\n",
        "model1.add(layers.Dense(180,activation = 'relu'))\n",
        "model1.add(layers.Dense(1,activation=\"sigmoid\"))"
      ],
      "metadata": {
        "id": "iQAuH1noEACQ"
      },
      "execution_count": 10,
      "outputs": []
    },
    {
      "cell_type": "code",
      "source": [
        "\n",
        "# Compile The model\n",
        "\n",
        "model1.compile(optimizer=tf.keras.optimizers.Adam(learning_rate = 0.00001),loss=tf.keras.losses.BinaryCrossentropy(),metrics = [\"accuracy\"])"
      ],
      "metadata": {
        "id": "Qe882QnMGkly"
      },
      "execution_count": 11,
      "outputs": []
    },
    {
      "cell_type": "code",
      "source": [
        "History = model1.fit(xtrain,ytrain,validation_data=(xtest,ytest),batch_size=32,epochs=19)"
      ],
      "metadata": {
        "id": "yTP0iRLhMWKe",
        "outputId": "6f6ce2e1-cf30-4fbe-f83a-765b86c6da50",
        "colab": {
          "base_uri": "https://localhost:8080/"
        }
      },
      "execution_count": 12,
      "outputs": [
        {
          "output_type": "stream",
          "name": "stdout",
          "text": [
            "Epoch 1/19\n",
            "13/13 [==============================] - 18s 913ms/step - loss: 65.1187 - accuracy: 0.5721 - val_loss: 4.2468 - val_accuracy: 0.7374\n",
            "Epoch 2/19\n",
            "13/13 [==============================] - 9s 693ms/step - loss: 4.1247 - accuracy: 0.7463 - val_loss: 5.3635 - val_accuracy: 0.6970\n",
            "Epoch 3/19\n",
            "13/13 [==============================] - 9s 699ms/step - loss: 4.2937 - accuracy: 0.7761 - val_loss: 6.0682 - val_accuracy: 0.6919\n",
            "Epoch 4/19\n",
            "13/13 [==============================] - 9s 705ms/step - loss: 1.6251 - accuracy: 0.8731 - val_loss: 2.3261 - val_accuracy: 0.8232\n",
            "Epoch 5/19\n",
            "13/13 [==============================] - 9s 701ms/step - loss: 0.4259 - accuracy: 0.9478 - val_loss: 2.3581 - val_accuracy: 0.7980\n",
            "Epoch 6/19\n",
            "13/13 [==============================] - 9s 695ms/step - loss: 0.2407 - accuracy: 0.9552 - val_loss: 2.0991 - val_accuracy: 0.7879\n",
            "Epoch 7/19\n",
            "13/13 [==============================] - 9s 689ms/step - loss: 0.1828 - accuracy: 0.9652 - val_loss: 1.6545 - val_accuracy: 0.8182\n",
            "Epoch 8/19\n",
            "13/13 [==============================] - 9s 692ms/step - loss: 0.1279 - accuracy: 0.9726 - val_loss: 2.0774 - val_accuracy: 0.7980\n",
            "Epoch 9/19\n",
            "13/13 [==============================] - 9s 687ms/step - loss: 0.2126 - accuracy: 0.9602 - val_loss: 1.9521 - val_accuracy: 0.8081\n",
            "Epoch 10/19\n",
            "13/13 [==============================] - 9s 687ms/step - loss: 0.0017 - accuracy: 1.0000 - val_loss: 1.7846 - val_accuracy: 0.8131\n",
            "Epoch 11/19\n",
            "13/13 [==============================] - 9s 691ms/step - loss: 1.0395e-04 - accuracy: 1.0000 - val_loss: 1.5718 - val_accuracy: 0.8232\n",
            "Epoch 12/19\n",
            "13/13 [==============================] - 9s 693ms/step - loss: 2.0895e-04 - accuracy: 1.0000 - val_loss: 1.5809 - val_accuracy: 0.8232\n",
            "Epoch 13/19\n",
            "13/13 [==============================] - 9s 692ms/step - loss: 5.1178e-05 - accuracy: 1.0000 - val_loss: 1.5587 - val_accuracy: 0.8333\n",
            "Epoch 14/19\n",
            "13/13 [==============================] - 9s 692ms/step - loss: 1.4803e-05 - accuracy: 1.0000 - val_loss: 1.5557 - val_accuracy: 0.8384\n",
            "Epoch 15/19\n",
            "13/13 [==============================] - 9s 695ms/step - loss: 1.1652e-05 - accuracy: 1.0000 - val_loss: 1.5552 - val_accuracy: 0.8384\n",
            "Epoch 16/19\n",
            "13/13 [==============================] - 9s 692ms/step - loss: 1.1263e-05 - accuracy: 1.0000 - val_loss: 1.5551 - val_accuracy: 0.8283\n",
            "Epoch 17/19\n",
            "13/13 [==============================] - 9s 693ms/step - loss: 1.0144e-05 - accuracy: 1.0000 - val_loss: 1.5551 - val_accuracy: 0.8283\n",
            "Epoch 18/19\n",
            "13/13 [==============================] - 9s 690ms/step - loss: 9.8811e-06 - accuracy: 1.0000 - val_loss: 1.5552 - val_accuracy: 0.8283\n",
            "Epoch 19/19\n",
            "13/13 [==============================] - 9s 689ms/step - loss: 9.6900e-06 - accuracy: 1.0000 - val_loss: 1.5552 - val_accuracy: 0.8283\n"
          ]
        }
      ]
    },
    {
      "cell_type": "code",
      "source": [
        "model1.summary()"
      ],
      "metadata": {
        "id": "B8q__0gHaMsT",
        "outputId": "43b81aca-84d7-4828-a2db-1b85d63dedb3",
        "colab": {
          "base_uri": "https://localhost:8080/"
        }
      },
      "execution_count": 13,
      "outputs": [
        {
          "output_type": "stream",
          "name": "stdout",
          "text": [
            "Model: \"sequential_1\"\n",
            "_________________________________________________________________\n",
            " Layer (type)                Output Shape              Param #   \n",
            "=================================================================\n",
            " conv2d (Conv2D)             (None, 243, 243, 270)     159030    \n",
            "                                                                 \n",
            " max_pooling2d (MaxPooling2D  (None, 80, 80, 270)      0         \n",
            " )                                                               \n",
            "                                                                 \n",
            " flatten (Flatten)           (None, 1728000)           0         \n",
            "                                                                 \n",
            " dense (Dense)               (None, 180)               311040180 \n",
            "                                                                 \n",
            " dense_1 (Dense)             (None, 1)                 181       \n",
            "                                                                 \n",
            "=================================================================\n",
            "Total params: 311,199,391\n",
            "Trainable params: 311,199,391\n",
            "Non-trainable params: 0\n",
            "_________________________________________________________________\n"
          ]
        }
      ]
    },
    {
      "cell_type": "code",
      "source": [
        "# Plot accuracy, loss ,  val_accuracy and val_los\n",
        "import matplotlib.pyplot as plt\n",
        "## Accuracy and val_accuracy\n",
        "plt.plot(History.history['accuracy'])\n",
        "plt.plot(History.history['val_accuracy'])\n",
        "plt.title('Model Accuracy')\n",
        "plt.ylabel('Accuracy')\n",
        "plt.xlabel('epoch')\n",
        "plt.legend(['train', 'val'], loc='upper left')\n",
        "plt.show()"
      ],
      "metadata": {
        "id": "-2oZuLa9dsj7",
        "outputId": "0b9e8351-aa7a-41f6-81d7-0e8d7a58c9e0",
        "colab": {
          "base_uri": "https://localhost:8080/",
          "height": 295
        }
      },
      "execution_count": 14,
      "outputs": [
        {
          "output_type": "display_data",
          "data": {
            "text/plain": [
              "<Figure size 432x288 with 1 Axes>"
            ],
            "image/png": "[encoded data removed]"
          },
          "metadata": {
            "needs_background": "light"
          }
        }
      ]
    },
    {
      "cell_type": "code",
      "source": [
        "## loss and val_loss\n",
        "plt.plot(History.history['loss'])\n",
        "plt.plot(History.history['val_loss'])\n",
        "plt.title('model loss')\n",
        "plt.ylabel('loss')\n",
        "plt.xlabel('epoch')\n",
        "plt.legend(['train', 'val'], loc='upper left')\n",
        "plt.show()"
      ],
      "metadata": {
        "id": "-YbHq2nEdvOF",
        "outputId": "cf77f110-e419-4346-9556-1d6cee66f55f",
        "colab": {
          "base_uri": "https://localhost:8080/",
          "height": 295
        }
      },
      "execution_count": 15,
      "outputs": [
        {
          "output_type": "display_data",
          "data": {
            "text/plain": [
              "<Figure size 432x288 with 1 Axes>"
            ],
            "image/png": "[encoded data removed]"
          },
          "metadata": {
            "needs_background": "light"
          }
        }
      ]
    },
    {
      "cell_type": "code",
      "source": [
        "####### Predict data\n",
        "#### import data\n",
        "cats = cv2.imread(\"/content/drive/MyDrive/cats.jpg\")\n",
        "dogs = cv2.imread(\"/content/drive/MyDrive/dogs.jpg\")\n",
        "catsdogs = cv2.imread(\"/content/drive/MyDrive/catsgogs.jpg\")\n"
      ],
      "metadata": {
        "id": "Kouynnwwhcn-"
      },
      "execution_count": 16,
      "outputs": []
    },
    {
      "cell_type": "code",
      "source": [
        "# resize imgs\n",
        "\n",
        "cats1 = cv2.resize(cats,(256,256))\n",
        "dogs1 = cv2.resize(dogs,(256,256))\n",
        "catsdogs1 = cv2.resize(catsdogs,(256,256))\n",
        "\n"
      ],
      "metadata": {
        "id": "6M-HQUIViIQ9"
      },
      "execution_count": 17,
      "outputs": []
    },
    {
      "cell_type": "code",
      "source": [
        "cats1.shape"
      ],
      "metadata": {
        "id": "0cSrgRZLkE1c",
        "outputId": "c1a01e2f-f150-4ddc-a92f-4aae23013e4c",
        "colab": {
          "base_uri": "https://localhost:8080/"
        }
      },
      "execution_count": 21,
      "outputs": [
        {
          "output_type": "execute_result",
          "data": {
            "text/plain": [
              "(256, 256, 3)"
            ]
          },
          "metadata": {},
          "execution_count": 21
        }
      ]
    },
    {
      "cell_type": "code",
      "source": [
        "# Prediction\n",
        "\n",
        "model1.predict(np.array(cats1))"
      ],
      "metadata": {
        "id": "LjwQj8Agid8C",
        "outputId": "24e1ddc4-63de-45e7-887d-bb51609126b1",
        "colab": {
          "base_uri": "https://localhost:8080/",
          "height": 606
        }
      },
      "execution_count": 20,
      "outputs": [
        {
          "output_type": "error",
          "ename": "ValueError",
          "evalue": "ignored",
          "traceback": [
            "\u001b[0;31m---------------------------------------------------------------------------\u001b[0m",
            "\u001b[0;31mValueError\u001b[0m                                Traceback (most recent call last)",
            "\u001b[0;32m<ipython-input-20-55ed89839045>\u001b[0m in \u001b[0;36m<module>\u001b[0;34m\u001b[0m\n\u001b[1;32m      1\u001b[0m \u001b[0;31m# Prediction\u001b[0m\u001b[0;34m\u001b[0m\u001b[0;34m\u001b[0m\u001b[0;34m\u001b[0m\u001b[0m\n\u001b[1;32m      2\u001b[0m \u001b[0;34m\u001b[0m\u001b[0m\n\u001b[0;32m----> 3\u001b[0;31m \u001b[0mmodel1\u001b[0m\u001b[0;34m.\u001b[0m\u001b[0mpredict\u001b[0m\u001b[0;34m(\u001b[0m\u001b[0mnp\u001b[0m\u001b[0;34m.\u001b[0m\u001b[0marray\u001b[0m\u001b[0;34m(\u001b[0m\u001b[0mcats1\u001b[0m\u001b[0;34m)\u001b[0m\u001b[0;34m)\u001b[0m\u001b[0;34m\u001b[0m\u001b[0;34m\u001b[0m\u001b[0m\n\u001b[0m",
            "\u001b[0;32m/usr/local/lib/python3.7/dist-packages/keras/utils/traceback_utils.py\u001b[0m in \u001b[0;36merror_handler\u001b[0;34m(*args, **kwargs)\u001b[0m\n\u001b[1;32m     65\u001b[0m     \u001b[0;32mexcept\u001b[0m \u001b[0mException\u001b[0m \u001b[0;32mas\u001b[0m \u001b[0me\u001b[0m\u001b[0;34m:\u001b[0m  \u001b[0;31m# pylint: disable=broad-except\u001b[0m\u001b[0;34m\u001b[0m\u001b[0;34m\u001b[0m\u001b[0m\n\u001b[1;32m     66\u001b[0m       \u001b[0mfiltered_tb\u001b[0m \u001b[0;34m=\u001b[0m \u001b[0m_process_traceback_frames\u001b[0m\u001b[0;34m(\u001b[0m\u001b[0me\u001b[0m\u001b[0;34m.\u001b[0m\u001b[0m__traceback__\u001b[0m\u001b[0;34m)\u001b[0m\u001b[0;34m\u001b[0m\u001b[0;34m\u001b[0m\u001b[0m\n\u001b[0;32m---> 67\u001b[0;31m       \u001b[0;32mraise\u001b[0m \u001b[0me\u001b[0m\u001b[0;34m.\u001b[0m\u001b[0mwith_traceback\u001b[0m\u001b[0;34m(\u001b[0m\u001b[0mfiltered_tb\u001b[0m\u001b[0;34m)\u001b[0m \u001b[0;32mfrom\u001b[0m \u001b[0;32mNone\u001b[0m\u001b[0;34m\u001b[0m\u001b[0;34m\u001b[0m\u001b[0m\n\u001b[0m\u001b[1;32m     68\u001b[0m     \u001b[0;32mfinally\u001b[0m\u001b[0;34m:\u001b[0m\u001b[0;34m\u001b[0m\u001b[0;34m\u001b[0m\u001b[0m\n\u001b[1;32m     69\u001b[0m       \u001b[0;32mdel\u001b[0m \u001b[0mfiltered_tb\u001b[0m\u001b[0;34m\u001b[0m\u001b[0;34m\u001b[0m\u001b[0m\n",
            "\u001b[0;32m/usr/local/lib/python3.7/dist-packages/tensorflow/python/framework/func_graph.py\u001b[0m in \u001b[0;36mautograph_handler\u001b[0;34m(*args, **kwargs)\u001b[0m\n\u001b[1;32m   1145\u001b[0m           \u001b[0;32mexcept\u001b[0m \u001b[0mException\u001b[0m \u001b[0;32mas\u001b[0m \u001b[0me\u001b[0m\u001b[0;34m:\u001b[0m  \u001b[0;31m# pylint:disable=broad-except\u001b[0m\u001b[0;34m\u001b[0m\u001b[0;34m\u001b[0m\u001b[0m\n\u001b[1;32m   1146\u001b[0m             \u001b[0;32mif\u001b[0m \u001b[0mhasattr\u001b[0m\u001b[0;34m(\u001b[0m\u001b[0me\u001b[0m\u001b[0;34m,\u001b[0m \u001b[0;34m\"ag_error_metadata\"\u001b[0m\u001b[0;34m)\u001b[0m\u001b[0;34m:\u001b[0m\u001b[0;34m\u001b[0m\u001b[0;34m\u001b[0m\u001b[0m\n\u001b[0;32m-> 1147\u001b[0;31m               \u001b[0;32mraise\u001b[0m \u001b[0me\u001b[0m\u001b[0;34m.\u001b[0m\u001b[0mag_error_metadata\u001b[0m\u001b[0;34m.\u001b[0m\u001b[0mto_exception\u001b[0m\u001b[0;34m(\u001b[0m\u001b[0me\u001b[0m\u001b[0;34m)\u001b[0m\u001b[0;34m\u001b[0m\u001b[0;34m\u001b[0m\u001b[0m\n\u001b[0m\u001b[1;32m   1148\u001b[0m             \u001b[0;32melse\u001b[0m\u001b[0;34m:\u001b[0m\u001b[0;34m\u001b[0m\u001b[0;34m\u001b[0m\u001b[0m\n\u001b[1;32m   1149\u001b[0m               \u001b[0;32mraise\u001b[0m\u001b[0;34m\u001b[0m\u001b[0;34m\u001b[0m\u001b[0m\n",
            "\u001b[0;31mValueError\u001b[0m: in user code:\n\n    File \"/usr/local/lib/python3.7/dist-packages/keras/engine/training.py\", line 1801, in predict_function  *\n        return step_function(self, iterator)\n    File \"/usr/local/lib/python3.7/dist-packages/keras/engine/training.py\", line 1790, in step_function  **\n        outputs = model.distribute_strategy.run(run_step, args=(data,))\n    File \"/usr/local/lib/python3.7/dist-packages/keras/engine/training.py\", line 1783, in run_step  **\n        outputs = model.predict_step(data)\n    File \"/usr/local/lib/python3.7/dist-packages/keras/engine/training.py\", line 1751, in predict_step\n        return self(x, training=False)\n    File \"/usr/local/lib/python3.7/dist-packages/keras/utils/traceback_utils.py\", line 67, in error_handler\n        raise e.with_traceback(filtered_tb) from None\n    File \"/usr/local/lib/python3.7/dist-packages/keras/engine/input_spec.py\", line 264, in assert_input_compatibility\n        raise ValueError(f'Input {input_index} of layer \"{layer_name}\" is '\n\n    ValueError: Input 0 of layer \"sequential_1\" is incompatible with the layer: expected shape=(None, 256, 256, 3), found shape=(32, 256, 3)\n"
          ]
        }
      ]
    }
  ]
}