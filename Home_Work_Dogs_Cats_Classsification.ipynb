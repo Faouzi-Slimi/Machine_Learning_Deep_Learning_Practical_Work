{
  "nbformat": 4,
  "nbformat_minor": 0,
  "metadata": {
    "colab": {
      "private_outputs": true,
      "provenance": [],
      "mount_file_id": "1Kld4VXplFBF_JBotig5Xhz7fcLzGkpbw",
      "authorship_tag": "ABX9TyP2q5bZMj4gCaODd9RZjOLh",
      "include_colab_link": true
    },
    "kernelspec": {
      "name": "python3",
      "display_name": "Python 3"
    },
    "language_info": {
      "name": "python"
    },
    "accelerator": "GPU"
  },
  "cells": [
    {
      "cell_type": "markdown",
      "metadata": {
        "id": "view-in-github",
        "colab_type": "text"
      },
      "source": [
        "<a href=\"https://colab.research.google.com/github/Faouzi-Slimi/python_Avancee/blob/main/Home_Work_Dogs_Cats_Classsification.ipynb\" target=\"_parent\"><img src=\"https://colab.research.google.com/assets/colab-badge.svg\" alt=\"Open In Colab\"/></a>"
      ]
    },
    {
      "cell_type": "markdown",
      "source": [
        "## Import Data"
      ],
      "metadata": {
        "id": "xlrGy8VxoJf3"
      }
    },
    {
      "cell_type": "code",
      "source": [
        "# import package\n",
        "import pandas as pd \n",
        "import numpy as np\n",
        "from PIL import Image\n",
        "import os\n",
        "import matplotlib.pyplot as plt\n"
      ],
      "metadata": {
        "id": "g63ZZzZYoRgI"
      },
      "execution_count": null,
      "outputs": []
    },
    {
      "cell_type": "code",
      "source": [
        "def get_data_set(filepath):\n",
        "  imgs=[]\n",
        "  labels = []\n",
        "  print(\"start reading files...\")\n",
        "  for f in os.listdir(filepath):\n",
        "    if not (f.endswith(\"pmg\")):\n",
        "      if f.startswith(\"dog\") :\n",
        "        labels.append(1)\n",
        "      else :\n",
        "        labels.append(0)\n",
        "\n",
        "      print(\"Reading files....\")\n",
        "      imgg = Image.open(filepath+\"/\"+f)\n",
        "      imgg = imgg.resize((250,250))\n",
        "      img = np.asarray(imgg)\n",
        "      imgs.append(img)\n",
        "  print(\"Reading finished...\")\n",
        "  return np.asarray(imgs),labels\n",
        "filepath = (\"/content/drive/MyDrive/Data\")\n",
        "imgs,labels = get_data_set(filepath)"
      ],
      "metadata": {
        "id": "_E7S7rzYrO0L"
      },
      "execution_count": null,
      "outputs": []
    },
    {
      "cell_type": "code",
      "source": [
        "## Plot photo\n",
        "rndm = np.random.randint(0,59)\n",
        "plt.imshow(imgs[rndm])"
      ],
      "metadata": {
        "id": "g1I-eEIFswUY"
      },
      "execution_count": null,
      "outputs": []
    },
    {
      "cell_type": "markdown",
      "source": [
        "## Split Data"
      ],
      "metadata": {
        "id": "VQyHqFoT47On"
      }
    },
    {
      "cell_type": "code",
      "source": [
        "# set the random seed\n",
        "import tensorflow as tf\n",
        "tf.random.set_seed(42)\n",
        "# Split Data\n",
        "from sklearn.model_selection import train_test_split\n",
        "xtrain,xtest,ytrain,ytest = train_test_split(imgs,labels,test_size = 0.33)\n",
        "xtrain = np.array(xtrain)\n",
        "xtest = np.array(xtest)\n",
        "ytrain = np.array(ytrain)\n",
        "ytest = np.array(ytest)\n",
        "\n"
      ],
      "metadata": {
        "id": "Iuq-cyaD4_hE"
      },
      "execution_count": null,
      "outputs": []
    },
    {
      "cell_type": "markdown",
      "source": [
        "## Create First Model"
      ],
      "metadata": {
        "id": "Cqusa_hq2Js-"
      }
    },
    {
      "cell_type": "code",
      "source": [
        "# Import Libray\n",
        "from keras.layers import Flatten\n",
        "from keras import Sequential\n",
        "from keras.layers import Convolution2D\n",
        "from keras.layers import MaxPooling2D\n",
        "from keras.layers import Flatten\n",
        "from keras.layers import Dense\n",
        "import keras.losses\n",
        "import keras.optimizers"
      ],
      "metadata": {
        "id": "tupzN_VI4WXL"
      },
      "execution_count": null,
      "outputs": []
    },
    {
      "cell_type": "code",
      "source": [
        "# Set the random seed\n",
        "tf.random.set_seed(42)\n",
        "\n",
        "# Create the model\n",
        "\n",
        "model1 = Sequential()\n",
        "\n",
        "model1.add(Convolution2D(200,input_shape=(250,250,3),kernel_size=8,activation = 'relu'))\n",
        "model1.add(MaxPooling2D(pool_size=(3,3)))\n",
        "model1.add(Flatten())\n",
        "model1.add(Dense(200,activation = 'relu'))\n",
        "model1.add(Dense(2,activation='sigmoid'))"
      ],
      "metadata": {
        "id": "O_E0R2s42TYH"
      },
      "execution_count": null,
      "outputs": []
    },
    {
      "cell_type": "code",
      "source": [
        "# Compile the model\n",
        "\n",
        "model1.compile(optimizer =tf.keras.optimizers.Adam(learning_rate = 0.001),loss = \"SparseCategoricalCrossentropy\",metrics=[\"accuracy\"] )"
      ],
      "metadata": {
        "id": "xlRX-9W38JCZ"
      },
      "execution_count": null,
      "outputs": []
    },
    {
      "cell_type": "code",
      "source": [
        "model1.fit(xtrain,ytrain,validation_data=(xtest,ytest),epochs=50,batch_size=32)"
      ],
      "metadata": {
        "id": "bTmKNfFq83ML"
      },
      "execution_count": null,
      "outputs": []
    },
    {
      "cell_type": "code",
      "source": [
        "## Model Summary\n",
        "model1.summary()"
      ],
      "metadata": {
        "id": "o5BrbuxoAewl"
      },
      "execution_count": null,
      "outputs": []
    }
  ]
}